{
 "cells": [
  {
   "cell_type": "markdown",
   "id": "f152618b",
   "metadata": {},
   "source": [
    "### Logistic Regression"
   ]
  },
  {
   "cell_type": "markdown",
   "id": "6ce66afb",
   "metadata": {},
   "source": [
    "Binary classification\n",
    "\n",
    "Multi class classification"
   ]
  },
  {
   "cell_type": "markdown",
   "id": "39aff1f4",
   "metadata": {},
   "source": [
    "Why can't we use Linear regression for a classification problem? "
   ]
  },
  {
   "cell_type": "markdown",
   "id": "fe793259",
   "metadata": {},
   "source": [
    "let's see"
   ]
  },
  {
   "cell_type": "markdown",
   "id": "15996e91",
   "metadata": {},
   "source": [
    "y_pred = m*x + c"
   ]
  },
  {
   "cell_type": "markdown",
   "id": "be3b9cfd",
   "metadata": {},
   "source": [
    "##### Reason1"
   ]
  },
  {
   "cell_type": "markdown",
   "id": "88638d5d",
   "metadata": {},
   "source": [
    "In Binary classification, output will either be 0 or 1\n",
    "\n",
    "0 <= y_pred <=1"
   ]
  },
  {
   "cell_type": "markdown",
   "id": "56e0a750",
   "metadata": {},
   "source": [
    "But in linear regression, it can go beyond that\n",
    "\n",
    "y_pred < 0 or y_pred > 1"
   ]
  },
  {
   "cell_type": "markdown",
   "id": "55160d5f",
   "metadata": {},
   "source": [
    "##### Reason2"
   ]
  },
  {
   "cell_type": "markdown",
   "id": "31cc2ea9",
   "metadata": {},
   "source": [
    "The best fit line keeps changing if there is any outlier\n",
    "\n",
    "Which will classify the data incorrectly"
   ]
  },
  {
   "cell_type": "code",
   "execution_count": 68,
   "id": "485138aa",
   "metadata": {},
   "outputs": [],
   "source": [
    "import numpy as np\n",
    "import pandas as pd\n",
    "import matplotlib.pyplot as plt\n",
    "%matplotlib inline"
   ]
  },
  {
   "cell_type": "code",
   "execution_count": 69,
   "id": "500f60b3",
   "metadata": {},
   "outputs": [],
   "source": [
    "np.random.seed(69)\n",
    "weights = np.random.randint(50,101,size=15)\n",
    "obese = (weights>75).astype(int)"
   ]
  },
  {
   "cell_type": "code",
   "execution_count": 70,
   "id": "61e6535b",
   "metadata": {},
   "outputs": [
    {
     "data": {
      "text/plain": [
       "array([61, 59, 93, 76, 70, 99, 72, 59, 83, 88, 82, 74, 62, 87, 92])"
      ]
     },
     "execution_count": 70,
     "metadata": {},
     "output_type": "execute_result"
    }
   ],
   "source": [
    "weights"
   ]
  },
  {
   "cell_type": "code",
   "execution_count": 71,
   "id": "7f44a61b",
   "metadata": {},
   "outputs": [
    {
     "data": {
      "text/plain": [
       "array([0, 0, 1, 1, 0, 1, 0, 0, 1, 1, 1, 0, 0, 1, 1])"
      ]
     },
     "execution_count": 71,
     "metadata": {},
     "output_type": "execute_result"
    }
   ],
   "source": [
    "obese"
   ]
  },
  {
   "cell_type": "code",
   "execution_count": 72,
   "id": "9485ef63",
   "metadata": {},
   "outputs": [],
   "source": [
    "df = pd.DataFrame({\"weight\":weights,\"obese\":obese})"
   ]
  },
  {
   "cell_type": "code",
   "execution_count": 73,
   "id": "94034162",
   "metadata": {},
   "outputs": [
    {
     "data": {
      "text/html": [
       "<div>\n",
       "<style scoped>\n",
       "    .dataframe tbody tr th:only-of-type {\n",
       "        vertical-align: middle;\n",
       "    }\n",
       "\n",
       "    .dataframe tbody tr th {\n",
       "        vertical-align: top;\n",
       "    }\n",
       "\n",
       "    .dataframe thead th {\n",
       "        text-align: right;\n",
       "    }\n",
       "</style>\n",
       "<table border=\"1\" class=\"dataframe\">\n",
       "  <thead>\n",
       "    <tr style=\"text-align: right;\">\n",
       "      <th></th>\n",
       "      <th>weight</th>\n",
       "      <th>obese</th>\n",
       "    </tr>\n",
       "  </thead>\n",
       "  <tbody>\n",
       "    <tr>\n",
       "      <th>0</th>\n",
       "      <td>61</td>\n",
       "      <td>0</td>\n",
       "    </tr>\n",
       "    <tr>\n",
       "      <th>1</th>\n",
       "      <td>59</td>\n",
       "      <td>0</td>\n",
       "    </tr>\n",
       "    <tr>\n",
       "      <th>2</th>\n",
       "      <td>93</td>\n",
       "      <td>1</td>\n",
       "    </tr>\n",
       "    <tr>\n",
       "      <th>3</th>\n",
       "      <td>76</td>\n",
       "      <td>1</td>\n",
       "    </tr>\n",
       "    <tr>\n",
       "      <th>4</th>\n",
       "      <td>70</td>\n",
       "      <td>0</td>\n",
       "    </tr>\n",
       "  </tbody>\n",
       "</table>\n",
       "</div>"
      ],
      "text/plain": [
       "   weight  obese\n",
       "0      61      0\n",
       "1      59      0\n",
       "2      93      1\n",
       "3      76      1\n",
       "4      70      0"
      ]
     },
     "execution_count": 73,
     "metadata": {},
     "output_type": "execute_result"
    }
   ],
   "source": [
    "df.head()"
   ]
  },
  {
   "cell_type": "code",
   "execution_count": 74,
   "id": "ad1d27cb",
   "metadata": {},
   "outputs": [
    {
     "data": {
      "image/png": "[encoded data removed]",
      "text/plain": [
       "<Figure size 800x500 with 1 Axes>"
      ]
     },
     "metadata": {},
     "output_type": "display_data"
    }
   ],
   "source": [
    "plt.figure(figsize=(8,5))\n",
    "plt.scatter(df[\"weight\"],df[\"obese\"],color=['red' if x else 'green' for x in df[\"obese\"]],s=100,edgecolors='black')\n",
    "plt.xlabel(\"Weights in kg\")\n",
    "plt.ylabel(\"Obese\")\n",
    "plt.show()"
   ]
  },
  {
   "cell_type": "code",
   "execution_count": 75,
   "id": "cd2fc5e3",
   "metadata": {},
   "outputs": [],
   "source": [
    "from sklearn.linear_model import LinearRegression"
   ]
  },
  {
   "cell_type": "code",
   "execution_count": 76,
   "id": "9a5fefd7",
   "metadata": {},
   "outputs": [],
   "source": [
    "model = LinearRegression()"
   ]
  },
  {
   "cell_type": "code",
   "execution_count": 77,
   "id": "f0d0272c",
   "metadata": {},
   "outputs": [
    {
     "data": {
      "text/plain": [
       "(15,)"
      ]
     },
     "execution_count": 77,
     "metadata": {},
     "output_type": "execute_result"
    }
   ],
   "source": [
    "weights.shape"
   ]
  },
  {
   "cell_type": "code",
   "execution_count": 78,
   "id": "221abbcc",
   "metadata": {},
   "outputs": [
    {
     "data": {
      "text/plain": [
       "(15,)"
      ]
     },
     "execution_count": 78,
     "metadata": {},
     "output_type": "execute_result"
    }
   ],
   "source": [
    "obese.shape"
   ]
  },
  {
   "cell_type": "code",
   "execution_count": 79,
   "id": "96abc097",
   "metadata": {},
   "outputs": [],
   "source": [
    "weights = weights.reshape(-1,1)"
   ]
  },
  {
   "cell_type": "code",
   "execution_count": 80,
   "id": "ee5a6c35",
   "metadata": {},
   "outputs": [
    {
     "data": {
      "text/plain": [
       "(15, 1)"
      ]
     },
     "execution_count": 80,
     "metadata": {},
     "output_type": "execute_result"
    }
   ],
   "source": [
    "weights.shape"
   ]
  },
  {
   "cell_type": "code",
   "execution_count": 81,
   "id": "5143b14c",
   "metadata": {},
   "outputs": [],
   "source": [
    "obese = obese.ravel()"
   ]
  },
  {
   "cell_type": "code",
   "execution_count": 82,
   "id": "d100814d",
   "metadata": {},
   "outputs": [
    {
     "data": {
      "text/plain": [
       "array([0, 0, 1, 1, 0, 1, 0, 0, 1, 1, 1, 0, 0, 1, 1])"
      ]
     },
     "execution_count": 82,
     "metadata": {},
     "output_type": "execute_result"
    }
   ],
   "source": [
    "obese"
   ]
  },
  {
   "cell_type": "code",
   "execution_count": 83,
   "id": "8bbd52c2",
   "metadata": {},
   "outputs": [
    {
     "data": {
      "text/plain": [
       "(15,)"
      ]
     },
     "execution_count": 83,
     "metadata": {},
     "output_type": "execute_result"
    }
   ],
   "source": [
    "obese.shape"
   ]
  },
  {
   "cell_type": "code",
   "execution_count": 84,
   "id": "1697c147",
   "metadata": {},
   "outputs": [
    {
     "data": {
      "text/html": [
       "<style>#sk-container-id-2 {color: black;}#sk-container-id-2 pre{padding: 0;}#sk-container-id-2 div.sk-toggleable {background-color: white;}#sk-container-id-2 label.sk-toggleable__label {cursor: pointer;display: block;width: 100%;margin-bottom: 0;padding: 0.3em;box-sizing: border-box;text-align: center;}#sk-container-id-2 label.sk-toggleable__label-arrow:before {content: \"▸\";float: left;margin-right: 0.25em;color: #696969;}#sk-container-id-2 label.sk-toggleable__label-arrow:hover:before {color: black;}#sk-container-id-2 div.sk-estimator:hover label.sk-toggleable__label-arrow:before {color: black;}#sk-container-id-2 div.sk-toggleable__content {max-height: 0;max-width: 0;overflow: hidden;text-align: left;background-color: #f0f8ff;}#sk-container-id-2 div.sk-toggleable__content pre {margin: 0.2em;color: black;border-radius: 0.25em;background-color: #f0f8ff;}#sk-container-id-2 input.sk-toggleable__control:checked~div.sk-toggleable__content {max-height: 200px;max-width: 100%;overflow: auto;}#sk-container-id-2 input.sk-toggleable__control:checked~label.sk-toggleable__label-arrow:before {content: \"▾\";}#sk-container-id-2 div.sk-estimator input.sk-toggleable__control:checked~label.sk-toggleable__label {background-color: #d4ebff;}#sk-container-id-2 div.sk-label input.sk-toggleable__control:checked~label.sk-toggleable__label {background-color: #d4ebff;}#sk-container-id-2 input.sk-hidden--visually {border: 0;clip: rect(1px 1px 1px 1px);clip: rect(1px, 1px, 1px, 1px);height: 1px;margin: -1px;overflow: hidden;padding: 0;position: absolute;width: 1px;}#sk-container-id-2 div.sk-estimator {font-family: monospace;background-color: #f0f8ff;border: 1px dotted black;border-radius: 0.25em;box-sizing: border-box;margin-bottom: 0.5em;}#sk-container-id-2 div.sk-estimator:hover {background-color: #d4ebff;}#sk-container-id-2 div.sk-parallel-item::after {content: \"\";width: 100%;border-bottom: 1px solid gray;flex-grow: 1;}#sk-container-id-2 div.sk-label:hover label.sk-toggleable__label {background-color: #d4ebff;}#sk-container-id-2 div.sk-serial::before {content: \"\";position: absolute;border-left: 1px solid gray;box-sizing: border-box;top: 0;bottom: 0;left: 50%;z-index: 0;}#sk-container-id-2 div.sk-serial {display: flex;flex-direction: column;align-items: center;background-color: white;padding-right: 0.2em;padding-left: 0.2em;position: relative;}#sk-container-id-2 div.sk-item {position: relative;z-index: 1;}#sk-container-id-2 div.sk-parallel {display: flex;align-items: stretch;justify-content: center;background-color: white;position: relative;}#sk-container-id-2 div.sk-item::before, #sk-container-id-2 div.sk-parallel-item::before {content: \"\";position: absolute;border-left: 1px solid gray;box-sizing: border-box;top: 0;bottom: 0;left: 50%;z-index: -1;}#sk-container-id-2 div.sk-parallel-item {display: flex;flex-direction: column;z-index: 1;position: relative;background-color: white;}#sk-container-id-2 div.sk-parallel-item:first-child::after {align-self: flex-end;width: 50%;}#sk-container-id-2 div.sk-parallel-item:last-child::after {align-self: flex-start;width: 50%;}#sk-container-id-2 div.sk-parallel-item:only-child::after {width: 0;}#sk-container-id-2 div.sk-dashed-wrapped {border: 1px dashed gray;margin: 0 0.4em 0.5em 0.4em;box-sizing: border-box;padding-bottom: 0.4em;background-color: white;}#sk-container-id-2 div.sk-label label {font-family: monospace;font-weight: bold;display: inline-block;line-height: 1.2em;}#sk-container-id-2 div.sk-label-container {text-align: center;}#sk-container-id-2 div.sk-container {/* jupyter's `normalize.less` sets `[hidden] { display: none; }` but bootstrap.min.css set `[hidden] { display: none !important; }` so we also need the `!important` here to be able to override the default hidden behavior on the sphinx rendered scikit-learn.org. See: https://github.com/scikit-learn/scikit-learn/issues/21755 */display: inline-block !important;position: relative;}#sk-container-id-2 div.sk-text-repr-fallback {display: none;}</style><div id=\"sk-container-id-2\" class=\"sk-top-container\"><div class=\"sk-text-repr-fallback\"><pre>LinearRegression()</pre><b>In a Jupyter environment, please rerun this cell to show the HTML representation or trust the notebook. <br />On GitHub, the HTML representation is unable to render, please try loading this page with nbviewer.org.</b></div><div class=\"sk-container\" hidden><div class=\"sk-item\"><div class=\"sk-estimator sk-toggleable\"><input class=\"sk-toggleable__control sk-hidden--visually\" id=\"sk-estimator-id-2\" type=\"checkbox\" checked><label for=\"sk-estimator-id-2\" class=\"sk-toggleable__label sk-toggleable__label-arrow\">LinearRegression</label><div class=\"sk-toggleable__content\"><pre>LinearRegression()</pre></div></div></div></div></div>"
      ],
      "text/plain": [
       "LinearRegression()"
      ]
     },
     "execution_count": 84,
     "metadata": {},
     "output_type": "execute_result"
    }
   ],
   "source": [
    "model.fit(weights, obese)"
   ]
  },
  {
   "cell_type": "code",
   "execution_count": 85,
   "id": "5e93c988",
   "metadata": {},
   "outputs": [
    {
     "data": {
      "text/plain": [
       "array([0.03371639])"
      ]
     },
     "execution_count": 85,
     "metadata": {},
     "output_type": "execute_result"
    }
   ],
   "source": [
    "model.coef_"
   ]
  },
  {
   "cell_type": "code",
   "execution_count": 86,
   "id": "2f7197d4",
   "metadata": {},
   "outputs": [
    {
     "data": {
      "text/plain": [
       "-2.067324371205551"
      ]
     },
     "execution_count": 86,
     "metadata": {},
     "output_type": "execute_result"
    }
   ],
   "source": [
    "model.intercept_"
   ]
  },
  {
   "cell_type": "code",
   "execution_count": 87,
   "id": "fce7cc19",
   "metadata": {},
   "outputs": [],
   "source": [
    "m = model.coef_[0]\n",
    "c = model.intercept_"
   ]
  },
  {
   "cell_type": "code",
   "execution_count": 88,
   "id": "7d2103b1",
   "metadata": {},
   "outputs": [
    {
     "name": "stdout",
     "output_type": "stream",
     "text": [
      "0.033716392020815264 -2.067324371205551\n"
     ]
    }
   ],
   "source": [
    "print(m,c)"
   ]
  },
  {
   "cell_type": "code",
   "execution_count": 89,
   "id": "ed03c21c",
   "metadata": {},
   "outputs": [],
   "source": [
    "weights_range = np.linspace(50,100,100).reshape(-1,1)"
   ]
  },
  {
   "cell_type": "code",
   "execution_count": 90,
   "id": "1a032692",
   "metadata": {},
   "outputs": [
    {
     "data": {
      "text/plain": [
       "100"
      ]
     },
     "execution_count": 90,
     "metadata": {},
     "output_type": "execute_result"
    }
   ],
   "source": [
    "len(weights_range)"
   ]
  },
  {
   "cell_type": "code",
   "execution_count": 91,
   "id": "33f3c76a",
   "metadata": {},
   "outputs": [],
   "source": [
    "obese_preds = model.predict(weights_range)"
   ]
  },
  {
   "cell_type": "code",
   "execution_count": 92,
   "id": "6fe1ea2f",
   "metadata": {},
   "outputs": [
    {
     "data": {
      "text/plain": [
       "100"
      ]
     },
     "execution_count": 92,
     "metadata": {},
     "output_type": "execute_result"
    }
   ],
   "source": [
    "len(obese_preds)"
   ]
  },
  {
   "cell_type": "code",
   "execution_count": 93,
   "id": "957f2be5",
   "metadata": {},
   "outputs": [
    {
     "data": {
      "image/png": "[encoded data removed]",
      "text/plain": [
       "<Figure size 800x500 with 1 Axes>"
      ]
     },
     "metadata": {},
     "output_type": "display_data"
    }
   ],
   "source": [
    "plt.figure(figsize=(8,5))\n",
    "plt.scatter(df[\"weight\"],df[\"obese\"],color=['red' if x else 'green' for x in df[\"obese\"]],s=100,edgecolors='black')\n",
    "plt.xlabel(\"Weights in kg\")\n",
    "plt.ylabel(\"Obese\")\n",
    "plt.plot(weights_range, obese_preds, color=\"blue\", linewidth=2, label=\"Best fit line\")\n",
    "plt.show()"
   ]
  },
  {
   "cell_type": "markdown",
   "id": "b2cb2e6d",
   "metadata": {},
   "source": [
    "Consider threshold as 0.5\n",
    "\n",
    "If we use linear regression, and assume that if y_pred >= 0.5 => Obese\n",
    "\n",
    "Else if y_pred < 0.5 => Not Obese"
   ]
  },
  {
   "cell_type": "code",
   "execution_count": 94,
   "id": "be69a428",
   "metadata": {},
   "outputs": [
    {
     "data": {
      "text/plain": [
       "76.14469453376206"
      ]
     },
     "execution_count": 94,
     "metadata": {},
     "output_type": "execute_result"
    }
   ],
   "source": [
    "weight_at_0_5 = (0.5 - c) / m\n",
    "weight_at_0_5"
   ]
  },
  {
   "cell_type": "code",
   "execution_count": 95,
   "id": "7762e382",
   "metadata": {},
   "outputs": [
    {
     "data": {
      "image/png": "[encoded data removed]",
      "text/plain": [
       "<Figure size 800x500 with 1 Axes>"
      ]
     },
     "metadata": {},
     "output_type": "display_data"
    }
   ],
   "source": [
    "plt.figure(figsize=(8,5))\n",
    "plt.scatter(df[\"weight\"],df[\"obese\"],color=['red' if x else 'green' for x in df[\"obese\"]],s=100,edgecolors='black')\n",
    "plt.xlabel(\"Weights in kg\")\n",
    "plt.ylabel(\"Obese\")\n",
    "plt.plot(weights_range, obese_preds, color=\"blue\", linewidth=2, label=\"Best fit line\")\n",
    "plt.axvline(weight_at_0_5, color='purple', linestyle='dashed')\n",
    "plt.scatter(weight_at_0_5, 0.5, color='purple', s=150, edgecolors='black', label='Threshold point')\n",
    "plt.show()"
   ]
  },
  {
   "cell_type": "code",
   "execution_count": 96,
   "id": "52ecf841",
   "metadata": {},
   "outputs": [
    {
     "name": "stdout",
     "output_type": "stream",
     "text": [
      "Weight at which obesity classification is 0.5: 76.14 kg\n"
     ]
    }
   ],
   "source": [
    "print(f\"Weight at which obesity classification is 0.5: {weight_at_0_5:.2f} kg\")"
   ]
  },
  {
   "cell_type": "markdown",
   "id": "c873912e",
   "metadata": {},
   "source": [
    "##### Now let's say there is an outlier in our data"
   ]
  },
  {
   "cell_type": "code",
   "execution_count": 97,
   "id": "eaf34939",
   "metadata": {},
   "outputs": [],
   "source": [
    "outlier_data = {\"weight\": 115, \"obese\": 1}"
   ]
  },
  {
   "cell_type": "code",
   "execution_count": 98,
   "id": "679e38e3",
   "metadata": {},
   "outputs": [
    {
     "data": {
      "text/plain": [
       "15"
      ]
     },
     "execution_count": 98,
     "metadata": {},
     "output_type": "execute_result"
    }
   ],
   "source": [
    "len(df)"
   ]
  },
  {
   "cell_type": "code",
   "execution_count": 99,
   "id": "3b04a6c5",
   "metadata": {},
   "outputs": [
    {
     "data": {
      "text/html": [
       "<div>\n",
       "<style scoped>\n",
       "    .dataframe tbody tr th:only-of-type {\n",
       "        vertical-align: middle;\n",
       "    }\n",
       "\n",
       "    .dataframe tbody tr th {\n",
       "        vertical-align: top;\n",
       "    }\n",
       "\n",
       "    .dataframe thead th {\n",
       "        text-align: right;\n",
       "    }\n",
       "</style>\n",
       "<table border=\"1\" class=\"dataframe\">\n",
       "  <thead>\n",
       "    <tr style=\"text-align: right;\">\n",
       "      <th></th>\n",
       "      <th>weight</th>\n",
       "      <th>obese</th>\n",
       "    </tr>\n",
       "  </thead>\n",
       "  <tbody>\n",
       "    <tr>\n",
       "      <th>10</th>\n",
       "      <td>82</td>\n",
       "      <td>1</td>\n",
       "    </tr>\n",
       "    <tr>\n",
       "      <th>11</th>\n",
       "      <td>74</td>\n",
       "      <td>0</td>\n",
       "    </tr>\n",
       "    <tr>\n",
       "      <th>12</th>\n",
       "      <td>62</td>\n",
       "      <td>0</td>\n",
       "    </tr>\n",
       "    <tr>\n",
       "      <th>13</th>\n",
       "      <td>87</td>\n",
       "      <td>1</td>\n",
       "    </tr>\n",
       "    <tr>\n",
       "      <th>14</th>\n",
       "      <td>92</td>\n",
       "      <td>1</td>\n",
       "    </tr>\n",
       "  </tbody>\n",
       "</table>\n",
       "</div>"
      ],
      "text/plain": [
       "    weight  obese\n",
       "10      82      1\n",
       "11      74      0\n",
       "12      62      0\n",
       "13      87      1\n",
       "14      92      1"
      ]
     },
     "execution_count": 99,
     "metadata": {},
     "output_type": "execute_result"
    }
   ],
   "source": [
    "df.tail()"
   ]
  },
  {
   "cell_type": "code",
   "execution_count": 100,
   "id": "487c27d2",
   "metadata": {},
   "outputs": [
    {
     "data": {
      "text/html": [
       "<div>\n",
       "<style scoped>\n",
       "    .dataframe tbody tr th:only-of-type {\n",
       "        vertical-align: middle;\n",
       "    }\n",
       "\n",
       "    .dataframe tbody tr th {\n",
       "        vertical-align: top;\n",
       "    }\n",
       "\n",
       "    .dataframe thead th {\n",
       "        text-align: right;\n",
       "    }\n",
       "</style>\n",
       "<table border=\"1\" class=\"dataframe\">\n",
       "  <thead>\n",
       "    <tr style=\"text-align: right;\">\n",
       "      <th></th>\n",
       "      <th>weight</th>\n",
       "      <th>obese</th>\n",
       "    </tr>\n",
       "  </thead>\n",
       "  <tbody>\n",
       "    <tr>\n",
       "      <th>11</th>\n",
       "      <td>74</td>\n",
       "      <td>0</td>\n",
       "    </tr>\n",
       "    <tr>\n",
       "      <th>12</th>\n",
       "      <td>62</td>\n",
       "      <td>0</td>\n",
       "    </tr>\n",
       "    <tr>\n",
       "      <th>13</th>\n",
       "      <td>87</td>\n",
       "      <td>1</td>\n",
       "    </tr>\n",
       "    <tr>\n",
       "      <th>14</th>\n",
       "      <td>92</td>\n",
       "      <td>1</td>\n",
       "    </tr>\n",
       "    <tr>\n",
       "      <th>15</th>\n",
       "      <td>115</td>\n",
       "      <td>1</td>\n",
       "    </tr>\n",
       "  </tbody>\n",
       "</table>\n",
       "</div>"
      ],
      "text/plain": [
       "    weight  obese\n",
       "11      74      0\n",
       "12      62      0\n",
       "13      87      1\n",
       "14      92      1\n",
       "15     115      1"
      ]
     },
     "execution_count": 100,
     "metadata": {},
     "output_type": "execute_result"
    }
   ],
   "source": [
    "df.loc[len(df)] = outlier_data\n",
    "df.tail()"
   ]
  },
  {
   "cell_type": "code",
   "execution_count": 101,
   "id": "4c34b7ea",
   "metadata": {},
   "outputs": [
    {
     "data": {
      "text/plain": [
       "(16, 2)"
      ]
     },
     "execution_count": 101,
     "metadata": {},
     "output_type": "execute_result"
    }
   ],
   "source": [
    "df.shape"
   ]
  },
  {
   "cell_type": "code",
   "execution_count": 106,
   "id": "45109678",
   "metadata": {},
   "outputs": [],
   "source": [
    "new_weights = np.array(df[\"weight\"]).reshape(-1,1)"
   ]
  },
  {
   "cell_type": "code",
   "execution_count": 107,
   "id": "b2be1d6f",
   "metadata": {},
   "outputs": [
    {
     "data": {
      "text/html": [
       "<style>#sk-container-id-3 {color: black;}#sk-container-id-3 pre{padding: 0;}#sk-container-id-3 div.sk-toggleable {background-color: white;}#sk-container-id-3 label.sk-toggleable__label {cursor: pointer;display: block;width: 100%;margin-bottom: 0;padding: 0.3em;box-sizing: border-box;text-align: center;}#sk-container-id-3 label.sk-toggleable__label-arrow:before {content: \"▸\";float: left;margin-right: 0.25em;color: #696969;}#sk-container-id-3 label.sk-toggleable__label-arrow:hover:before {color: black;}#sk-container-id-3 div.sk-estimator:hover label.sk-toggleable__label-arrow:before {color: black;}#sk-container-id-3 div.sk-toggleable__content {max-height: 0;max-width: 0;overflow: hidden;text-align: left;background-color: #f0f8ff;}#sk-container-id-3 div.sk-toggleable__content pre {margin: 0.2em;color: black;border-radius: 0.25em;background-color: #f0f8ff;}#sk-container-id-3 input.sk-toggleable__control:checked~div.sk-toggleable__content {max-height: 200px;max-width: 100%;overflow: auto;}#sk-container-id-3 input.sk-toggleable__control:checked~label.sk-toggleable__label-arrow:before {content: \"▾\";}#sk-container-id-3 div.sk-estimator input.sk-toggleable__control:checked~label.sk-toggleable__label {background-color: #d4ebff;}#sk-container-id-3 div.sk-label input.sk-toggleable__control:checked~label.sk-toggleable__label {background-color: #d4ebff;}#sk-container-id-3 input.sk-hidden--visually {border: 0;clip: rect(1px 1px 1px 1px);clip: rect(1px, 1px, 1px, 1px);height: 1px;margin: -1px;overflow: hidden;padding: 0;position: absolute;width: 1px;}#sk-container-id-3 div.sk-estimator {font-family: monospace;background-color: #f0f8ff;border: 1px dotted black;border-radius: 0.25em;box-sizing: border-box;margin-bottom: 0.5em;}#sk-container-id-3 div.sk-estimator:hover {background-color: #d4ebff;}#sk-container-id-3 div.sk-parallel-item::after {content: \"\";width: 100%;border-bottom: 1px solid gray;flex-grow: 1;}#sk-container-id-3 div.sk-label:hover label.sk-toggleable__label {background-color: #d4ebff;}#sk-container-id-3 div.sk-serial::before {content: \"\";position: absolute;border-left: 1px solid gray;box-sizing: border-box;top: 0;bottom: 0;left: 50%;z-index: 0;}#sk-container-id-3 div.sk-serial {display: flex;flex-direction: column;align-items: center;background-color: white;padding-right: 0.2em;padding-left: 0.2em;position: relative;}#sk-container-id-3 div.sk-item {position: relative;z-index: 1;}#sk-container-id-3 div.sk-parallel {display: flex;align-items: stretch;justify-content: center;background-color: white;position: relative;}#sk-container-id-3 div.sk-item::before, #sk-container-id-3 div.sk-parallel-item::before {content: \"\";position: absolute;border-left: 1px solid gray;box-sizing: border-box;top: 0;bottom: 0;left: 50%;z-index: -1;}#sk-container-id-3 div.sk-parallel-item {display: flex;flex-direction: column;z-index: 1;position: relative;background-color: white;}#sk-container-id-3 div.sk-parallel-item:first-child::after {align-self: flex-end;width: 50%;}#sk-container-id-3 div.sk-parallel-item:last-child::after {align-self: flex-start;width: 50%;}#sk-container-id-3 div.sk-parallel-item:only-child::after {width: 0;}#sk-container-id-3 div.sk-dashed-wrapped {border: 1px dashed gray;margin: 0 0.4em 0.5em 0.4em;box-sizing: border-box;padding-bottom: 0.4em;background-color: white;}#sk-container-id-3 div.sk-label label {font-family: monospace;font-weight: bold;display: inline-block;line-height: 1.2em;}#sk-container-id-3 div.sk-label-container {text-align: center;}#sk-container-id-3 div.sk-container {/* jupyter's `normalize.less` sets `[hidden] { display: none; }` but bootstrap.min.css set `[hidden] { display: none !important; }` so we also need the `!important` here to be able to override the default hidden behavior on the sphinx rendered scikit-learn.org. See: https://github.com/scikit-learn/scikit-learn/issues/21755 */display: inline-block !important;position: relative;}#sk-container-id-3 div.sk-text-repr-fallback {display: none;}</style><div id=\"sk-container-id-3\" class=\"sk-top-container\"><div class=\"sk-text-repr-fallback\"><pre>LinearRegression()</pre><b>In a Jupyter environment, please rerun this cell to show the HTML representation or trust the notebook. <br />On GitHub, the HTML representation is unable to render, please try loading this page with nbviewer.org.</b></div><div class=\"sk-container\" hidden><div class=\"sk-item\"><div class=\"sk-estimator sk-toggleable\"><input class=\"sk-toggleable__control sk-hidden--visually\" id=\"sk-estimator-id-3\" type=\"checkbox\" checked><label for=\"sk-estimator-id-3\" class=\"sk-toggleable__label sk-toggleable__label-arrow\">LinearRegression</label><div class=\"sk-toggleable__content\"><pre>LinearRegression()</pre></div></div></div></div></div>"
      ],
      "text/plain": [
       "LinearRegression()"
      ]
     },
     "execution_count": 107,
     "metadata": {},
     "output_type": "execute_result"
    }
   ],
   "source": [
    "model.fit(new_weights, np.array(df[\"obese\"]))"
   ]
  },
  {
   "cell_type": "code",
   "execution_count": 114,
   "id": "58df91d0",
   "metadata": {},
   "outputs": [
    {
     "data": {
      "text/plain": [
       "array([0.02615668])"
      ]
     },
     "execution_count": 114,
     "metadata": {},
     "output_type": "execute_result"
    }
   ],
   "source": [
    "model.coef_"
   ]
  },
  {
   "cell_type": "code",
   "execution_count": 115,
   "id": "095569b0",
   "metadata": {},
   "outputs": [
    {
     "data": {
      "text/plain": [
       "-1.516955835962146"
      ]
     },
     "execution_count": 115,
     "metadata": {},
     "output_type": "execute_result"
    }
   ],
   "source": [
    "model.intercept_"
   ]
  },
  {
   "cell_type": "code",
   "execution_count": 118,
   "id": "fed73131",
   "metadata": {},
   "outputs": [],
   "source": [
    "m = model.coef_[0]\n",
    "c = model.intercept_"
   ]
  },
  {
   "cell_type": "code",
   "execution_count": 119,
   "id": "baf80a10",
   "metadata": {},
   "outputs": [
    {
     "name": "stdout",
     "output_type": "stream",
     "text": [
      "0.026156677181913786 -1.516955835962146\n"
     ]
    }
   ],
   "source": [
    "print(m,c)"
   ]
  },
  {
   "cell_type": "code",
   "execution_count": 108,
   "id": "bcf83fa8",
   "metadata": {},
   "outputs": [],
   "source": [
    "new_weights_range = np.linspace(50,120,100).reshape(-1,1)\n",
    "new_model_preds = model.predict(new_weights_range).ravel()"
   ]
  },
  {
   "cell_type": "code",
   "execution_count": 109,
   "id": "4a20e7e9",
   "metadata": {},
   "outputs": [
    {
     "data": {
      "text/plain": [
       "(100, 1)"
      ]
     },
     "execution_count": 109,
     "metadata": {},
     "output_type": "execute_result"
    }
   ],
   "source": [
    "new_weights_range.shape"
   ]
  },
  {
   "cell_type": "code",
   "execution_count": 110,
   "id": "1794514b",
   "metadata": {},
   "outputs": [
    {
     "data": {
      "text/plain": [
       "(100,)"
      ]
     },
     "execution_count": 110,
     "metadata": {},
     "output_type": "execute_result"
    }
   ],
   "source": [
    "new_model_preds.shape"
   ]
  },
  {
   "cell_type": "code",
   "execution_count": 111,
   "id": "02af8274",
   "metadata": {},
   "outputs": [
    {
     "data": {
      "image/png": "[encoded data removed]",
      "text/plain": [
       "<Figure size 800x500 with 1 Axes>"
      ]
     },
     "metadata": {},
     "output_type": "display_data"
    }
   ],
   "source": [
    "plt.figure(figsize=(8,5))\n",
    "plt.scatter(df[\"weight\"],df[\"obese\"],color=['red' if x else 'green' for x in df[\"obese\"]],s=100,edgecolors='black')\n",
    "plt.xlabel(\"Weights in kg\")\n",
    "plt.ylabel(\"Obese\")\n",
    "plt.plot(new_weights_range, new_model_preds, color=\"blue\", linewidth=2, label=\"Best fit line\")\n",
    "plt.show()"
   ]
  },
  {
   "cell_type": "code",
   "execution_count": 120,
   "id": "1f0f7847",
   "metadata": {},
   "outputs": [
    {
     "data": {
      "text/plain": [
       "77.1105527638191"
      ]
     },
     "execution_count": 120,
     "metadata": {},
     "output_type": "execute_result"
    }
   ],
   "source": [
    "weight_at_0_5 = (0.5-c)/m\n",
    "weight_at_0_5"
   ]
  },
  {
   "cell_type": "code",
   "execution_count": 139,
   "id": "c87ec1d6",
   "metadata": {},
   "outputs": [
    {
     "data": {
      "image/png": "[encoded data removed]",
      "text/plain": [
       "<Figure size 800x500 with 1 Axes>"
      ]
     },
     "metadata": {},
     "output_type": "display_data"
    }
   ],
   "source": [
    "plt.figure(figsize=(8,5))\n",
    "plt.scatter(df[\"weight\"],df[\"obese\"],color=['red' if x else 'green' for x in df[\"obese\"]],s=100,edgecolors='black')\n",
    "plt.xlabel(\"Weights in kg\")\n",
    "plt.ylabel(\"Obese\")\n",
    "plt.plot(new_weights_range, obese_preds, color=\"blue\", linewidth=2, label=\"Best fit line\")\n",
    "plt.axvline(weight_at_0_5, color='purple', linestyle='dashed')\n",
    "plt.scatter(weight_at_0_5, 0.5, color='purple', s=150, edgecolors='black', label='Threshold point')\n",
    "plt.show()"
   ]
  },
  {
   "cell_type": "code",
   "execution_count": 122,
   "id": "7c651ba1",
   "metadata": {},
   "outputs": [
    {
     "name": "stdout",
     "output_type": "stream",
     "text": [
      "Weight at which obesity classification is 0.5: 77.11 kg\n"
     ]
    }
   ],
   "source": [
    "print(f\"Weight at which obesity classification is 0.5: {weight_at_0_5:.2f} kg\")"
   ]
  },
  {
   "cell_type": "markdown",
   "id": "beb3110f",
   "metadata": {},
   "source": [
    "As you can notice clearly from the above graph, the first red point is classified as **Not Obese** but actually it's an **Obese**"
   ]
  },
  {
   "cell_type": "markdown",
   "id": "3334c2a6",
   "metadata": {},
   "source": [
    "Since, it is less than 0.5 it is classified as not obese"
   ]
  },
  {
   "cell_type": "markdown",
   "id": "683187fd",
   "metadata": {},
   "source": [
    "Just because of one outlier, the classification got changed"
   ]
  },
  {
   "cell_type": "markdown",
   "id": "da76e02f",
   "metadata": {},
   "source": [
    "Thus, we don't use linear regression for a classification problem"
   ]
  },
  {
   "cell_type": "markdown",
   "id": "533b0e39",
   "metadata": {},
   "source": [
    "### Sigmoid function"
   ]
  },
  {
   "cell_type": "markdown",
   "id": "cce15232",
   "metadata": {},
   "source": [
    "##### P(y=1|x) = 1/(1+e^-(m*x + c))"
   ]
  },
  {
   "cell_type": "markdown",
   "id": "3947bc81",
   "metadata": {},
   "source": [
    "For threshold / probability 0.5"
   ]
  },
  {
   "cell_type": "markdown",
   "id": "06b4606d",
   "metadata": {},
   "source": [
    "0.5 = 1/(1+e^-z) where z = m*x + c\n",
    "\n",
    "2 = 1 + e^-z\n",
    "\n",
    "e^-z = 1\n",
    "\n",
    "z = 0\n",
    "\n",
    "m*x + c = 0\n",
    "\n",
    "x = -c/m"
   ]
  },
  {
   "cell_type": "code",
   "execution_count": 127,
   "id": "47396a9f",
   "metadata": {},
   "outputs": [],
   "source": [
    "from sklearn.linear_model import LogisticRegression"
   ]
  },
  {
   "cell_type": "code",
   "execution_count": 128,
   "id": "ff38537c",
   "metadata": {},
   "outputs": [],
   "source": [
    "model_log = LogisticRegression()"
   ]
  },
  {
   "cell_type": "code",
   "execution_count": 129,
   "id": "506f83b4",
   "metadata": {},
   "outputs": [
    {
     "data": {
      "text/html": [
       "<style>#sk-container-id-4 {color: black;}#sk-container-id-4 pre{padding: 0;}#sk-container-id-4 div.sk-toggleable {background-color: white;}#sk-container-id-4 label.sk-toggleable__label {cursor: pointer;display: block;width: 100%;margin-bottom: 0;padding: 0.3em;box-sizing: border-box;text-align: center;}#sk-container-id-4 label.sk-toggleable__label-arrow:before {content: \"▸\";float: left;margin-right: 0.25em;color: #696969;}#sk-container-id-4 label.sk-toggleable__label-arrow:hover:before {color: black;}#sk-container-id-4 div.sk-estimator:hover label.sk-toggleable__label-arrow:before {color: black;}#sk-container-id-4 div.sk-toggleable__content {max-height: 0;max-width: 0;overflow: hidden;text-align: left;background-color: #f0f8ff;}#sk-container-id-4 div.sk-toggleable__content pre {margin: 0.2em;color: black;border-radius: 0.25em;background-color: #f0f8ff;}#sk-container-id-4 input.sk-toggleable__control:checked~div.sk-toggleable__content {max-height: 200px;max-width: 100%;overflow: auto;}#sk-container-id-4 input.sk-toggleable__control:checked~label.sk-toggleable__label-arrow:before {content: \"▾\";}#sk-container-id-4 div.sk-estimator input.sk-toggleable__control:checked~label.sk-toggleable__label {background-color: #d4ebff;}#sk-container-id-4 div.sk-label input.sk-toggleable__control:checked~label.sk-toggleable__label {background-color: #d4ebff;}#sk-container-id-4 input.sk-hidden--visually {border: 0;clip: rect(1px 1px 1px 1px);clip: rect(1px, 1px, 1px, 1px);height: 1px;margin: -1px;overflow: hidden;padding: 0;position: absolute;width: 1px;}#sk-container-id-4 div.sk-estimator {font-family: monospace;background-color: #f0f8ff;border: 1px dotted black;border-radius: 0.25em;box-sizing: border-box;margin-bottom: 0.5em;}#sk-container-id-4 div.sk-estimator:hover {background-color: #d4ebff;}#sk-container-id-4 div.sk-parallel-item::after {content: \"\";width: 100%;border-bottom: 1px solid gray;flex-grow: 1;}#sk-container-id-4 div.sk-label:hover label.sk-toggleable__label {background-color: #d4ebff;}#sk-container-id-4 div.sk-serial::before {content: \"\";position: absolute;border-left: 1px solid gray;box-sizing: border-box;top: 0;bottom: 0;left: 50%;z-index: 0;}#sk-container-id-4 div.sk-serial {display: flex;flex-direction: column;align-items: center;background-color: white;padding-right: 0.2em;padding-left: 0.2em;position: relative;}#sk-container-id-4 div.sk-item {position: relative;z-index: 1;}#sk-container-id-4 div.sk-parallel {display: flex;align-items: stretch;justify-content: center;background-color: white;position: relative;}#sk-container-id-4 div.sk-item::before, #sk-container-id-4 div.sk-parallel-item::before {content: \"\";position: absolute;border-left: 1px solid gray;box-sizing: border-box;top: 0;bottom: 0;left: 50%;z-index: -1;}#sk-container-id-4 div.sk-parallel-item {display: flex;flex-direction: column;z-index: 1;position: relative;background-color: white;}#sk-container-id-4 div.sk-parallel-item:first-child::after {align-self: flex-end;width: 50%;}#sk-container-id-4 div.sk-parallel-item:last-child::after {align-self: flex-start;width: 50%;}#sk-container-id-4 div.sk-parallel-item:only-child::after {width: 0;}#sk-container-id-4 div.sk-dashed-wrapped {border: 1px dashed gray;margin: 0 0.4em 0.5em 0.4em;box-sizing: border-box;padding-bottom: 0.4em;background-color: white;}#sk-container-id-4 div.sk-label label {font-family: monospace;font-weight: bold;display: inline-block;line-height: 1.2em;}#sk-container-id-4 div.sk-label-container {text-align: center;}#sk-container-id-4 div.sk-container {/* jupyter's `normalize.less` sets `[hidden] { display: none; }` but bootstrap.min.css set `[hidden] { display: none !important; }` so we also need the `!important` here to be able to override the default hidden behavior on the sphinx rendered scikit-learn.org. See: https://github.com/scikit-learn/scikit-learn/issues/21755 */display: inline-block !important;position: relative;}#sk-container-id-4 div.sk-text-repr-fallback {display: none;}</style><div id=\"sk-container-id-4\" class=\"sk-top-container\"><div class=\"sk-text-repr-fallback\"><pre>LogisticRegression()</pre><b>In a Jupyter environment, please rerun this cell to show the HTML representation or trust the notebook. <br />On GitHub, the HTML representation is unable to render, please try loading this page with nbviewer.org.</b></div><div class=\"sk-container\" hidden><div class=\"sk-item\"><div class=\"sk-estimator sk-toggleable\"><input class=\"sk-toggleable__control sk-hidden--visually\" id=\"sk-estimator-id-4\" type=\"checkbox\" checked><label for=\"sk-estimator-id-4\" class=\"sk-toggleable__label sk-toggleable__label-arrow\">LogisticRegression</label><div class=\"sk-toggleable__content\"><pre>LogisticRegression()</pre></div></div></div></div></div>"
      ],
      "text/plain": [
       "LogisticRegression()"
      ]
     },
     "execution_count": 129,
     "metadata": {},
     "output_type": "execute_result"
    }
   ],
   "source": [
    "model_log.fit(new_weights, np.array(df[\"obese\"]))"
   ]
  },
  {
   "cell_type": "code",
   "execution_count": 130,
   "id": "84efcef8",
   "metadata": {},
   "outputs": [
    {
     "data": {
      "text/plain": [
       "array([[0.86253385]])"
      ]
     },
     "execution_count": 130,
     "metadata": {},
     "output_type": "execute_result"
    }
   ],
   "source": [
    "model_log.coef_"
   ]
  },
  {
   "cell_type": "code",
   "execution_count": 131,
   "id": "f16159f0",
   "metadata": {},
   "outputs": [
    {
     "data": {
      "text/plain": [
       "array([-64.85165167])"
      ]
     },
     "execution_count": 131,
     "metadata": {},
     "output_type": "execute_result"
    }
   ],
   "source": [
    "model_log.intercept_"
   ]
  },
  {
   "cell_type": "code",
   "execution_count": 135,
   "id": "40188b7c",
   "metadata": {},
   "outputs": [],
   "source": [
    "m = model_log.coef_[0][0]\n",
    "c = model_log.intercept_[0]"
   ]
  },
  {
   "cell_type": "code",
   "execution_count": 136,
   "id": "4364a715",
   "metadata": {},
   "outputs": [],
   "source": [
    "logistic_weight_at_0_5 = -c/m"
   ]
  },
  {
   "cell_type": "code",
   "execution_count": 137,
   "id": "b0c6d6ba",
   "metadata": {},
   "outputs": [
    {
     "data": {
      "text/plain": [
       "75.18736994971692"
      ]
     },
     "execution_count": 137,
     "metadata": {},
     "output_type": "execute_result"
    }
   ],
   "source": [
    "logistic_weight_at_0_5"
   ]
  },
  {
   "cell_type": "code",
   "execution_count": 138,
   "id": "e288e248",
   "metadata": {},
   "outputs": [
    {
     "data": {
      "image/png": "[encoded data removed]",
      "text/plain": [
       "<Figure size 800x500 with 1 Axes>"
      ]
     },
     "metadata": {},
     "output_type": "display_data"
    }
   ],
   "source": [
    "plt.figure(figsize=(8,5))\n",
    "plt.scatter(df[\"weight\"],df[\"obese\"],color=['red' if x else 'green' for x in df[\"obese\"]],s=100,edgecolors='black')\n",
    "plt.xlabel(\"Weights in kg\")\n",
    "plt.ylabel(\"Obese\")\n",
    "plt.axvline(logistic_weight_at_0_5, color='purple', linestyle='dashed')\n",
    "plt.scatter(logistic_weight_at_0_5, 0.5, color='purple', s=150, edgecolors='black', label='Threshold point')\n",
    "plt.show()"
   ]
  },
  {
   "cell_type": "markdown",
   "id": "0471351f",
   "metadata": {},
   "source": [
    "##### Perfect"
   ]
  },
  {
   "cell_type": "code",
   "execution_count": 143,
   "id": "9bcb600f",
   "metadata": {
    "scrolled": true
   },
   "outputs": [
    {
     "data": {
      "text/plain": [
       "array([[1.00000000e+00, 3.67257024e-10],\n",
       "       [9.99999999e-01, 6.75825131e-10],\n",
       "       [9.99999999e-01, 1.24365111e-09],\n",
       "       [9.99999998e-01, 2.28856256e-09],\n",
       "       [9.99999996e-01, 4.21140506e-09],\n",
       "       [9.99999992e-01, 7.74981329e-09],\n",
       "       [9.99999986e-01, 1.42611801e-08],\n",
       "       [9.99999974e-01, 2.62433749e-08],\n",
       "       [9.99999952e-01, 4.82929684e-08],\n",
       "       [9.99999911e-01, 8.88685531e-08],\n",
       "       [9.99999836e-01, 1.63535598e-07],\n",
       "       [9.99999699e-01, 3.00937612e-07],\n",
       "       [9.99999446e-01, 5.53784233e-07],\n",
       "       [9.99998981e-01, 1.01907139e-06],\n",
       "       [9.99998125e-01, 1.87529012e-06],\n",
       "       [9.99996549e-01, 3.45089708e-06],\n",
       "       [9.99993650e-01, 6.35031070e-06],\n",
       "       [9.99988314e-01, 1.16857579e-05],\n",
       "       [9.99978496e-01, 2.15038809e-05],\n",
       "       [9.99960429e-01, 3.95706538e-05],\n",
       "       [9.99927185e-01, 7.28153620e-05],\n",
       "       [9.99866014e-01, 1.33986385e-04],\n",
       "       [9.99753466e-01, 2.46533538e-04],\n",
       "       [9.99546424e-01, 4.53576229e-04],\n",
       "       [9.99165649e-01, 8.34351474e-04],\n",
       "       [9.98465705e-01, 1.53429518e-03],\n",
       "       [9.97180230e-01, 2.81976980e-03],\n",
       "       [9.94823334e-01, 5.17666647e-03],\n",
       "       [9.90515169e-01, 9.48483061e-03],\n",
       "       [9.82684040e-01, 1.73159601e-02],\n",
       "       [9.68592175e-01, 3.14078246e-02],\n",
       "       [9.43689394e-01, 5.63106060e-02],\n",
       "       [9.01058531e-01, 9.89414694e-02],\n",
       "       [8.31902257e-01, 1.68097743e-01],\n",
       "       [7.28949029e-01, 2.71050971e-01],\n",
       "       [5.93734292e-01, 4.06265708e-01],\n",
       "       [4.42641637e-01, 5.57358363e-01],\n",
       "       [3.01467322e-01, 6.98532678e-01],\n",
       "       [1.89971903e-01, 8.10028097e-01],\n",
       "       [1.13039295e-01, 8.86960705e-01],\n",
       "       [6.47707488e-02, 9.35229251e-01],\n",
       "       [3.62703568e-02, 9.63729643e-01],\n",
       "       [2.00419452e-02, 9.79958055e-01],\n",
       "       [1.09917808e-02, 9.89008219e-01],\n",
       "       [6.00328388e-03, 9.93996716e-01],\n",
       "       [3.27127218e-03, 9.96728728e-01],\n",
       "       [1.78033447e-03, 9.98219666e-01],\n",
       "       [9.68256764e-04, 9.99031743e-01],\n",
       "       [5.26402995e-04, 9.99473597e-01],\n",
       "       [2.86126787e-04, 9.99713873e-01],\n",
       "       [1.55507390e-04, 9.99844493e-01],\n",
       "       [8.45118565e-05, 9.99915488e-01],\n",
       "       [4.59272217e-05, 9.99954073e-01],\n",
       "       [2.49583031e-05, 9.99975042e-01],\n",
       "       [1.35630005e-05, 9.99986437e-01],\n",
       "       [7.37045401e-06, 9.99992630e-01],\n",
       "       [4.00526703e-06, 9.99995995e-01],\n",
       "       [2.17654697e-06, 9.99997823e-01],\n",
       "       [1.18278075e-06, 9.99998817e-01],\n",
       "       [6.42747294e-07, 9.99999357e-01],\n",
       "       [3.49281962e-07, 9.99999651e-01],\n",
       "       [1.89806902e-07, 9.99999810e-01],\n",
       "       [1.03144913e-07, 9.99999897e-01],\n",
       "       [5.60510311e-08, 9.99999944e-01],\n",
       "       [3.04592631e-08, 9.99999970e-01],\n",
       "       [1.65521790e-08, 9.99999983e-01],\n",
       "       [8.99478836e-09, 9.99999991e-01],\n",
       "       [4.88794960e-09, 9.99999995e-01],\n",
       "       [2.65621058e-09, 9.99999997e-01],\n",
       "       [1.44343848e-09, 9.99999999e-01],\n",
       "       [7.84393661e-10, 9.99999999e-01],\n",
       "       [4.26255253e-10, 1.00000000e+00],\n",
       "       [2.31635822e-10, 1.00000000e+00],\n",
       "       [1.25875532e-10, 1.00000000e+00],\n",
       "       [6.84032830e-11, 1.00000000e+00],\n",
       "       [3.71718212e-11, 1.00000000e+00],\n",
       "       [2.01998418e-11, 1.00000000e+00],\n",
       "       [1.09769971e-11, 1.00000000e+00],\n",
       "       [5.96522831e-12, 1.00000000e+00],\n",
       "       [3.24162919e-12, 1.00000000e+00],\n",
       "       [1.76147985e-12, 1.00000000e+00],\n",
       "       [9.57234292e-13, 1.00000000e+00],\n",
       "       [5.20250509e-13, 1.00000000e+00],\n",
       "       [2.82662782e-13, 1.00000000e+00],\n",
       "       [1.53654867e-13, 1.00000000e+00],\n",
       "       [8.34887715e-14, 1.00000000e+00],\n",
       "       [4.52970994e-14, 1.00000000e+00],\n",
       "       [2.46469511e-14, 1.00000000e+00],\n",
       "       [1.33226763e-14, 1.00000000e+00],\n",
       "       [7.32747196e-15, 1.00000000e+00],\n",
       "       [3.99680289e-15, 1.00000000e+00],\n",
       "       [2.22044605e-15, 1.00000000e+00],\n",
       "       [1.11022302e-15, 1.00000000e+00],\n",
       "       [6.66133815e-16, 1.00000000e+00],\n",
       "       [4.44089210e-16, 1.00000000e+00],\n",
       "       [2.22044605e-16, 1.00000000e+00],\n",
       "       [0.00000000e+00, 1.00000000e+00],\n",
       "       [0.00000000e+00, 1.00000000e+00],\n",
       "       [0.00000000e+00, 1.00000000e+00],\n",
       "       [0.00000000e+00, 1.00000000e+00]])"
      ]
     },
     "execution_count": 143,
     "metadata": {},
     "output_type": "execute_result"
    }
   ],
   "source": [
    "model_log.predict_proba(new_weights_range)"
   ]
  },
  {
   "cell_type": "markdown",
   "id": "dd8afcf8",
   "metadata": {},
   "source": [
    "First column for not obese, second column for being obese"
   ]
  },
  {
   "cell_type": "code",
   "execution_count": 144,
   "id": "82dad90a",
   "metadata": {},
   "outputs": [],
   "source": [
    "log_obese_preds = model_log.predict_proba(new_weights_range)[:,1]"
   ]
  },
  {
   "cell_type": "code",
   "execution_count": 145,
   "id": "4bbb7987",
   "metadata": {},
   "outputs": [
    {
     "data": {
      "image/png": "[encoded data removed]",
      "text/plain": [
       "<Figure size 800x500 with 1 Axes>"
      ]
     },
     "metadata": {},
     "output_type": "display_data"
    }
   ],
   "source": [
    "plt.figure(figsize=(8,5))\n",
    "plt.scatter(df[\"weight\"],df[\"obese\"],color=['red' if x else 'green' for x in df[\"obese\"]],s=100,edgecolors='black')\n",
    "plt.xlabel(\"Weights in kg\")\n",
    "plt.ylabel(\"Obese\")\n",
    "plt.plot(new_weights_range, log_obese_preds, color=\"blue\", linewidth=2, label=\"Best fit line\")\n",
    "plt.axvline(logistic_weight_at_0_5, color='purple', linestyle='dashed')\n",
    "plt.scatter(logistic_weight_at_0_5, 0.5, color='purple', s=150, edgecolors='black', label='Threshold point')\n",
    "plt.show()"
   ]
  },
  {
   "cell_type": "markdown",
   "id": "77b38b3c",
   "metadata": {},
   "source": [
    "Dashed line is the decision boundary\n",
    "\n",
    "Blue line is the sigmoid curve / logistic regression curve"
   ]
  },
  {
   "cell_type": "code",
   "execution_count": null,
   "id": "fac7d744",
   "metadata": {},
   "outputs": [],
   "source": []
  }
 ],
 "metadata": {
  "kernelspec": {
   "display_name": "Python 3 (ipykernel)",
   "language": "python",
   "name": "python3"
  },
  "language_info": {
   "codemirror_mode": {
    "name": "ipython",
    "version": 3
   },
   "file_extension": ".py",
   "mimetype": "text/x-python",
   "name": "python",
   "nbconvert_exporter": "python",
   "pygments_lexer": "ipython3",
   "version": "3.11.5"
  }
 },
 "nbformat": 4,
 "nbformat_minor": 5
}
