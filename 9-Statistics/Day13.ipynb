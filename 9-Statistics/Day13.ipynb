{
 "cells": [
  {
   "cell_type": "markdown",
   "id": "9157dbce",
   "metadata": {},
   "source": [
    "### Chi-Square Test"
   ]
  },
  {
   "cell_type": "markdown",
   "id": "a2a22e65",
   "metadata": {},
   "source": [
    "The test is applied when you have two categorical variables/features from a single population. It is used to determine whether there is a significant association between the two variables/features"
   ]
  },
  {
   "cell_type": "markdown",
   "id": "4216c6d1",
   "metadata": {},
   "source": [
    "Null hypothesis H0: \n",
    "\n",
    "    No significant assocition between 2 categorical variables\n",
    "    \n",
    "Alternate hypothesis H1: \n",
    "\n",
    "    Significant association between 2 categorical variables"
   ]
  },
  {
   "cell_type": "code",
   "execution_count": 1,
   "id": "097575f9",
   "metadata": {},
   "outputs": [],
   "source": [
    "import numpy as np\n",
    "import pandas as pd\n",
    "import seaborn as sns\n",
    "import scipy.stats as stats"
   ]
  },
  {
   "cell_type": "code",
   "execution_count": 2,
   "id": "4ed74275",
   "metadata": {},
   "outputs": [
    {
     "data": {
      "text/html": [
       "<div>\n",
       "<style scoped>\n",
       "    .dataframe tbody tr th:only-of-type {\n",
       "        vertical-align: middle;\n",
       "    }\n",
       "\n",
       "    .dataframe tbody tr th {\n",
       "        vertical-align: top;\n",
       "    }\n",
       "\n",
       "    .dataframe thead th {\n",
       "        text-align: right;\n",
       "    }\n",
       "</style>\n",
       "<table border=\"1\" class=\"dataframe\">\n",
       "  <thead>\n",
       "    <tr style=\"text-align: right;\">\n",
       "      <th></th>\n",
       "      <th>total_bill</th>\n",
       "      <th>tip</th>\n",
       "      <th>sex</th>\n",
       "      <th>smoker</th>\n",
       "      <th>day</th>\n",
       "      <th>time</th>\n",
       "      <th>size</th>\n",
       "    </tr>\n",
       "  </thead>\n",
       "  <tbody>\n",
       "    <tr>\n",
       "      <th>0</th>\n",
       "      <td>16.99</td>\n",
       "      <td>1.01</td>\n",
       "      <td>Female</td>\n",
       "      <td>No</td>\n",
       "      <td>Sun</td>\n",
       "      <td>Dinner</td>\n",
       "      <td>2</td>\n",
       "    </tr>\n",
       "    <tr>\n",
       "      <th>1</th>\n",
       "      <td>10.34</td>\n",
       "      <td>1.66</td>\n",
       "      <td>Male</td>\n",
       "      <td>No</td>\n",
       "      <td>Sun</td>\n",
       "      <td>Dinner</td>\n",
       "      <td>3</td>\n",
       "    </tr>\n",
       "    <tr>\n",
       "      <th>2</th>\n",
       "      <td>21.01</td>\n",
       "      <td>3.50</td>\n",
       "      <td>Male</td>\n",
       "      <td>No</td>\n",
       "      <td>Sun</td>\n",
       "      <td>Dinner</td>\n",
       "      <td>3</td>\n",
       "    </tr>\n",
       "    <tr>\n",
       "      <th>3</th>\n",
       "      <td>23.68</td>\n",
       "      <td>3.31</td>\n",
       "      <td>Male</td>\n",
       "      <td>No</td>\n",
       "      <td>Sun</td>\n",
       "      <td>Dinner</td>\n",
       "      <td>2</td>\n",
       "    </tr>\n",
       "    <tr>\n",
       "      <th>4</th>\n",
       "      <td>24.59</td>\n",
       "      <td>3.61</td>\n",
       "      <td>Female</td>\n",
       "      <td>No</td>\n",
       "      <td>Sun</td>\n",
       "      <td>Dinner</td>\n",
       "      <td>4</td>\n",
       "    </tr>\n",
       "  </tbody>\n",
       "</table>\n",
       "</div>"
      ],
      "text/plain": [
       "   total_bill   tip     sex smoker  day    time  size\n",
       "0       16.99  1.01  Female     No  Sun  Dinner     2\n",
       "1       10.34  1.66    Male     No  Sun  Dinner     3\n",
       "2       21.01  3.50    Male     No  Sun  Dinner     3\n",
       "3       23.68  3.31    Male     No  Sun  Dinner     2\n",
       "4       24.59  3.61  Female     No  Sun  Dinner     4"
      ]
     },
     "execution_count": 2,
     "metadata": {},
     "output_type": "execute_result"
    }
   ],
   "source": [
    "df = sns.load_dataset(\"tips\")\n",
    "df.head()"
   ]
  },
  {
   "cell_type": "code",
   "execution_count": 3,
   "id": "986e91b1",
   "metadata": {},
   "outputs": [
    {
     "data": {
      "text/plain": [
       "(244, 7)"
      ]
     },
     "execution_count": 3,
     "metadata": {},
     "output_type": "execute_result"
    }
   ],
   "source": [
    "df.shape"
   ]
  },
  {
   "cell_type": "markdown",
   "id": "55780a88",
   "metadata": {},
   "source": [
    "Consider the two categorical variables sex & smoker"
   ]
  },
  {
   "cell_type": "code",
   "execution_count": 4,
   "id": "32a4d356",
   "metadata": {},
   "outputs": [],
   "source": [
    "cat_df = pd.crosstab(df[\"sex\"],df[\"smoker\"])"
   ]
  },
  {
   "cell_type": "code",
   "execution_count": 5,
   "id": "35b609c9",
   "metadata": {},
   "outputs": [
    {
     "data": {
      "text/html": [
       "<div>\n",
       "<style scoped>\n",
       "    .dataframe tbody tr th:only-of-type {\n",
       "        vertical-align: middle;\n",
       "    }\n",
       "\n",
       "    .dataframe tbody tr th {\n",
       "        vertical-align: top;\n",
       "    }\n",
       "\n",
       "    .dataframe thead th {\n",
       "        text-align: right;\n",
       "    }\n",
       "</style>\n",
       "<table border=\"1\" class=\"dataframe\">\n",
       "  <thead>\n",
       "    <tr style=\"text-align: right;\">\n",
       "      <th>smoker</th>\n",
       "      <th>Yes</th>\n",
       "      <th>No</th>\n",
       "    </tr>\n",
       "    <tr>\n",
       "      <th>sex</th>\n",
       "      <th></th>\n",
       "      <th></th>\n",
       "    </tr>\n",
       "  </thead>\n",
       "  <tbody>\n",
       "    <tr>\n",
       "      <th>Male</th>\n",
       "      <td>60</td>\n",
       "      <td>97</td>\n",
       "    </tr>\n",
       "    <tr>\n",
       "      <th>Female</th>\n",
       "      <td>33</td>\n",
       "      <td>54</td>\n",
       "    </tr>\n",
       "  </tbody>\n",
       "</table>\n",
       "</div>"
      ],
      "text/plain": [
       "smoker  Yes  No\n",
       "sex            \n",
       "Male     60  97\n",
       "Female   33  54"
      ]
     },
     "execution_count": 5,
     "metadata": {},
     "output_type": "execute_result"
    }
   ],
   "source": [
    "cat_df"
   ]
  },
  {
   "cell_type": "code",
   "execution_count": 6,
   "id": "4f3383b2",
   "metadata": {},
   "outputs": [
    {
     "data": {
      "text/plain": [
       "array([[60, 97],\n",
       "       [33, 54]], dtype=int64)"
      ]
     },
     "execution_count": 6,
     "metadata": {},
     "output_type": "execute_result"
    }
   ],
   "source": [
    "cat_df.values"
   ]
  },
  {
   "cell_type": "markdown",
   "id": "4a94c557",
   "metadata": {},
   "source": [
    "We can call these variables as Observed variables"
   ]
  },
  {
   "cell_type": "code",
   "execution_count": 7,
   "id": "b82c792c",
   "metadata": {},
   "outputs": [],
   "source": [
    "observed_values = cat_df.values"
   ]
  },
  {
   "cell_type": "code",
   "execution_count": 8,
   "id": "bfa3a2c0",
   "metadata": {},
   "outputs": [
    {
     "data": {
      "text/plain": [
       "array([[60, 97],\n",
       "       [33, 54]], dtype=int64)"
      ]
     },
     "execution_count": 8,
     "metadata": {},
     "output_type": "execute_result"
    }
   ],
   "source": [
    "observed_values"
   ]
  },
  {
   "cell_type": "markdown",
   "id": "ca8278a5",
   "metadata": {},
   "source": [
    "Let's apply chi-square test"
   ]
  },
  {
   "cell_type": "code",
   "execution_count": 10,
   "id": "84b0b0ad",
   "metadata": {},
   "outputs": [
    {
     "data": {
      "text/plain": [
       "Chi2ContingencyResult(statistic=0.0, pvalue=1.0, dof=1, expected_freq=array([[59.84016393, 97.15983607],\n",
       "       [33.15983607, 53.84016393]]))"
      ]
     },
     "execution_count": 10,
     "metadata": {},
     "output_type": "execute_result"
    }
   ],
   "source": [
    "stats.chi2_contingency(cat_df)"
   ]
  },
  {
   "cell_type": "markdown",
   "id": "d731f2e0",
   "metadata": {},
   "source": [
    "We need the expected_freq"
   ]
  },
  {
   "cell_type": "code",
   "execution_count": 11,
   "id": "bd2aa087",
   "metadata": {},
   "outputs": [],
   "source": [
    "expected_values = stats.chi2_contingency(cat_df)[-1]"
   ]
  },
  {
   "cell_type": "code",
   "execution_count": 12,
   "id": "5a771b59",
   "metadata": {},
   "outputs": [
    {
     "data": {
      "text/plain": [
       "array([[59.84016393, 97.15983607],\n",
       "       [33.15983607, 53.84016393]])"
      ]
     },
     "execution_count": 12,
     "metadata": {},
     "output_type": "execute_result"
    }
   ],
   "source": [
    "expected_values"
   ]
  },
  {
   "cell_type": "code",
   "execution_count": 13,
   "id": "071cb9e2",
   "metadata": {},
   "outputs": [
    {
     "data": {
      "text/plain": [
       "(2, 2)"
      ]
     },
     "execution_count": 13,
     "metadata": {},
     "output_type": "execute_result"
    }
   ],
   "source": [
    "cat_df.shape"
   ]
  },
  {
   "cell_type": "code",
   "execution_count": 14,
   "id": "d0fefb4d",
   "metadata": {},
   "outputs": [],
   "source": [
    "rows, cols = cat_df.shape[0], cat_df.shape[1]"
   ]
  },
  {
   "cell_type": "code",
   "execution_count": 15,
   "id": "fbba6fbc",
   "metadata": {},
   "outputs": [
    {
     "data": {
      "text/plain": [
       "2"
      ]
     },
     "execution_count": 15,
     "metadata": {},
     "output_type": "execute_result"
    }
   ],
   "source": [
    "rows"
   ]
  },
  {
   "cell_type": "code",
   "execution_count": 16,
   "id": "bc9643c9",
   "metadata": {},
   "outputs": [
    {
     "data": {
      "text/plain": [
       "2"
      ]
     },
     "execution_count": 16,
     "metadata": {},
     "output_type": "execute_result"
    }
   ],
   "source": [
    "cols"
   ]
  },
  {
   "cell_type": "markdown",
   "id": "196e9fd2",
   "metadata": {},
   "source": [
    "##### Degree of Freedom"
   ]
  },
  {
   "cell_type": "code",
   "execution_count": 17,
   "id": "1a2e2244",
   "metadata": {},
   "outputs": [
    {
     "data": {
      "text/plain": [
       "1"
      ]
     },
     "execution_count": 17,
     "metadata": {},
     "output_type": "execute_result"
    }
   ],
   "source": [
    "ddof = (rows-1)*(cols-1)\n",
    "ddof"
   ]
  },
  {
   "cell_type": "code",
   "execution_count": 18,
   "id": "a956f69b",
   "metadata": {},
   "outputs": [],
   "source": [
    "alpha = 0.05"
   ]
  },
  {
   "cell_type": "markdown",
   "id": "4eec6130",
   "metadata": {},
   "source": [
    "##### Apply chi_square formula"
   ]
  },
  {
   "cell_type": "markdown",
   "id": "bcca4882",
   "metadata": {},
   "source": [
    "![\"chi2 Formula\"](chi2Formula.png)"
   ]
  },
  {
   "cell_type": "code",
   "execution_count": 19,
   "id": "95335dde",
   "metadata": {},
   "outputs": [],
   "source": [
    "chi_square = sum([(o-e)**2./e for o,e in zip(observed_values, expected_values)])"
   ]
  },
  {
   "cell_type": "code",
   "execution_count": 20,
   "id": "03b1532e",
   "metadata": {},
   "outputs": [
    {
     "data": {
      "text/plain": [
       "array([0.00119737, 0.00073745])"
      ]
     },
     "execution_count": 20,
     "metadata": {},
     "output_type": "execute_result"
    }
   ],
   "source": [
    "chi_square"
   ]
  },
  {
   "cell_type": "code",
   "execution_count": 21,
   "id": "54202d70",
   "metadata": {},
   "outputs": [
    {
     "data": {
      "text/plain": [
       "0.001934818536627623"
      ]
     },
     "execution_count": 21,
     "metadata": {},
     "output_type": "execute_result"
    }
   ],
   "source": [
    "chi_square_stats = chi_square[0] + chi_square[1]\n",
    "chi_square_stats"
   ]
  },
  {
   "cell_type": "markdown",
   "id": "9fdc7be4",
   "metadata": {},
   "source": [
    "##### Critical value"
   ]
  },
  {
   "cell_type": "code",
   "execution_count": 24,
   "id": "d8ab30de",
   "metadata": {},
   "outputs": [],
   "source": [
    "critical_val = stats.chi2.ppf(q=1-alpha, df=ddof)"
   ]
  },
  {
   "cell_type": "code",
   "execution_count": 25,
   "id": "71bc1a72",
   "metadata": {},
   "outputs": [
    {
     "data": {
      "text/plain": [
       "3.841458820694124"
      ]
     },
     "execution_count": 25,
     "metadata": {},
     "output_type": "execute_result"
    }
   ],
   "source": [
    "critical_val"
   ]
  },
  {
   "cell_type": "markdown",
   "id": "52a2c312",
   "metadata": {},
   "source": [
    "##### significance value"
   ]
  },
  {
   "cell_type": "code",
   "execution_count": 29,
   "id": "59e3d7d8",
   "metadata": {},
   "outputs": [
    {
     "data": {
      "text/plain": [
       "0.05"
      ]
     },
     "execution_count": 29,
     "metadata": {},
     "output_type": "execute_result"
    }
   ],
   "source": [
    "alpha"
   ]
  },
  {
   "cell_type": "markdown",
   "id": "1203b4b3",
   "metadata": {},
   "source": [
    "##### p_value"
   ]
  },
  {
   "cell_type": "code",
   "execution_count": 26,
   "id": "fa4aeb64",
   "metadata": {},
   "outputs": [],
   "source": [
    "p_value = 1 - stats.chi2.cdf(x=chi_square_stats, df=ddof)"
   ]
  },
  {
   "cell_type": "code",
   "execution_count": 27,
   "id": "cba080bc",
   "metadata": {},
   "outputs": [
    {
     "data": {
      "text/plain": [
       "0.964915107315732"
      ]
     },
     "execution_count": 27,
     "metadata": {},
     "output_type": "execute_result"
    }
   ],
   "source": [
    "p_value"
   ]
  },
  {
   "cell_type": "code",
   "execution_count": 30,
   "id": "5fbc094a",
   "metadata": {},
   "outputs": [
    {
     "name": "stdout",
     "output_type": "stream",
     "text": [
      "Null hypothesis Accepted\n"
     ]
    }
   ],
   "source": [
    "if p_value<0.05:\n",
    "    print(\"Null hypothesis Rejected\")\n",
    "else:\n",
    "    print(\"Null hypothesis Accepted\")"
   ]
  },
  {
   "cell_type": "markdown",
   "id": "0fd6c42c",
   "metadata": {},
   "source": [
    "That means, no significance relation between 2 categorical variables"
   ]
  },
  {
   "cell_type": "markdown",
   "id": "a4295178",
   "metadata": {},
   "source": [
    "Alternatively, you could use chi_square_stats & critical_value to decide the null hypothesis"
   ]
  },
  {
   "cell_type": "code",
   "execution_count": 32,
   "id": "5d7b27cd",
   "metadata": {},
   "outputs": [
    {
     "name": "stdout",
     "output_type": "stream",
     "text": [
      "Null hypothesis Accepted\n"
     ]
    }
   ],
   "source": [
    "if chi_square_stats >= critical_val:\n",
    "    print(\"Null hypothesis Rejected\")\n",
    "else:\n",
    "    print(\"Null hypothesis Accepted\")"
   ]
  },
  {
   "cell_type": "markdown",
   "id": "2b158f68",
   "metadata": {},
   "source": [
    "That means, no significant association / relation between the two categorical variables sex & smoker"
   ]
  },
  {
   "cell_type": "code",
   "execution_count": null,
   "id": "a6d0c626",
   "metadata": {},
   "outputs": [],
   "source": []
  }
 ],
 "metadata": {
  "kernelspec": {
   "display_name": "Python 3 (ipykernel)",
   "language": "python",
   "name": "python3"
  },
  "language_info": {
   "codemirror_mode": {
    "name": "ipython",
    "version": 3
   },
   "file_extension": ".py",
   "mimetype": "text/x-python",
   "name": "python",
   "nbconvert_exporter": "python",
   "pygments_lexer": "ipython3",
   "version": "3.11.5"
  }
 },
 "nbformat": 4,
 "nbformat_minor": 5
}
