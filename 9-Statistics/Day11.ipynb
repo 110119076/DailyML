{
 "cells": [
  {
   "cell_type": "markdown",
   "id": "1ed5507f",
   "metadata": {},
   "source": [
    "##### Hypothesis Testing"
   ]
  },
  {
   "cell_type": "markdown",
   "id": "1e08b833",
   "metadata": {},
   "source": [
    "Evaluates 2 mutual exclusive statements on the Population using Sample data"
   ]
  },
  {
   "cell_type": "markdown",
   "id": "05eb67ab",
   "metadata": {},
   "source": [
    "Steps:\n",
    "    \n",
    "    1) Make initial assumption (call it null hypothesis Ho)\n",
    "    \n",
    "    2) Collect data => Evidences\n",
    "    \n",
    "    3) Gather evidence to reject or not reject null hypothesis"
   ]
  },
  {
   "cell_type": "markdown",
   "id": "8256067e",
   "metadata": {},
   "source": [
    "H1 => Alternate Hypothesis"
   ]
  },
  {
   "cell_type": "markdown",
   "id": "a53402d1",
   "metadata": {},
   "source": [
    "##### Type1 Error: If null hypothesis is true & we rejected it\n",
    "    \n",
    "##### Type2 Error: If null hypothesis is false & we accept it"
   ]
  },
  {
   "cell_type": "markdown",
   "id": "66a8210d",
   "metadata": {},
   "source": [
    "Let Ho = The stock market is going to crash\n",
    "\n",
    "Then H1 = The stock market is not going to crash"
   ]
  },
  {
   "cell_type": "markdown",
   "id": "864dec83",
   "metadata": {},
   "source": [
    "##### Type I error:"
   ]
  },
  {
   "cell_type": "markdown",
   "id": "1bff00fc",
   "metadata": {},
   "source": [
    "From our evidences, we concluded that the stock market is not going to crash & we rejected null hypothesis\n",
    "\n",
    "But the market got crashed"
   ]
  },
  {
   "cell_type": "markdown",
   "id": "1569819f",
   "metadata": {},
   "source": [
    "##### Type II error:"
   ]
  },
  {
   "cell_type": "markdown",
   "id": "34d853be",
   "metadata": {},
   "source": [
    "From our evidences, we concluded that the stock market is going to crash & we accepted null hypothesis\n",
    "\n",
    "But the market did not crash"
   ]
  },
  {
   "cell_type": "markdown",
   "id": "7827c76d",
   "metadata": {},
   "source": [
    "##### How to know when to accept or when to reject the null hypothesis?"
   ]
  },
  {
   "cell_type": "markdown",
   "id": "7d23e185",
   "metadata": {},
   "source": [
    "p-value"
   ]
  },
  {
   "cell_type": "markdown",
   "id": "9ca3f238",
   "metadata": {},
   "source": [
    "if p<0.05:\n",
    "\n",
    "    reject Ho\n",
    "    \n",
    "else:\n",
    "\n",
    "    accept Ho"
   ]
  },
  {
   "cell_type": "markdown",
   "id": "45e7b8cc",
   "metadata": {},
   "source": [
    "##### significance value => 0.05"
   ]
  },
  {
   "cell_type": "markdown",
   "id": "a56ca44b",
   "metadata": {},
   "source": [
    "### P Value"
   ]
  },
  {
   "cell_type": "markdown",
   "id": "2b25f41b",
   "metadata": {},
   "source": [
    "2 tailed test => Bell curve"
   ]
  },
  {
   "cell_type": "markdown",
   "id": "bbbcfdab",
   "metadata": {},
   "source": [
    "p = 0.01 means, if we repeat the experiment 100 times, the number of times we end up in the region we clicked is 1 time"
   ]
  },
  {
   "cell_type": "markdown",
   "id": "ad7a57be",
   "metadata": {},
   "source": [
    "##### p value: It is the probability for the Null Hypothesis to be true"
   ]
  },
  {
   "cell_type": "markdown",
   "id": "5574edd9",
   "metadata": {},
   "source": [
    "Eg; Fair coin\n",
    "\n",
    "Toss experiment: 100 times => 50 times head & 50 times tail => Fair Coin"
   ]
  },
  {
   "cell_type": "markdown",
   "id": "fcec747b",
   "metadata": {},
   "source": [
    "Ho = Coin is fair\n",
    "\n",
    "H1 = Coin is unfair"
   ]
  },
  {
   "cell_type": "markdown",
   "id": "3dae9c49",
   "metadata": {},
   "source": [
    "if p = 0.05, then if in the experiment the number of heads is >> mean (50 times) that means far away from the mean\n",
    "\n",
    "2-tail test\n",
    "\n",
    "Let's say 70 times head, it falls in the 2.5% in the right tail end\n",
    "\n",
    "Let's say 30 times head, it falls in the 2.5% in the left tail end"
   ]
  },
  {
   "cell_type": "markdown",
   "id": "84b6cab5",
   "metadata": {},
   "source": [
    "That means p<0.05 => Reject the null hypothesis => Coin is unfair"
   ]
  },
  {
   "cell_type": "markdown",
   "id": "82e909aa",
   "metadata": {},
   "source": [
    "That means if 80 times head while tossing 100 times => Coin is unfair (because p < 0.05)"
   ]
  },
  {
   "cell_type": "markdown",
   "id": "a46366b6",
   "metadata": {},
   "source": [
    "Or if 20 times head while tossing 100 times => Coin is unfair (because p < 0.05)"
   ]
  },
  {
   "cell_type": "markdown",
   "id": "5f288c08",
   "metadata": {},
   "source": [
    "p-value => significant value"
   ]
  },
  {
   "cell_type": "markdown",
   "id": "2fb801a5",
   "metadata": {},
   "source": [
    "##### T-test"
   ]
  },
  {
   "cell_type": "code",
   "execution_count": 1,
   "id": "c0238ba6",
   "metadata": {},
   "outputs": [],
   "source": [
    "import pandas as pd"
   ]
  },
  {
   "cell_type": "code",
   "execution_count": 4,
   "id": "e000030b",
   "metadata": {},
   "outputs": [],
   "source": [
    "df = pd.read_csv(\"Test_Data.csv\")"
   ]
  },
  {
   "cell_type": "code",
   "execution_count": 5,
   "id": "efdf911d",
   "metadata": {},
   "outputs": [
    {
     "data": {
      "text/html": [
       "<div>\n",
       "<style scoped>\n",
       "    .dataframe tbody tr th:only-of-type {\n",
       "        vertical-align: middle;\n",
       "    }\n",
       "\n",
       "    .dataframe tbody tr th {\n",
       "        vertical-align: top;\n",
       "    }\n",
       "\n",
       "    .dataframe thead th {\n",
       "        text-align: right;\n",
       "    }\n",
       "</style>\n",
       "<table border=\"1\" class=\"dataframe\">\n",
       "  <thead>\n",
       "    <tr style=\"text-align: right;\">\n",
       "      <th></th>\n",
       "      <th>Gender</th>\n",
       "      <th>Age_Group</th>\n",
       "      <th>Weight_kg</th>\n",
       "      <th>Height_m</th>\n",
       "    </tr>\n",
       "  </thead>\n",
       "  <tbody>\n",
       "    <tr>\n",
       "      <th>0</th>\n",
       "      <td>M</td>\n",
       "      <td>Elder</td>\n",
       "      <td>70</td>\n",
       "      <td>1.4</td>\n",
       "    </tr>\n",
       "    <tr>\n",
       "      <th>1</th>\n",
       "      <td>F</td>\n",
       "      <td>Adult</td>\n",
       "      <td>65</td>\n",
       "      <td>1.2</td>\n",
       "    </tr>\n",
       "    <tr>\n",
       "      <th>2</th>\n",
       "      <td>M</td>\n",
       "      <td>Adult</td>\n",
       "      <td>65</td>\n",
       "      <td>1.4</td>\n",
       "    </tr>\n",
       "    <tr>\n",
       "      <th>3</th>\n",
       "      <td>M</td>\n",
       "      <td>Child</td>\n",
       "      <td>20</td>\n",
       "      <td>1.0</td>\n",
       "    </tr>\n",
       "    <tr>\n",
       "      <th>4</th>\n",
       "      <td>F</td>\n",
       "      <td>Adult</td>\n",
       "      <td>75</td>\n",
       "      <td>1.3</td>\n",
       "    </tr>\n",
       "    <tr>\n",
       "      <th>5</th>\n",
       "      <td>M</td>\n",
       "      <td>Elder</td>\n",
       "      <td>80</td>\n",
       "      <td>1.3</td>\n",
       "    </tr>\n",
       "  </tbody>\n",
       "</table>\n",
       "</div>"
      ],
      "text/plain": [
       "  Gender Age_Group  Weight_kg  Height_m\n",
       "0      M     Elder         70       1.4\n",
       "1      F     Adult         65       1.2\n",
       "2      M     Adult         65       1.4\n",
       "3      M     Child         20       1.0\n",
       "4      F     Adult         75       1.3\n",
       "5      M     Elder         80       1.3"
      ]
     },
     "execution_count": 5,
     "metadata": {},
     "output_type": "execute_result"
    }
   ],
   "source": [
    "df"
   ]
  },
  {
   "cell_type": "markdown",
   "id": "89abf78a",
   "metadata": {},
   "source": [
    "### Categorical Features:"
   ]
  },
  {
   "cell_type": "markdown",
   "id": "07382f6b",
   "metadata": {},
   "source": [
    "Define Null & Alternate hypothesis"
   ]
  },
  {
   "cell_type": "markdown",
   "id": "45af4ce9",
   "metadata": {},
   "source": [
    "H0 : There is no difference in the gender proportion\n",
    "    \n",
    "H1: There is a difference in gender proportion"
   ]
  },
  {
   "cell_type": "code",
   "execution_count": 21,
   "id": "a64dbca2",
   "metadata": {},
   "outputs": [
    {
     "data": {
      "text/plain": [
       "<Axes: xlabel='Gender'>"
      ]
     },
     "execution_count": 21,
     "metadata": {},
     "output_type": "execute_result"
    },
    {
     "data": {
      "image/png": "[encoded data removed]",
      "text/plain": [
       "<Figure size 800x500 with 1 Axes>"
      ]
     },
     "metadata": {},
     "output_type": "display_data"
    }
   ],
   "source": [
    "df[\"Gender\"].value_counts().plot(kind=\"bar\", figsize=(8,5), color='lightblue', edgecolor='black')"
   ]
  },
  {
   "cell_type": "markdown",
   "id": "263ad705",
   "metadata": {},
   "source": [
    "##### One Sample Proportion Test"
   ]
  },
  {
   "cell_type": "markdown",
   "id": "45a54524",
   "metadata": {},
   "source": [
    "If you are selecting only one categorical feature (Gender in the above example) to test the null hypothesis:\n",
    "    \n",
    "Then we use One Sample Proportion Test"
   ]
  },
  {
   "cell_type": "markdown",
   "id": "5dfc3e51",
   "metadata": {},
   "source": [
    "##### Chi Square Test"
   ]
  },
  {
   "cell_type": "markdown",
   "id": "89f88431",
   "metadata": {},
   "source": [
    "If you are selecting only two categorical features (Gender & Age_Group in the above example) to test the null hypothesis:\n",
    "    \n",
    "Then we use Chi Square test"
   ]
  },
  {
   "cell_type": "markdown",
   "id": "e90c4483",
   "metadata": {},
   "source": [
    "if p <= 0.05:\n",
    "    \n",
    "    reject null hypothesis\n",
    "    \n",
    "else:\n",
    "    \n",
    "    accept null hypothesis"
   ]
  },
  {
   "cell_type": "markdown",
   "id": "92b47d33",
   "metadata": {},
   "source": [
    "### Continuous Features"
   ]
  },
  {
   "cell_type": "markdown",
   "id": "83f3a9b5",
   "metadata": {},
   "source": [
    "Define Null & Alternate hypothesis"
   ]
  },
  {
   "cell_type": "markdown",
   "id": "3cfc0b8a",
   "metadata": {},
   "source": [
    "H0: There is no difference in the value & the mean\n",
    "    \n",
    "H1: There is a difference in the value & the mean"
   ]
  },
  {
   "cell_type": "code",
   "execution_count": 24,
   "id": "eb388faa",
   "metadata": {},
   "outputs": [
    {
     "data": {
      "text/plain": [
       "1.2666666666666666"
      ]
     },
     "execution_count": 24,
     "metadata": {},
     "output_type": "execute_result"
    }
   ],
   "source": [
    "df[\"Height_m\"].mean()"
   ]
  },
  {
   "cell_type": "code",
   "execution_count": 25,
   "id": "64951570",
   "metadata": {},
   "outputs": [
    {
     "data": {
      "text/plain": [
       "0    0.133333\n",
       "1   -0.066667\n",
       "2    0.133333\n",
       "3   -0.266667\n",
       "4    0.033333\n",
       "5    0.033333\n",
       "Name: Height_m, dtype: float64"
      ]
     },
     "execution_count": 25,
     "metadata": {},
     "output_type": "execute_result"
    }
   ],
   "source": [
    "df[\"Height_m\"] - df[\"Height_m\"].mean()"
   ]
  },
  {
   "cell_type": "markdown",
   "id": "9691c85d",
   "metadata": {},
   "source": [
    "##### t Test"
   ]
  },
  {
   "cell_type": "markdown",
   "id": "10e7b64a",
   "metadata": {},
   "source": [
    "If you are selecting one continuous variable (Height_m in the above example) to test the null hypothesis"
   ]
  },
  {
   "cell_type": "markdown",
   "id": "7a759b3c",
   "metadata": {},
   "source": [
    "Or if one continuous variable & one categorical variable with only two categories"
   ]
  },
  {
   "cell_type": "markdown",
   "id": "2d69b9f5",
   "metadata": {},
   "source": [
    "Then we use t-Test"
   ]
  },
  {
   "cell_type": "markdown",
   "id": "37460d36",
   "metadata": {},
   "source": [
    "##### Correlation"
   ]
  },
  {
   "cell_type": "markdown",
   "id": "53334811",
   "metadata": {},
   "source": [
    "Define Null & Alternate hypothesis"
   ]
  },
  {
   "cell_type": "markdown",
   "id": "fc3272ea",
   "metadata": {},
   "source": [
    "H0: There is no relation between the two continuous variables\n",
    "    \n",
    "H1: There is a relation between the two continuous variables"
   ]
  },
  {
   "cell_type": "markdown",
   "id": "bdcf9421",
   "metadata": {},
   "source": [
    "If you are selecting two continuous variables (Weight_kg, Height_m in the above example) to test the null hypothesis"
   ]
  },
  {
   "cell_type": "markdown",
   "id": "589997d3",
   "metadata": {},
   "source": [
    "Then we use Correlation"
   ]
  },
  {
   "cell_type": "markdown",
   "id": "3cd2f08e",
   "metadata": {},
   "source": [
    "-1 <= Pearson Correlation <= 1"
   ]
  },
  {
   "cell_type": "markdown",
   "id": "abd64407",
   "metadata": {},
   "source": [
    "If there is no correlation => Pearson Correlation = 0"
   ]
  },
  {
   "cell_type": "markdown",
   "id": "c447bf39",
   "metadata": {},
   "source": [
    "### Categorical & Numerical Features"
   ]
  },
  {
   "cell_type": "markdown",
   "id": "77e525ed",
   "metadata": {},
   "source": [
    "##### Anova Test"
   ]
  },
  {
   "cell_type": "markdown",
   "id": "103e0858",
   "metadata": {},
   "source": [
    "If one numerical & one categorical features\n",
    "\n",
    "If one numerical & two categorical features\n",
    "\n",
    "If categorical feature with lot of categories, etc"
   ]
  },
  {
   "cell_type": "markdown",
   "id": "09844379",
   "metadata": {},
   "source": [
    "Then we use Anova Test"
   ]
  },
  {
   "cell_type": "markdown",
   "id": "e4b65df7",
   "metadata": {},
   "source": [
    "if p <= 0.05:\n",
    "    \n",
    "    reject null hypothesis\n",
    "    \n",
    "else:\n",
    "    \n",
    "    accept null hypothesis"
   ]
  },
  {
   "cell_type": "markdown",
   "id": "6c340327",
   "metadata": {},
   "source": [
    "Use this to either reject or accept the null hypothesis"
   ]
  },
  {
   "cell_type": "code",
   "execution_count": null,
   "id": "5137b5f3",
   "metadata": {},
   "outputs": [],
   "source": []
  }
 ],
 "metadata": {
  "kernelspec": {
   "display_name": "Python 3 (ipykernel)",
   "language": "python",
   "name": "python3"
  },
  "language_info": {
   "codemirror_mode": {
    "name": "ipython",
    "version": 3
   },
   "file_extension": ".py",
   "mimetype": "text/x-python",
   "name": "python",
   "nbconvert_exporter": "python",
   "pygments_lexer": "ipython3",
   "version": "3.11.5"
  }
 },
 "nbformat": 4,
 "nbformat_minor": 5
}
