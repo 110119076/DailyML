{
 "cells": [
  {
   "cell_type": "markdown",
   "id": "ab42a605-9beb-42b6-8255-b7003bbd4f13",
   "metadata": {},
   "source": [
    "### Imbalanced Data - Under Sampling"
   ]
  },
  {
   "cell_type": "markdown",
   "id": "a0fc1f7a-da0c-4dcc-8a2c-cc90c124e2d7",
   "metadata": {},
   "source": [
    "Credit Card Fraudulent Dataset"
   ]
  },
  {
   "cell_type": "code",
   "execution_count": 1,
   "id": "57aa0198-3831-4093-84d5-b3b0b0ee9217",
   "metadata": {},
   "outputs": [],
   "source": [
    "dataset_url = \"https://github.com/nsethi31/Kaggle-Data-Credit-Card-Fraud-Detection/raw/refs/heads/master/creditcard.csv\""
   ]
  },
  {
   "cell_type": "code",
   "execution_count": 2,
   "id": "3d1f3f17-54ce-43a8-9c90-ea2cd1472fb7",
   "metadata": {},
   "outputs": [],
   "source": [
    "import numpy as np\n",
    "import pandas as pd\n",
    "import matplotlib.pyplot as plt\n",
    "%matplotlib inline"
   ]
  },
  {
   "cell_type": "code",
   "execution_count": 4,
   "id": "7e15dda9-0228-443c-a2a2-c44177edae48",
   "metadata": {},
   "outputs": [
    {
     "data": {
      "text/html": [
       "<div>\n",
       "<style scoped>\n",
       "    .dataframe tbody tr th:only-of-type {\n",
       "        vertical-align: middle;\n",
       "    }\n",
       "\n",
       "    .dataframe tbody tr th {\n",
       "        vertical-align: top;\n",
       "    }\n",
       "\n",
       "    .dataframe thead th {\n",
       "        text-align: right;\n",
       "    }\n",
       "</style>\n",
       "<table border=\"1\" class=\"dataframe\">\n",
       "  <thead>\n",
       "    <tr style=\"text-align: right;\">\n",
       "      <th></th>\n",
       "      <th>Time</th>\n",
       "      <th>V1</th>\n",
       "      <th>V2</th>\n",
       "      <th>V3</th>\n",
       "      <th>V4</th>\n",
       "      <th>V5</th>\n",
       "      <th>V6</th>\n",
       "      <th>V7</th>\n",
       "      <th>V8</th>\n",
       "      <th>V9</th>\n",
       "      <th>...</th>\n",
       "      <th>V21</th>\n",
       "      <th>V22</th>\n",
       "      <th>V23</th>\n",
       "      <th>V24</th>\n",
       "      <th>V25</th>\n",
       "      <th>V26</th>\n",
       "      <th>V27</th>\n",
       "      <th>V28</th>\n",
       "      <th>Amount</th>\n",
       "      <th>Class</th>\n",
       "    </tr>\n",
       "  </thead>\n",
       "  <tbody>\n",
       "    <tr>\n",
       "      <th>0</th>\n",
       "      <td>0.0</td>\n",
       "      <td>-1.359807</td>\n",
       "      <td>-0.072781</td>\n",
       "      <td>2.536347</td>\n",
       "      <td>1.378155</td>\n",
       "      <td>-0.338321</td>\n",
       "      <td>0.462388</td>\n",
       "      <td>0.239599</td>\n",
       "      <td>0.098698</td>\n",
       "      <td>0.363787</td>\n",
       "      <td>...</td>\n",
       "      <td>-0.018307</td>\n",
       "      <td>0.277838</td>\n",
       "      <td>-0.110474</td>\n",
       "      <td>0.066928</td>\n",
       "      <td>0.128539</td>\n",
       "      <td>-0.189115</td>\n",
       "      <td>0.133558</td>\n",
       "      <td>-0.021053</td>\n",
       "      <td>149.62</td>\n",
       "      <td>0</td>\n",
       "    </tr>\n",
       "    <tr>\n",
       "      <th>1</th>\n",
       "      <td>0.0</td>\n",
       "      <td>1.191857</td>\n",
       "      <td>0.266151</td>\n",
       "      <td>0.166480</td>\n",
       "      <td>0.448154</td>\n",
       "      <td>0.060018</td>\n",
       "      <td>-0.082361</td>\n",
       "      <td>-0.078803</td>\n",
       "      <td>0.085102</td>\n",
       "      <td>-0.255425</td>\n",
       "      <td>...</td>\n",
       "      <td>-0.225775</td>\n",
       "      <td>-0.638672</td>\n",
       "      <td>0.101288</td>\n",
       "      <td>-0.339846</td>\n",
       "      <td>0.167170</td>\n",
       "      <td>0.125895</td>\n",
       "      <td>-0.008983</td>\n",
       "      <td>0.014724</td>\n",
       "      <td>2.69</td>\n",
       "      <td>0</td>\n",
       "    </tr>\n",
       "    <tr>\n",
       "      <th>2</th>\n",
       "      <td>1.0</td>\n",
       "      <td>-1.358354</td>\n",
       "      <td>-1.340163</td>\n",
       "      <td>1.773209</td>\n",
       "      <td>0.379780</td>\n",
       "      <td>-0.503198</td>\n",
       "      <td>1.800499</td>\n",
       "      <td>0.791461</td>\n",
       "      <td>0.247676</td>\n",
       "      <td>-1.514654</td>\n",
       "      <td>...</td>\n",
       "      <td>0.247998</td>\n",
       "      <td>0.771679</td>\n",
       "      <td>0.909412</td>\n",
       "      <td>-0.689281</td>\n",
       "      <td>-0.327642</td>\n",
       "      <td>-0.139097</td>\n",
       "      <td>-0.055353</td>\n",
       "      <td>-0.059752</td>\n",
       "      <td>378.66</td>\n",
       "      <td>0</td>\n",
       "    </tr>\n",
       "    <tr>\n",
       "      <th>3</th>\n",
       "      <td>1.0</td>\n",
       "      <td>-0.966272</td>\n",
       "      <td>-0.185226</td>\n",
       "      <td>1.792993</td>\n",
       "      <td>-0.863291</td>\n",
       "      <td>-0.010309</td>\n",
       "      <td>1.247203</td>\n",
       "      <td>0.237609</td>\n",
       "      <td>0.377436</td>\n",
       "      <td>-1.387024</td>\n",
       "      <td>...</td>\n",
       "      <td>-0.108300</td>\n",
       "      <td>0.005274</td>\n",
       "      <td>-0.190321</td>\n",
       "      <td>-1.175575</td>\n",
       "      <td>0.647376</td>\n",
       "      <td>-0.221929</td>\n",
       "      <td>0.062723</td>\n",
       "      <td>0.061458</td>\n",
       "      <td>123.50</td>\n",
       "      <td>0</td>\n",
       "    </tr>\n",
       "    <tr>\n",
       "      <th>4</th>\n",
       "      <td>2.0</td>\n",
       "      <td>-1.158233</td>\n",
       "      <td>0.877737</td>\n",
       "      <td>1.548718</td>\n",
       "      <td>0.403034</td>\n",
       "      <td>-0.407193</td>\n",
       "      <td>0.095921</td>\n",
       "      <td>0.592941</td>\n",
       "      <td>-0.270533</td>\n",
       "      <td>0.817739</td>\n",
       "      <td>...</td>\n",
       "      <td>-0.009431</td>\n",
       "      <td>0.798278</td>\n",
       "      <td>-0.137458</td>\n",
       "      <td>0.141267</td>\n",
       "      <td>-0.206010</td>\n",
       "      <td>0.502292</td>\n",
       "      <td>0.219422</td>\n",
       "      <td>0.215153</td>\n",
       "      <td>69.99</td>\n",
       "      <td>0</td>\n",
       "    </tr>\n",
       "  </tbody>\n",
       "</table>\n",
       "<p>5 rows × 31 columns</p>\n",
       "</div>"
      ],
      "text/plain": [
       "   Time        V1        V2        V3        V4        V5        V6        V7  \\\n",
       "0   0.0 -1.359807 -0.072781  2.536347  1.378155 -0.338321  0.462388  0.239599   \n",
       "1   0.0  1.191857  0.266151  0.166480  0.448154  0.060018 -0.082361 -0.078803   \n",
       "2   1.0 -1.358354 -1.340163  1.773209  0.379780 -0.503198  1.800499  0.791461   \n",
       "3   1.0 -0.966272 -0.185226  1.792993 -0.863291 -0.010309  1.247203  0.237609   \n",
       "4   2.0 -1.158233  0.877737  1.548718  0.403034 -0.407193  0.095921  0.592941   \n",
       "\n",
       "         V8        V9  ...       V21       V22       V23       V24       V25  \\\n",
       "0  0.098698  0.363787  ... -0.018307  0.277838 -0.110474  0.066928  0.128539   \n",
       "1  0.085102 -0.255425  ... -0.225775 -0.638672  0.101288 -0.339846  0.167170   \n",
       "2  0.247676 -1.514654  ...  0.247998  0.771679  0.909412 -0.689281 -0.327642   \n",
       "3  0.377436 -1.387024  ... -0.108300  0.005274 -0.190321 -1.175575  0.647376   \n",
       "4 -0.270533  0.817739  ... -0.009431  0.798278 -0.137458  0.141267 -0.206010   \n",
       "\n",
       "        V26       V27       V28  Amount  Class  \n",
       "0 -0.189115  0.133558 -0.021053  149.62      0  \n",
       "1  0.125895 -0.008983  0.014724    2.69      0  \n",
       "2 -0.139097 -0.055353 -0.059752  378.66      0  \n",
       "3 -0.221929  0.062723  0.061458  123.50      0  \n",
       "4  0.502292  0.219422  0.215153   69.99      0  \n",
       "\n",
       "[5 rows x 31 columns]"
      ]
     },
     "execution_count": 4,
     "metadata": {},
     "output_type": "execute_result"
    }
   ],
   "source": [
    "df = pd.read_csv(dataset_url, sep=\",\")\n",
    "df.head()"
   ]
  },
  {
   "cell_type": "code",
   "execution_count": 5,
   "id": "20736d35-58ea-45c6-904d-6eab8710853d",
   "metadata": {},
   "outputs": [
    {
     "data": {
      "text/plain": [
       "(284807, 31)"
      ]
     },
     "execution_count": 5,
     "metadata": {},
     "output_type": "execute_result"
    }
   ],
   "source": [
    "df.shape"
   ]
  },
  {
   "cell_type": "code",
   "execution_count": 6,
   "id": "5ae730db-2390-47c9-af09-ed3d51d4e923",
   "metadata": {},
   "outputs": [
    {
     "name": "stdout",
     "output_type": "stream",
     "text": [
      "<class 'pandas.core.frame.DataFrame'>\n",
      "RangeIndex: 284807 entries, 0 to 284806\n",
      "Data columns (total 31 columns):\n",
      " #   Column  Non-Null Count   Dtype  \n",
      "---  ------  --------------   -----  \n",
      " 0   Time    284807 non-null  float64\n",
      " 1   V1      284807 non-null  float64\n",
      " 2   V2      284807 non-null  float64\n",
      " 3   V3      284807 non-null  float64\n",
      " 4   V4      284807 non-null  float64\n",
      " 5   V5      284807 non-null  float64\n",
      " 6   V6      284807 non-null  float64\n",
      " 7   V7      284807 non-null  float64\n",
      " 8   V8      284807 non-null  float64\n",
      " 9   V9      284807 non-null  float64\n",
      " 10  V10     284807 non-null  float64\n",
      " 11  V11     284807 non-null  float64\n",
      " 12  V12     284807 non-null  float64\n",
      " 13  V13     284807 non-null  float64\n",
      " 14  V14     284807 non-null  float64\n",
      " 15  V15     284807 non-null  float64\n",
      " 16  V16     284807 non-null  float64\n",
      " 17  V17     284807 non-null  float64\n",
      " 18  V18     284807 non-null  float64\n",
      " 19  V19     284807 non-null  float64\n",
      " 20  V20     284807 non-null  float64\n",
      " 21  V21     284807 non-null  float64\n",
      " 22  V22     284807 non-null  float64\n",
      " 23  V23     284807 non-null  float64\n",
      " 24  V24     284807 non-null  float64\n",
      " 25  V25     284807 non-null  float64\n",
      " 26  V26     284807 non-null  float64\n",
      " 27  V27     284807 non-null  float64\n",
      " 28  V28     284807 non-null  float64\n",
      " 29  Amount  284807 non-null  float64\n",
      " 30  Class   284807 non-null  int64  \n",
      "dtypes: float64(30), int64(1)\n",
      "memory usage: 67.4 MB\n"
     ]
    }
   ],
   "source": [
    "df.info()"
   ]
  },
  {
   "cell_type": "code",
   "execution_count": 7,
   "id": "054bb866-f135-49a6-8373-4e8d8e055c80",
   "metadata": {},
   "outputs": [
    {
     "data": {
      "text/plain": [
       "Time      0\n",
       "V1        0\n",
       "V2        0\n",
       "V3        0\n",
       "V4        0\n",
       "V5        0\n",
       "V6        0\n",
       "V7        0\n",
       "V8        0\n",
       "V9        0\n",
       "V10       0\n",
       "V11       0\n",
       "V12       0\n",
       "V13       0\n",
       "V14       0\n",
       "V15       0\n",
       "V16       0\n",
       "V17       0\n",
       "V18       0\n",
       "V19       0\n",
       "V20       0\n",
       "V21       0\n",
       "V22       0\n",
       "V23       0\n",
       "V24       0\n",
       "V25       0\n",
       "V26       0\n",
       "V27       0\n",
       "V28       0\n",
       "Amount    0\n",
       "Class     0\n",
       "dtype: int64"
      ]
     },
     "execution_count": 7,
     "metadata": {},
     "output_type": "execute_result"
    }
   ],
   "source": [
    "df.isnull().sum()"
   ]
  },
  {
   "cell_type": "markdown",
   "id": "dd8f6ef2-3bc7-4cb4-a57e-241bf09e5e7d",
   "metadata": {},
   "source": [
    "No null values"
   ]
  },
  {
   "cell_type": "code",
   "execution_count": 8,
   "id": "db153f7b-906f-4de7-9cab-cfcb5e543132",
   "metadata": {},
   "outputs": [
    {
     "data": {
      "text/plain": [
       "Class\n",
       "0    284315\n",
       "1       492\n",
       "Name: count, dtype: int64"
      ]
     },
     "execution_count": 8,
     "metadata": {},
     "output_type": "execute_result"
    }
   ],
   "source": [
    "df[\"Class\"].value_counts()"
   ]
  },
  {
   "cell_type": "markdown",
   "id": "0a93b023-267b-4fad-90dc-1c6ec58ff1ab",
   "metadata": {},
   "source": [
    "##### Imbalanced Data"
   ]
  },
  {
   "cell_type": "code",
   "execution_count": 10,
   "id": "9bab0c32-189f-4a56-a42d-37af99e565a3",
   "metadata": {},
   "outputs": [],
   "source": [
    "cols = df.columns.tolist()"
   ]
  },
  {
   "cell_type": "code",
   "execution_count": 11,
   "id": "5db459fb-f3ae-4b99-87aa-8942c1a15c44",
   "metadata": {},
   "outputs": [],
   "source": [
    "X_cols = [col for col in cols if col not in [\"Class\"]]\n",
    "target = \"Class\"\n",
    "np.random.RandomState(69)\n",
    "X = df[X_cols]\n",
    "y = df[target]"
   ]
  },
  {
   "cell_type": "code",
   "execution_count": 12,
   "id": "aed544b1-43b1-49c2-8502-61dd9338ce42",
   "metadata": {},
   "outputs": [
    {
     "data": {
      "text/plain": [
       "(284807, 30)"
      ]
     },
     "execution_count": 12,
     "metadata": {},
     "output_type": "execute_result"
    }
   ],
   "source": [
    "X.shape"
   ]
  },
  {
   "cell_type": "code",
   "execution_count": 13,
   "id": "aa8c761c-9da1-4219-93f8-2f178a9bcfd7",
   "metadata": {},
   "outputs": [
    {
     "data": {
      "text/plain": [
       "(284807,)"
      ]
     },
     "execution_count": 13,
     "metadata": {},
     "output_type": "execute_result"
    }
   ],
   "source": [
    "y.shape"
   ]
  },
  {
   "cell_type": "markdown",
   "id": "b0f303fe-3675-41aa-b8e7-52a0b9185e86",
   "metadata": {},
   "source": [
    "##### EDA"
   ]
  },
  {
   "cell_type": "code",
   "execution_count": 14,
   "id": "a2a4d34d-bc41-4f0a-9c79-4cf21066ac22",
   "metadata": {},
   "outputs": [
    {
     "data": {
      "text/plain": [
       "Class\n",
       "0    284315\n",
       "1       492\n",
       "Name: count, dtype: int64"
      ]
     },
     "execution_count": 14,
     "metadata": {},
     "output_type": "execute_result"
    }
   ],
   "source": [
    "target_count = df[target].value_counts(sort=True)\n",
    "target_count"
   ]
  },
  {
   "cell_type": "code",
   "execution_count": 18,
   "id": "b6b9b5a9-785f-47b4-a821-186260578461",
   "metadata": {},
   "outputs": [],
   "source": [
    "LABELS = [\"Normal\", \"Fraud\"]"
   ]
  },
  {
   "cell_type": "code",
   "execution_count": 19,
   "id": "e0ab32de-2ca1-4ad2-b7ba-8b14dea6dc38",
   "metadata": {},
   "outputs": [
    {
     "data": {
      "image/png": "[encoded data removed]",
      "text/plain": [
       "<Figure size 640x480 with 1 Axes>"
      ]
     },
     "metadata": {},
     "output_type": "display_data"
    }
   ],
   "source": [
    "target_count.plot(kind=\"bar\", rot=0)\n",
    "plt.title(\"Class Distribution\")\n",
    "plt.xticks(range(2),LABELS)\n",
    "plt.xlabel(\"Class\")\n",
    "plt.ylabel(\"Frequency\")\n",
    "plt.show()"
   ]
  },
  {
   "cell_type": "code",
   "execution_count": 20,
   "id": "86df53f8-1b30-4799-877b-2f75336aa39e",
   "metadata": {},
   "outputs": [],
   "source": [
    "fraud = df[df[target]==1]\n",
    "normal = df[df[target]==0]"
   ]
  },
  {
   "cell_type": "code",
   "execution_count": 21,
   "id": "183f2d16-8311-48d2-aee3-06a769586c7a",
   "metadata": {},
   "outputs": [
    {
     "name": "stdout",
     "output_type": "stream",
     "text": [
      "(492, 31) (284315, 31)\n"
     ]
    }
   ],
   "source": [
    "print(fraud.shape, normal.shape)"
   ]
  },
  {
   "cell_type": "markdown",
   "id": "0e4752d9-5fb6-405f-b757-4d9f3b60417f",
   "metadata": {},
   "source": [
    "##### IMBLearn NearMiss"
   ]
  },
  {
   "cell_type": "code",
   "execution_count": 22,
   "id": "beec242f-9d0a-43f8-85d8-5f0ca07e562f",
   "metadata": {},
   "outputs": [],
   "source": [
    "from imblearn.under_sampling import NearMiss"
   ]
  },
  {
   "cell_type": "code",
   "execution_count": 24,
   "id": "3e2bc281-d7b8-43aa-9f8c-ad1231e78ac3",
   "metadata": {},
   "outputs": [],
   "source": [
    "nm = NearMiss()"
   ]
  },
  {
   "cell_type": "code",
   "execution_count": 25,
   "id": "042137db-07a2-463f-bf38-b649638b1d64",
   "metadata": {},
   "outputs": [],
   "source": [
    "X_res, y_res = nm.fit_resample(X,y)"
   ]
  },
  {
   "cell_type": "code",
   "execution_count": 30,
   "id": "78848be3-2361-4bd6-bd28-ebcc6652da8d",
   "metadata": {},
   "outputs": [
    {
     "data": {
      "text/html": [
       "<div>\n",
       "<style scoped>\n",
       "    .dataframe tbody tr th:only-of-type {\n",
       "        vertical-align: middle;\n",
       "    }\n",
       "\n",
       "    .dataframe tbody tr th {\n",
       "        vertical-align: top;\n",
       "    }\n",
       "\n",
       "    .dataframe thead th {\n",
       "        text-align: right;\n",
       "    }\n",
       "</style>\n",
       "<table border=\"1\" class=\"dataframe\">\n",
       "  <thead>\n",
       "    <tr style=\"text-align: right;\">\n",
       "      <th></th>\n",
       "      <th>Time</th>\n",
       "      <th>V1</th>\n",
       "      <th>V2</th>\n",
       "      <th>V3</th>\n",
       "      <th>V4</th>\n",
       "      <th>V5</th>\n",
       "      <th>V6</th>\n",
       "      <th>V7</th>\n",
       "      <th>V8</th>\n",
       "      <th>V9</th>\n",
       "      <th>...</th>\n",
       "      <th>V20</th>\n",
       "      <th>V21</th>\n",
       "      <th>V22</th>\n",
       "      <th>V23</th>\n",
       "      <th>V24</th>\n",
       "      <th>V25</th>\n",
       "      <th>V26</th>\n",
       "      <th>V27</th>\n",
       "      <th>V28</th>\n",
       "      <th>Amount</th>\n",
       "    </tr>\n",
       "  </thead>\n",
       "  <tbody>\n",
       "    <tr>\n",
       "      <th>0</th>\n",
       "      <td>76866.0</td>\n",
       "      <td>1.257227</td>\n",
       "      <td>0.408096</td>\n",
       "      <td>0.319266</td>\n",
       "      <td>0.685011</td>\n",
       "      <td>-0.302937</td>\n",
       "      <td>-1.052552</td>\n",
       "      <td>0.136991</td>\n",
       "      <td>-0.245655</td>\n",
       "      <td>-0.079491</td>\n",
       "      <td>...</td>\n",
       "      <td>-0.033053</td>\n",
       "      <td>-0.279430</td>\n",
       "      <td>-0.770134</td>\n",
       "      <td>0.119789</td>\n",
       "      <td>0.360130</td>\n",
       "      <td>0.241921</td>\n",
       "      <td>0.092261</td>\n",
       "      <td>-0.018228</td>\n",
       "      <td>0.032361</td>\n",
       "      <td>1.78</td>\n",
       "    </tr>\n",
       "    <tr>\n",
       "      <th>1</th>\n",
       "      <td>76868.0</td>\n",
       "      <td>1.254775</td>\n",
       "      <td>0.375340</td>\n",
       "      <td>0.311959</td>\n",
       "      <td>0.691077</td>\n",
       "      <td>-0.343494</td>\n",
       "      <td>-1.065252</td>\n",
       "      <td>0.110222</td>\n",
       "      <td>-0.222721</td>\n",
       "      <td>-0.017278</td>\n",
       "      <td>...</td>\n",
       "      <td>-0.057911</td>\n",
       "      <td>-0.283275</td>\n",
       "      <td>-0.803506</td>\n",
       "      <td>0.124643</td>\n",
       "      <td>0.354395</td>\n",
       "      <td>0.226835</td>\n",
       "      <td>0.093208</td>\n",
       "      <td>-0.021100</td>\n",
       "      <td>0.031686</td>\n",
       "      <td>2.69</td>\n",
       "    </tr>\n",
       "    <tr>\n",
       "      <th>2</th>\n",
       "      <td>76870.0</td>\n",
       "      <td>-1.050697</td>\n",
       "      <td>1.500753</td>\n",
       "      <td>0.846326</td>\n",
       "      <td>-0.282956</td>\n",
       "      <td>0.059866</td>\n",
       "      <td>-0.561182</td>\n",
       "      <td>0.484517</td>\n",
       "      <td>0.181547</td>\n",
       "      <td>0.081544</td>\n",
       "      <td>...</td>\n",
       "      <td>0.457988</td>\n",
       "      <td>-0.335560</td>\n",
       "      <td>-0.780232</td>\n",
       "      <td>-0.027029</td>\n",
       "      <td>-0.090180</td>\n",
       "      <td>-0.022896</td>\n",
       "      <td>0.091830</td>\n",
       "      <td>0.547241</td>\n",
       "      <td>0.278780</td>\n",
       "      <td>1.29</td>\n",
       "    </tr>\n",
       "    <tr>\n",
       "      <th>3</th>\n",
       "      <td>76866.0</td>\n",
       "      <td>1.245537</td>\n",
       "      <td>0.419648</td>\n",
       "      <td>0.312943</td>\n",
       "      <td>1.111459</td>\n",
       "      <td>-0.205612</td>\n",
       "      <td>-0.950912</td>\n",
       "      <td>0.267398</td>\n",
       "      <td>-0.274685</td>\n",
       "      <td>-0.127708</td>\n",
       "      <td>...</td>\n",
       "      <td>-0.098066</td>\n",
       "      <td>0.035687</td>\n",
       "      <td>0.186705</td>\n",
       "      <td>-0.107300</td>\n",
       "      <td>0.417887</td>\n",
       "      <td>0.712330</td>\n",
       "      <td>-0.330843</td>\n",
       "      <td>0.018576</td>\n",
       "      <td>0.021871</td>\n",
       "      <td>3.99</td>\n",
       "    </tr>\n",
       "    <tr>\n",
       "      <th>4</th>\n",
       "      <td>76870.0</td>\n",
       "      <td>1.261137</td>\n",
       "      <td>0.304662</td>\n",
       "      <td>0.527018</td>\n",
       "      <td>0.612765</td>\n",
       "      <td>-0.411488</td>\n",
       "      <td>-0.972770</td>\n",
       "      <td>0.112838</td>\n",
       "      <td>-0.248052</td>\n",
       "      <td>-0.068454</td>\n",
       "      <td>...</td>\n",
       "      <td>-0.044989</td>\n",
       "      <td>-0.249081</td>\n",
       "      <td>-0.683649</td>\n",
       "      <td>0.126936</td>\n",
       "      <td>0.395307</td>\n",
       "      <td>0.243448</td>\n",
       "      <td>0.092344</td>\n",
       "      <td>-0.024149</td>\n",
       "      <td>0.020589</td>\n",
       "      <td>1.79</td>\n",
       "    </tr>\n",
       "  </tbody>\n",
       "</table>\n",
       "<p>5 rows × 30 columns</p>\n",
       "</div>"
      ],
      "text/plain": [
       "      Time        V1        V2        V3        V4        V5        V6  \\\n",
       "0  76866.0  1.257227  0.408096  0.319266  0.685011 -0.302937 -1.052552   \n",
       "1  76868.0  1.254775  0.375340  0.311959  0.691077 -0.343494 -1.065252   \n",
       "2  76870.0 -1.050697  1.500753  0.846326 -0.282956  0.059866 -0.561182   \n",
       "3  76866.0  1.245537  0.419648  0.312943  1.111459 -0.205612 -0.950912   \n",
       "4  76870.0  1.261137  0.304662  0.527018  0.612765 -0.411488 -0.972770   \n",
       "\n",
       "         V7        V8        V9  ...       V20       V21       V22       V23  \\\n",
       "0  0.136991 -0.245655 -0.079491  ... -0.033053 -0.279430 -0.770134  0.119789   \n",
       "1  0.110222 -0.222721 -0.017278  ... -0.057911 -0.283275 -0.803506  0.124643   \n",
       "2  0.484517  0.181547  0.081544  ...  0.457988 -0.335560 -0.780232 -0.027029   \n",
       "3  0.267398 -0.274685 -0.127708  ... -0.098066  0.035687  0.186705 -0.107300   \n",
       "4  0.112838 -0.248052 -0.068454  ... -0.044989 -0.249081 -0.683649  0.126936   \n",
       "\n",
       "        V24       V25       V26       V27       V28  Amount  \n",
       "0  0.360130  0.241921  0.092261 -0.018228  0.032361    1.78  \n",
       "1  0.354395  0.226835  0.093208 -0.021100  0.031686    2.69  \n",
       "2 -0.090180 -0.022896  0.091830  0.547241  0.278780    1.29  \n",
       "3  0.417887  0.712330 -0.330843  0.018576  0.021871    3.99  \n",
       "4  0.395307  0.243448  0.092344 -0.024149  0.020589    1.79  \n",
       "\n",
       "[5 rows x 30 columns]"
      ]
     },
     "execution_count": 30,
     "metadata": {},
     "output_type": "execute_result"
    }
   ],
   "source": [
    "X_res.head()"
   ]
  },
  {
   "cell_type": "code",
   "execution_count": 33,
   "id": "bf1cdef0-982e-4c4e-862d-8b6b7885be0f",
   "metadata": {},
   "outputs": [
    {
     "data": {
      "text/plain": [
       "array([0, 1], dtype=int64)"
      ]
     },
     "execution_count": 33,
     "metadata": {},
     "output_type": "execute_result"
    }
   ],
   "source": [
    "y_res.unique()"
   ]
  },
  {
   "cell_type": "code",
   "execution_count": 26,
   "id": "4166af3e-2b9d-4bb7-af25-9441b5bbfc43",
   "metadata": {},
   "outputs": [
    {
     "name": "stdout",
     "output_type": "stream",
     "text": [
      "(984, 30) (984,)\n"
     ]
    }
   ],
   "source": [
    "print(X_res.shape, y_res.shape)"
   ]
  },
  {
   "cell_type": "code",
   "execution_count": 27,
   "id": "c1cf1a6d-2720-4abe-837b-14bbaeefb9a1",
   "metadata": {},
   "outputs": [],
   "source": [
    "from collections import Counter"
   ]
  },
  {
   "cell_type": "code",
   "execution_count": 28,
   "id": "e7e63003-5108-443c-a693-ced6799c005f",
   "metadata": {},
   "outputs": [
    {
     "name": "stdout",
     "output_type": "stream",
     "text": [
      "Original datset shape Counter({0: 284315, 1: 492})\n",
      "Resampled dataset shape Counter({0: 492, 1: 492})\n"
     ]
    }
   ],
   "source": [
    "print(f'Original datset shape {Counter(y)}')\n",
    "print(f'Resampled dataset shape {Counter(y_res)}')"
   ]
  },
  {
   "cell_type": "code",
   "execution_count": 42,
   "id": "2ba049c6-6de2-4cb9-a220-6bacc667253d",
   "metadata": {},
   "outputs": [],
   "source": [
    "y_df_res = pd.DataFrame(np.array(y_res).reshape(-1,1),columns=[target])"
   ]
  },
  {
   "cell_type": "code",
   "execution_count": 45,
   "id": "9d957d0a-7f55-4e0b-b52e-f19429ec6f1f",
   "metadata": {},
   "outputs": [],
   "source": [
    "under_sampled_df = pd.concat([X_res, y_df_res], axis=1)"
   ]
  },
  {
   "cell_type": "code",
   "execution_count": 46,
   "id": "3996bee7-cc83-4577-af45-bedb43beff36",
   "metadata": {},
   "outputs": [
    {
     "data": {
      "image/png": "[encoded data removed]",
      "text/plain": [
       "<Figure size 640x480 with 1 Axes>"
      ]
     },
     "metadata": {},
     "output_type": "display_data"
    }
   ],
   "source": [
    "under_sampled_df[target].value_counts().plot(kind=\"bar\", rot=0)\n",
    "plt.title(\"Class Distribution\")\n",
    "plt.xticks(range(2),LABELS)\n",
    "plt.xlabel(\"Class\")\n",
    "plt.ylabel(\"Frequency\")\n",
    "plt.show()"
   ]
  },
  {
   "cell_type": "markdown",
   "id": "8baaa73b-04d1-4839-a0dd-1d15a2d255b6",
   "metadata": {},
   "source": [
    "### Imbalanced Data - Over Sampling"
   ]
  },
  {
   "cell_type": "markdown",
   "id": "c469d73a-1f3d-4e8e-bf20-4a29b5b71187",
   "metadata": {},
   "source": [
    "##### IMBLearn SMOTETomek"
   ]
  },
  {
   "cell_type": "code",
   "execution_count": 51,
   "id": "8b6d2076-d819-4e75-8f8d-59c9a1274584",
   "metadata": {},
   "outputs": [],
   "source": [
    "from imblearn.combine import SMOTETomek\n",
    "from imblearn.over_sampling import RandomOverSampler"
   ]
  },
  {
   "cell_type": "code",
   "execution_count": 66,
   "id": "c3b717d9-8911-4c02-93d9-99e8edbe74a0",
   "metadata": {},
   "outputs": [],
   "source": [
    "smk = SMOTETomek(random_state=69, n_jobs=-1, sampling_strategy=1)"
   ]
  },
  {
   "cell_type": "code",
   "execution_count": 53,
   "id": "7aa17dad-6b83-48e7-ac39-00e775eb1cbb",
   "metadata": {},
   "outputs": [
    {
     "name": "stderr",
     "output_type": "stream",
     "text": [
      "C:\\Users\\venka\\anaconda3\\Lib\\site-packages\\imblearn\\over_sampling\\_smote\\base.py:370: FutureWarning: The parameter `n_jobs` has been deprecated in 0.10 and will be removed in 0.12. You can pass an nearest neighbors estimator where `n_jobs` is already set instead.\n",
      "  warnings.warn(\n"
     ]
    }
   ],
   "source": [
    "X_res, y_res = smk.fit_resample(X,y)"
   ]
  },
  {
   "cell_type": "code",
   "execution_count": 54,
   "id": "24575da2-bb11-4174-828c-377050389950",
   "metadata": {},
   "outputs": [
    {
     "name": "stdout",
     "output_type": "stream",
     "text": [
      "(567590, 30) (567590,)\n"
     ]
    }
   ],
   "source": [
    "print(X_res.shape, y_res.shape)"
   ]
  },
  {
   "cell_type": "code",
   "execution_count": 55,
   "id": "104ae64d-ce96-49b1-b3f4-606f911d0739",
   "metadata": {},
   "outputs": [
    {
     "name": "stdout",
     "output_type": "stream",
     "text": [
      "Original dataset shape Counter({0: 284315, 1: 492})\n",
      "Resampled dataset shape Counter({0: 283795, 1: 283795})\n"
     ]
    }
   ],
   "source": [
    "print(f'Original dataset shape {Counter(y)}')\n",
    "print(f'Resampled dataset shape {Counter(y_res)}')"
   ]
  },
  {
   "cell_type": "code",
   "execution_count": 59,
   "id": "b087871a-8377-4851-83a5-a3f1292e037f",
   "metadata": {},
   "outputs": [],
   "source": [
    "os = RandomOverSampler(sampling_strategy=0.5, random_state=69)"
   ]
  },
  {
   "cell_type": "code",
   "execution_count": 60,
   "id": "4a36fb69-13a3-4c0e-b351-4640725f5fb5",
   "metadata": {},
   "outputs": [],
   "source": [
    "X_res_os, y_res_os = os.fit_resample(X,y)"
   ]
  },
  {
   "cell_type": "code",
   "execution_count": 61,
   "id": "5bb74dcb-fbd0-43f0-a8b5-6af36335c041",
   "metadata": {},
   "outputs": [
    {
     "name": "stdout",
     "output_type": "stream",
     "text": [
      "(426472, 30) (426472,)\n"
     ]
    }
   ],
   "source": [
    "print(X_res_os.shape, y_res_os.shape)"
   ]
  },
  {
   "cell_type": "code",
   "execution_count": 62,
   "id": "b232a423-d46e-42b6-b701-735d0b24f284",
   "metadata": {},
   "outputs": [],
   "source": [
    "y_df_res = pd.DataFrame(np.array(y_res_os).reshape(-1,1),columns=[target])"
   ]
  },
  {
   "cell_type": "code",
   "execution_count": 64,
   "id": "225e2ac7-1523-4ab5-a818-89ac6269c30f",
   "metadata": {},
   "outputs": [],
   "source": [
    "over_sampled_df = pd.concat([X_res_os, y_df_res], axis=1)"
   ]
  },
  {
   "cell_type": "code",
   "execution_count": 65,
   "id": "402f49b4-63cb-45a3-8761-b304180d04c9",
   "metadata": {},
   "outputs": [
    {
     "data": {
      "image/png": "[encoded data removed]",
      "text/plain": [
       "<Figure size 640x480 with 1 Axes>"
      ]
     },
     "metadata": {},
     "output_type": "display_data"
    }
   ],
   "source": [
    "over_sampled_df[target].value_counts().plot(kind=\"bar\", rot=0)\n",
    "plt.title(\"Class Distribution\")\n",
    "plt.xticks(range(2),LABELS)\n",
    "plt.xlabel(\"Class\")\n",
    "plt.ylabel(\"Frequency\")\n",
    "plt.show()"
   ]
  },
  {
   "cell_type": "markdown",
   "id": "eb336244-b4b9-4685-b60a-89304d85d24b",
   "metadata": {},
   "source": [
    "Sampling Strategy is the ratio of the minority class\n",
    "\n",
    "let Normal rows = 500, Fraud rows = 100\n",
    "\n",
    "if sampling_strategy = 0.5, then the overSampled rows should add up to get 0.5 of majority rows\n",
    "\n",
    "That means, 0.5 * 500 = 250\n",
    "\n",
    "Thus 150 rows will be oversampled such that total Fraud classes will be 250\n",
    "\n",
    "After OverSampling\n",
    "\n",
    "Normal rows = 500, Fraud rows = 250"
   ]
  },
  {
   "cell_type": "code",
   "execution_count": null,
   "id": "edca2909-cbd0-4dfd-bd42-f0837d496793",
   "metadata": {},
   "outputs": [],
   "source": []
  }
 ],
 "metadata": {
  "kernelspec": {
   "display_name": "Python 3 (ipykernel)",
   "language": "python",
   "name": "python3"
  },
  "language_info": {
   "codemirror_mode": {
    "name": "ipython",
    "version": 3
   },
   "file_extension": ".py",
   "mimetype": "text/x-python",
   "name": "python",
   "nbconvert_exporter": "python",
   "pygments_lexer": "ipython3",
   "version": "3.12.7"
  }
 },
 "nbformat": 4,
 "nbformat_minor": 5
}
