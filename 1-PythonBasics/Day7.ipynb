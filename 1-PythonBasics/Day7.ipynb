{
 "cells": [
  {
   "cell_type": "markdown",
   "id": "a914679c",
   "metadata": {},
   "source": [
    "##### Functions in Python"
   ]
  },
  {
   "cell_type": "code",
   "execution_count": 121,
   "id": "2049c6d7",
   "metadata": {},
   "outputs": [
    {
     "name": "stdout",
     "output_type": "stream",
     "text": [
      "The number is even\n"
     ]
    }
   ],
   "source": [
    "num = 24\n",
    "if num%2==0:\n",
    "    print(\"The number is even\")\n",
    "else:\n",
    "    print(\"The number is odd\")"
   ]
  },
  {
   "cell_type": "code",
   "execution_count": 122,
   "id": "8045439f",
   "metadata": {},
   "outputs": [],
   "source": [
    "def even_or_odd(num):\n",
    "    if num%2==0:\n",
    "        print(\"Even number\")\n",
    "    else:\n",
    "        print(\"Odd number\")"
   ]
  },
  {
   "cell_type": "code",
   "execution_count": 123,
   "id": "fa10a5fb",
   "metadata": {},
   "outputs": [
    {
     "name": "stdout",
     "output_type": "stream",
     "text": [
      "Odd number\n"
     ]
    }
   ],
   "source": [
    "even_or_odd(3)"
   ]
  },
  {
   "cell_type": "code",
   "execution_count": 124,
   "id": "74b8cdec",
   "metadata": {},
   "outputs": [],
   "source": [
    "def hello_world():\n",
    "    print(\"Hello world!\")"
   ]
  },
  {
   "cell_type": "code",
   "execution_count": 125,
   "id": "e77c7262",
   "metadata": {},
   "outputs": [
    {
     "name": "stdout",
     "output_type": "stream",
     "text": [
      "Hello world!\n"
     ]
    }
   ],
   "source": [
    "hello_world()"
   ]
  },
  {
   "cell_type": "code",
   "execution_count": 126,
   "id": "e18013f0",
   "metadata": {},
   "outputs": [
    {
     "name": "stdout",
     "output_type": "stream",
     "text": [
      "Hello world!\n"
     ]
    }
   ],
   "source": [
    "hello = hello_world()"
   ]
  },
  {
   "cell_type": "code",
   "execution_count": 127,
   "id": "f58b9275",
   "metadata": {},
   "outputs": [],
   "source": [
    "hello"
   ]
  },
  {
   "cell_type": "code",
   "execution_count": 128,
   "id": "2d3f33fd",
   "metadata": {},
   "outputs": [
    {
     "name": "stdout",
     "output_type": "stream",
     "text": [
      "None\n"
     ]
    }
   ],
   "source": [
    "print(hello)"
   ]
  },
  {
   "cell_type": "code",
   "execution_count": 129,
   "id": "5b3d4208",
   "metadata": {},
   "outputs": [],
   "source": [
    "def hello_world():\n",
    "    return \"Hello world!\""
   ]
  },
  {
   "cell_type": "code",
   "execution_count": 130,
   "id": "bbff7a4a",
   "metadata": {},
   "outputs": [],
   "source": [
    "hello2=hello_world()"
   ]
  },
  {
   "cell_type": "code",
   "execution_count": 131,
   "id": "6665e0cf",
   "metadata": {},
   "outputs": [
    {
     "data": {
      "text/plain": [
       "'Hello world!'"
      ]
     },
     "execution_count": 131,
     "metadata": {},
     "output_type": "execute_result"
    }
   ],
   "source": [
    "hello2"
   ]
  },
  {
   "cell_type": "code",
   "execution_count": 132,
   "id": "1eafec0a",
   "metadata": {},
   "outputs": [
    {
     "name": "stdout",
     "output_type": "stream",
     "text": [
      "Hello world!\n"
     ]
    }
   ],
   "source": [
    "print(hello2)"
   ]
  },
  {
   "cell_type": "code",
   "execution_count": 133,
   "id": "311c7513",
   "metadata": {},
   "outputs": [],
   "source": [
    "def add_num(num1,num2):\n",
    "    return num1+num2"
   ]
  },
  {
   "cell_type": "code",
   "execution_count": 134,
   "id": "ac2470e0",
   "metadata": {},
   "outputs": [
    {
     "data": {
      "text/plain": [
       "4"
      ]
     },
     "execution_count": 134,
     "metadata": {},
     "output_type": "execute_result"
    }
   ],
   "source": [
    "add_num(1,3)"
   ]
  },
  {
   "cell_type": "code",
   "execution_count": 135,
   "id": "044e3ed6",
   "metadata": {},
   "outputs": [
    {
     "name": "stdout",
     "output_type": "stream",
     "text": [
      "4\n"
     ]
    }
   ],
   "source": [
    "sum = add_num(1,3)\n",
    "print(sum)"
   ]
  },
  {
   "cell_type": "code",
   "execution_count": 136,
   "id": "c4b9c6c9",
   "metadata": {},
   "outputs": [],
   "source": [
    "def hello(name,age=25):\n",
    "    print(\"My name is {} and age is {}\".format(name,age))"
   ]
  },
  {
   "cell_type": "code",
   "execution_count": 137,
   "id": "d92cb3b4",
   "metadata": {},
   "outputs": [
    {
     "name": "stdout",
     "output_type": "stream",
     "text": [
      "My name is Benkly and age is 25\n"
     ]
    }
   ],
   "source": [
    "hello(\"Benkly\")"
   ]
  },
  {
   "cell_type": "code",
   "execution_count": 138,
   "id": "93f717a3",
   "metadata": {},
   "outputs": [
    {
     "name": "stdout",
     "output_type": "stream",
     "text": [
      "My name is Benkly and age is 21\n"
     ]
    }
   ],
   "source": [
    "hello(\"Benkly\",21)"
   ]
  },
  {
   "cell_type": "code",
   "execution_count": 139,
   "id": "d28f4f85",
   "metadata": {},
   "outputs": [
    {
     "ename": "TypeError",
     "evalue": "hello() missing 1 required positional argument: 'name'",
     "output_type": "error",
     "traceback": [
      "\u001b[1;31m---------------------------------------------------------------------------\u001b[0m",
      "\u001b[1;31mTypeError\u001b[0m                                 Traceback (most recent call last)",
      "Cell \u001b[1;32mIn[139], line 1\u001b[0m\n\u001b[1;32m----> 1\u001b[0m hello()\n",
      "\u001b[1;31mTypeError\u001b[0m: hello() missing 1 required positional argument: 'name'"
     ]
    }
   ],
   "source": [
    "hello()"
   ]
  },
  {
   "cell_type": "code",
   "execution_count": 140,
   "id": "0f82765d",
   "metadata": {},
   "outputs": [
    {
     "ename": "TypeError",
     "evalue": "even_or_odd() missing 1 required positional argument: 'num'",
     "output_type": "error",
     "traceback": [
      "\u001b[1;31m---------------------------------------------------------------------------\u001b[0m",
      "\u001b[1;31mTypeError\u001b[0m                                 Traceback (most recent call last)",
      "Cell \u001b[1;32mIn[140], line 1\u001b[0m\n\u001b[1;32m----> 1\u001b[0m even_or_odd()\n",
      "\u001b[1;31mTypeError\u001b[0m: even_or_odd() missing 1 required positional argument: 'num'"
     ]
    }
   ],
   "source": [
    "even_or_odd()"
   ]
  },
  {
   "cell_type": "markdown",
   "id": "cb8aee4f",
   "metadata": {},
   "source": [
    "##### Positional & Keyword arguments"
   ]
  },
  {
   "cell_type": "code",
   "execution_count": 141,
   "id": "9dc74893",
   "metadata": {},
   "outputs": [],
   "source": [
    "#In hello function, name is positional argument and age is keyword argument"
   ]
  },
  {
   "cell_type": "code",
   "execution_count": 142,
   "id": "8135150e",
   "metadata": {},
   "outputs": [],
   "source": [
    "def hello(*args,**kwargs):\n",
    "    print(args)\n",
    "    print(kwargs)"
   ]
  },
  {
   "cell_type": "code",
   "execution_count": 143,
   "id": "3ab12098",
   "metadata": {},
   "outputs": [
    {
     "name": "stdout",
     "output_type": "stream",
     "text": [
      "('Benkly', 'Kai', 'Joffa')\n",
      "{}\n"
     ]
    }
   ],
   "source": [
    "hello(\"Benkly\",\"Kai\",\"Joffa\")"
   ]
  },
  {
   "cell_type": "code",
   "execution_count": 144,
   "id": "f0af1b1c",
   "metadata": {},
   "outputs": [
    {
     "name": "stdout",
     "output_type": "stream",
     "text": [
      "('Benkly', 'Kai', 'Joffa')\n",
      "{'age': 21, 'job': 'SDE'}\n"
     ]
    }
   ],
   "source": [
    "hello(\"Benkly\",\"Kai\",\"Joffa\",age=21,job=\"SDE\")"
   ]
  },
  {
   "cell_type": "code",
   "execution_count": 145,
   "id": "57967296",
   "metadata": {},
   "outputs": [],
   "source": [
    "lst = [\"Benkly\",\"Kai\",\"Joffa\"]\n",
    "dic = {\"age\":21, \"role\":\"SDE\"}"
   ]
  },
  {
   "cell_type": "code",
   "execution_count": 146,
   "id": "a5f68c02",
   "metadata": {},
   "outputs": [
    {
     "name": "stdout",
     "output_type": "stream",
     "text": [
      "(['Benkly', 'Kai', 'Joffa'], {'age': 21, 'role': 'SDE'})\n",
      "{}\n"
     ]
    }
   ],
   "source": [
    "hello(lst,dic)"
   ]
  },
  {
   "cell_type": "markdown",
   "id": "9c8aa622",
   "metadata": {},
   "source": [
    "it's considering both lst and dic as positional arguments by default"
   ]
  },
  {
   "cell_type": "markdown",
   "id": "88c2f643",
   "metadata": {},
   "source": [
    "To avoid that problem use * & ** before the arguments"
   ]
  },
  {
   "cell_type": "code",
   "execution_count": 147,
   "id": "0b2dd152",
   "metadata": {},
   "outputs": [
    {
     "name": "stdout",
     "output_type": "stream",
     "text": [
      "('Benkly', 'Kai', 'Joffa')\n",
      "{'age': 21, 'role': 'SDE'}\n"
     ]
    }
   ],
   "source": [
    "hello(*lst, **dic)"
   ]
  },
  {
   "cell_type": "code",
   "execution_count": 148,
   "id": "6251dddb",
   "metadata": {},
   "outputs": [],
   "source": [
    "def even_odd_sum(lst):\n",
    "    even_sum = 0\n",
    "    odd_sum = 0\n",
    "    for i in lst:\n",
    "        if i%2==0:\n",
    "            even_sum+=i\n",
    "        else:\n",
    "            odd_sum+=i\n",
    "    return even_sum, odd_sum"
   ]
  },
  {
   "cell_type": "code",
   "execution_count": 149,
   "id": "9c4ca0e0",
   "metadata": {},
   "outputs": [],
   "source": [
    "eSum,oSum=even_odd_sum([1,2,3,4,5,6,7])"
   ]
  },
  {
   "cell_type": "code",
   "execution_count": 150,
   "id": "8242eafc",
   "metadata": {},
   "outputs": [
    {
     "name": "stdout",
     "output_type": "stream",
     "text": [
      "12 16\n"
     ]
    }
   ],
   "source": [
    "print(eSum,oSum)"
   ]
  },
  {
   "cell_type": "markdown",
   "id": "2e98d297",
   "metadata": {},
   "source": [
    "##### Map function in Python"
   ]
  },
  {
   "cell_type": "code",
   "execution_count": 151,
   "id": "8b827215",
   "metadata": {},
   "outputs": [],
   "source": [
    "def even_or_odd(num):\n",
    "    if (num%2==0):\n",
    "        return \"The number {} is Even\".format(num)\n",
    "    else:\n",
    "        return \"The number {} is Odd\".format(num)"
   ]
  },
  {
   "cell_type": "code",
   "execution_count": 152,
   "id": "16475b4e",
   "metadata": {},
   "outputs": [
    {
     "data": {
      "text/plain": [
       "'The number 23 is Odd'"
      ]
     },
     "execution_count": 152,
     "metadata": {},
     "output_type": "execute_result"
    }
   ],
   "source": [
    "even_or_odd(23)"
   ]
  },
  {
   "cell_type": "code",
   "execution_count": 153,
   "id": "abe82e32",
   "metadata": {},
   "outputs": [],
   "source": [
    "lst = [2,3,5,7,79,69,99,78,24,100]"
   ]
  },
  {
   "cell_type": "code",
   "execution_count": 154,
   "id": "7d1bcc30",
   "metadata": {},
   "outputs": [
    {
     "data": {
      "text/plain": [
       "<map at 0x1a214d49b10>"
      ]
     },
     "execution_count": 154,
     "metadata": {},
     "output_type": "execute_result"
    }
   ],
   "source": [
    "map(even_or_odd,lst)"
   ]
  },
  {
   "cell_type": "code",
   "execution_count": 155,
   "id": "1fbf9bc7",
   "metadata": {},
   "outputs": [
    {
     "data": {
      "text/plain": [
       "['The number 2 is Even',\n",
       " 'The number 3 is Odd',\n",
       " 'The number 5 is Odd',\n",
       " 'The number 7 is Odd',\n",
       " 'The number 79 is Odd',\n",
       " 'The number 69 is Odd',\n",
       " 'The number 99 is Odd',\n",
       " 'The number 78 is Even',\n",
       " 'The number 24 is Even',\n",
       " 'The number 100 is Even']"
      ]
     },
     "execution_count": 155,
     "metadata": {},
     "output_type": "execute_result"
    }
   ],
   "source": [
    "list(map(even_or_odd,lst))"
   ]
  },
  {
   "cell_type": "markdown",
   "id": "82f3e321",
   "metadata": {},
   "source": [
    "##### Lambda Function"
   ]
  },
  {
   "cell_type": "code",
   "execution_count": 156,
   "id": "e366682a",
   "metadata": {},
   "outputs": [],
   "source": [
    "def add(a,b):\n",
    "    return a+b"
   ]
  },
  {
   "cell_type": "code",
   "execution_count": 157,
   "id": "2bdeafaf",
   "metadata": {},
   "outputs": [
    {
     "data": {
      "text/plain": [
       "9"
      ]
     },
     "execution_count": 157,
     "metadata": {},
     "output_type": "execute_result"
    }
   ],
   "source": [
    "add(4,5)"
   ]
  },
  {
   "cell_type": "code",
   "execution_count": 158,
   "id": "5dbed2cd",
   "metadata": {},
   "outputs": [
    {
     "data": {
      "text/plain": [
       "<function __main__.<lambda>(a, b)>"
      ]
     },
     "execution_count": 158,
     "metadata": {},
     "output_type": "execute_result"
    }
   ],
   "source": [
    "lambda a,b:a+b"
   ]
  },
  {
   "cell_type": "code",
   "execution_count": 159,
   "id": "b85e722f",
   "metadata": {},
   "outputs": [],
   "source": [
    "addition = lambda a,b:a+b"
   ]
  },
  {
   "cell_type": "code",
   "execution_count": 160,
   "id": "9cdf3b31",
   "metadata": {},
   "outputs": [
    {
     "data": {
      "text/plain": [
       "25"
      ]
     },
     "execution_count": 160,
     "metadata": {},
     "output_type": "execute_result"
    }
   ],
   "source": [
    "addition(12,13)"
   ]
  },
  {
   "cell_type": "code",
   "execution_count": 161,
   "id": "862731b8",
   "metadata": {},
   "outputs": [],
   "source": [
    "def isEven(num):\n",
    "    if num%2==0:\n",
    "        return True"
   ]
  },
  {
   "cell_type": "code",
   "execution_count": 162,
   "id": "c33968e7",
   "metadata": {},
   "outputs": [],
   "source": [
    "isEven(13)"
   ]
  },
  {
   "cell_type": "code",
   "execution_count": 163,
   "id": "d9a924b7",
   "metadata": {},
   "outputs": [
    {
     "data": {
      "text/plain": [
       "True"
      ]
     },
     "execution_count": 163,
     "metadata": {},
     "output_type": "execute_result"
    }
   ],
   "source": [
    "isEven(12)"
   ]
  },
  {
   "cell_type": "code",
   "execution_count": 164,
   "id": "d591620d",
   "metadata": {},
   "outputs": [],
   "source": [
    "isEven = lambda a:a%2==0"
   ]
  },
  {
   "cell_type": "code",
   "execution_count": 165,
   "id": "bfc4bfb6",
   "metadata": {},
   "outputs": [
    {
     "data": {
      "text/plain": [
       "False"
      ]
     },
     "execution_count": 165,
     "metadata": {},
     "output_type": "execute_result"
    }
   ],
   "source": [
    "isEven(11)"
   ]
  },
  {
   "cell_type": "code",
   "execution_count": 166,
   "id": "0a23d13a",
   "metadata": {},
   "outputs": [
    {
     "data": {
      "text/plain": [
       "True"
      ]
     },
     "execution_count": 166,
     "metadata": {},
     "output_type": "execute_result"
    }
   ],
   "source": [
    "isEven(24)"
   ]
  },
  {
   "cell_type": "markdown",
   "id": "b8a9968e",
   "metadata": {},
   "source": [
    "##### Filter function in python"
   ]
  },
  {
   "cell_type": "code",
   "execution_count": 167,
   "id": "00db78ce",
   "metadata": {},
   "outputs": [
    {
     "data": {
      "text/plain": [
       "[2, 3, 5, 7, 79, 69, 99, 78, 24, 100]"
      ]
     },
     "execution_count": 167,
     "metadata": {},
     "output_type": "execute_result"
    }
   ],
   "source": [
    "lst"
   ]
  },
  {
   "cell_type": "code",
   "execution_count": 168,
   "id": "c63a5d69",
   "metadata": {},
   "outputs": [
    {
     "data": {
      "text/plain": [
       "<filter at 0x1a21525cd30>"
      ]
     },
     "execution_count": 168,
     "metadata": {},
     "output_type": "execute_result"
    }
   ],
   "source": [
    "filter(lambda num:num%2==0,lst)"
   ]
  },
  {
   "cell_type": "code",
   "execution_count": 169,
   "id": "719f5969",
   "metadata": {},
   "outputs": [
    {
     "data": {
      "text/plain": [
       "[2, 78, 24, 100]"
      ]
     },
     "execution_count": 169,
     "metadata": {},
     "output_type": "execute_result"
    }
   ],
   "source": [
    "list(filter(lambda num:num%2==0,lst))"
   ]
  },
  {
   "cell_type": "code",
   "execution_count": 170,
   "id": "ff5bf341",
   "metadata": {},
   "outputs": [
    {
     "data": {
      "text/plain": [
       "[True, False, False, False, False, False, False, True, True, True]"
      ]
     },
     "execution_count": 170,
     "metadata": {},
     "output_type": "execute_result"
    }
   ],
   "source": [
    "list(map(lambda num:num%2==0,lst))"
   ]
  },
  {
   "cell_type": "markdown",
   "id": "13020da6",
   "metadata": {},
   "source": [
    "##### List Comprehension"
   ]
  },
  {
   "cell_type": "code",
   "execution_count": 171,
   "id": "390fc269",
   "metadata": {},
   "outputs": [],
   "source": [
    "def squares(lst):\n",
    "    new_lst = []\n",
    "    for i in lst:\n",
    "        new_lst.append(i*i)\n",
    "    return new_lst"
   ]
  },
  {
   "cell_type": "code",
   "execution_count": 172,
   "id": "400ca3de",
   "metadata": {},
   "outputs": [
    {
     "data": {
      "text/plain": [
       "[1, 4, 9, 16, 25, 36, 49]"
      ]
     },
     "execution_count": 172,
     "metadata": {},
     "output_type": "execute_result"
    }
   ],
   "source": [
    "squares([1,2,3,4,5,6,7])"
   ]
  },
  {
   "cell_type": "code",
   "execution_count": 173,
   "id": "b7fd0dd4",
   "metadata": {},
   "outputs": [
    {
     "data": {
      "text/plain": [
       "[1, 4, 9, 16, 25, 36]"
      ]
     },
     "execution_count": 173,
     "metadata": {},
     "output_type": "execute_result"
    }
   ],
   "source": [
    "[i*i for i in [1,2,3,4,5,6]]"
   ]
  },
  {
   "cell_type": "code",
   "execution_count": 174,
   "id": "c2c62d21",
   "metadata": {},
   "outputs": [],
   "source": [
    "def even_squares(lst):\n",
    "    new_lst = []\n",
    "    for i in lst:\n",
    "        if(i%2==0):\n",
    "            new_lst.append(i*i)\n",
    "    return new_lst"
   ]
  },
  {
   "cell_type": "code",
   "execution_count": 175,
   "id": "98960164",
   "metadata": {},
   "outputs": [
    {
     "data": {
      "text/plain": [
       "[4, 16, 36]"
      ]
     },
     "execution_count": 175,
     "metadata": {},
     "output_type": "execute_result"
    }
   ],
   "source": [
    "even_squares([1,2,3,4,5,6,7])"
   ]
  },
  {
   "cell_type": "code",
   "execution_count": 176,
   "id": "ad8a623f",
   "metadata": {},
   "outputs": [
    {
     "data": {
      "text/plain": [
       "[4, 16, 36]"
      ]
     },
     "execution_count": 176,
     "metadata": {},
     "output_type": "execute_result"
    }
   ],
   "source": [
    "[i*i for i in [1,2,3,4,5,6,7] if i%2==0]"
   ]
  },
  {
   "cell_type": "markdown",
   "id": "6d5d84d8",
   "metadata": {},
   "source": [
    "##### String Formatting in Python"
   ]
  },
  {
   "cell_type": "code",
   "execution_count": 177,
   "id": "22ca9977",
   "metadata": {},
   "outputs": [
    {
     "name": "stdout",
     "output_type": "stream",
     "text": [
      "Hi Prends\n"
     ]
    }
   ],
   "source": [
    "print(\"Hi Prends\")"
   ]
  },
  {
   "cell_type": "code",
   "execution_count": 178,
   "id": "90850c14",
   "metadata": {},
   "outputs": [
    {
     "data": {
      "text/plain": [
       "'Hello Bras'"
      ]
     },
     "execution_count": 178,
     "metadata": {},
     "output_type": "execute_result"
    }
   ],
   "source": [
    "strs = \"Hello Bras\"\n",
    "strs"
   ]
  },
  {
   "cell_type": "code",
   "execution_count": 179,
   "id": "e3c43ba2",
   "metadata": {},
   "outputs": [],
   "source": [
    "def greeting(name):\n",
    "    return \"Hello {}. You are screwed!!!\".format(name)"
   ]
  },
  {
   "cell_type": "code",
   "execution_count": 180,
   "id": "9986770e",
   "metadata": {},
   "outputs": [
    {
     "data": {
      "text/plain": [
       "'Hello Benkly. You are screwed!!!'"
      ]
     },
     "execution_count": 180,
     "metadata": {},
     "output_type": "execute_result"
    }
   ],
   "source": [
    "greeting('Benkly')"
   ]
  },
  {
   "cell_type": "code",
   "execution_count": 181,
   "id": "59a610f9",
   "metadata": {},
   "outputs": [],
   "source": [
    "def greet(name):\n",
    "    return f\"Hello {name}\""
   ]
  },
  {
   "cell_type": "code",
   "execution_count": 182,
   "id": "138ef3ba",
   "metadata": {},
   "outputs": [
    {
     "data": {
      "text/plain": [
       "'Hello Kai'"
      ]
     },
     "execution_count": 182,
     "metadata": {},
     "output_type": "execute_result"
    }
   ],
   "source": [
    "greet(\"Kai\")"
   ]
  },
  {
   "cell_type": "markdown",
   "id": "74583997",
   "metadata": {},
   "source": [
    "##### Python list iterables vs iterators"
   ]
  },
  {
   "cell_type": "code",
   "execution_count": 183,
   "id": "505876dc",
   "metadata": {},
   "outputs": [
    {
     "name": "stdout",
     "output_type": "stream",
     "text": [
      "1\n",
      "2\n",
      "3\n",
      "4\n",
      "5\n",
      "6\n",
      "7\n"
     ]
    }
   ],
   "source": [
    "lst = [1,2,3,4,5,6,7]\n",
    "for i in lst:\n",
    "    print(i)"
   ]
  },
  {
   "cell_type": "markdown",
   "id": "7e54c127",
   "metadata": {},
   "source": [
    "List is iterable\n",
    "\n",
    "In case of iterables, all the values in the list are stored in different memory locations"
   ]
  },
  {
   "cell_type": "markdown",
   "id": "8384e7b3",
   "metadata": {},
   "source": [
    "##### iter() => It is a function that converts list into an iterator"
   ]
  },
  {
   "cell_type": "code",
   "execution_count": 184,
   "id": "db82e67b",
   "metadata": {},
   "outputs": [
    {
     "data": {
      "text/plain": [
       "<list_iterator at 0x1a215247be0>"
      ]
     },
     "execution_count": 184,
     "metadata": {},
     "output_type": "execute_result"
    }
   ],
   "source": [
    "iter(lst)"
   ]
  },
  {
   "cell_type": "markdown",
   "id": "d1c4796d",
   "metadata": {},
   "source": [
    "In case of iterators, the value will only be stored in memory on calling next() function"
   ]
  },
  {
   "cell_type": "code",
   "execution_count": 185,
   "id": "73e252f4",
   "metadata": {},
   "outputs": [],
   "source": [
    "lst1 = iter(lst)"
   ]
  },
  {
   "cell_type": "code",
   "execution_count": 186,
   "id": "fa96612c",
   "metadata": {},
   "outputs": [
    {
     "data": {
      "text/plain": [
       "<list_iterator at 0x1a2152444c0>"
      ]
     },
     "execution_count": 186,
     "metadata": {},
     "output_type": "execute_result"
    }
   ],
   "source": [
    "lst1"
   ]
  },
  {
   "cell_type": "markdown",
   "id": "8217772e",
   "metadata": {},
   "source": [
    "##### How to retrieve the elements from an iterator?"
   ]
  },
  {
   "cell_type": "markdown",
   "id": "a8ade41b",
   "metadata": {},
   "source": [
    "Using next() or for loop"
   ]
  },
  {
   "cell_type": "code",
   "execution_count": 187,
   "id": "79fff47f",
   "metadata": {},
   "outputs": [
    {
     "data": {
      "text/plain": [
       "1"
      ]
     },
     "execution_count": 187,
     "metadata": {},
     "output_type": "execute_result"
    }
   ],
   "source": [
    "next(lst1)"
   ]
  },
  {
   "cell_type": "code",
   "execution_count": 188,
   "id": "0e101382",
   "metadata": {},
   "outputs": [
    {
     "data": {
      "text/plain": [
       "2"
      ]
     },
     "execution_count": 188,
     "metadata": {},
     "output_type": "execute_result"
    }
   ],
   "source": [
    "next(lst1)"
   ]
  },
  {
   "cell_type": "code",
   "execution_count": 189,
   "id": "9fef667d",
   "metadata": {},
   "outputs": [
    {
     "data": {
      "text/plain": [
       "3"
      ]
     },
     "execution_count": 189,
     "metadata": {},
     "output_type": "execute_result"
    }
   ],
   "source": [
    "next(lst1)"
   ]
  },
  {
   "cell_type": "code",
   "execution_count": 190,
   "id": "f4383b6a",
   "metadata": {},
   "outputs": [
    {
     "data": {
      "text/plain": [
       "4"
      ]
     },
     "execution_count": 190,
     "metadata": {},
     "output_type": "execute_result"
    }
   ],
   "source": [
    "next(lst1)"
   ]
  },
  {
   "cell_type": "code",
   "execution_count": 191,
   "id": "4d8ad035",
   "metadata": {},
   "outputs": [
    {
     "data": {
      "text/plain": [
       "5"
      ]
     },
     "execution_count": 191,
     "metadata": {},
     "output_type": "execute_result"
    }
   ],
   "source": [
    "next(lst1)"
   ]
  },
  {
   "cell_type": "code",
   "execution_count": 192,
   "id": "ac695df1",
   "metadata": {},
   "outputs": [
    {
     "data": {
      "text/plain": [
       "6"
      ]
     },
     "execution_count": 192,
     "metadata": {},
     "output_type": "execute_result"
    }
   ],
   "source": [
    "next(lst1)"
   ]
  },
  {
   "cell_type": "code",
   "execution_count": 193,
   "id": "a8146f4c",
   "metadata": {},
   "outputs": [
    {
     "data": {
      "text/plain": [
       "7"
      ]
     },
     "execution_count": 193,
     "metadata": {},
     "output_type": "execute_result"
    }
   ],
   "source": [
    "next(lst1)"
   ]
  },
  {
   "cell_type": "code",
   "execution_count": 194,
   "id": "6482892b",
   "metadata": {},
   "outputs": [
    {
     "ename": "StopIteration",
     "evalue": "",
     "output_type": "error",
     "traceback": [
      "\u001b[1;31m---------------------------------------------------------------------------\u001b[0m",
      "\u001b[1;31mStopIteration\u001b[0m                             Traceback (most recent call last)",
      "Cell \u001b[1;32mIn[194], line 1\u001b[0m\n\u001b[1;32m----> 1\u001b[0m \u001b[38;5;28mnext\u001b[39m(lst1)\n",
      "\u001b[1;31mStopIteration\u001b[0m: "
     ]
    }
   ],
   "source": [
    "next(lst1)"
   ]
  },
  {
   "cell_type": "code",
   "execution_count": 195,
   "id": "6e5f7ebd",
   "metadata": {},
   "outputs": [
    {
     "name": "stdout",
     "output_type": "stream",
     "text": [
      "1\n",
      "2\n",
      "3\n",
      "4\n",
      "5\n",
      "6\n",
      "7\n"
     ]
    }
   ],
   "source": [
    "for i in iter(lst):\n",
    "    print(i)"
   ]
  },
  {
   "cell_type": "markdown",
   "id": "2b97e1e1",
   "metadata": {},
   "source": [
    "Stop Iteration Exception is handled already in for loop"
   ]
  },
  {
   "cell_type": "markdown",
   "id": "f7324310",
   "metadata": {},
   "source": [
    "##### Exception Handling in Python"
   ]
  },
  {
   "cell_type": "code",
   "execution_count": 1,
   "id": "3eb2b2fe",
   "metadata": {},
   "outputs": [
    {
     "ename": "NameError",
     "evalue": "name 'b' is not defined",
     "output_type": "error",
     "traceback": [
      "\u001b[1;31m---------------------------------------------------------------------------\u001b[0m",
      "\u001b[1;31mNameError\u001b[0m                                 Traceback (most recent call last)",
      "Cell \u001b[1;32mIn[1], line 1\u001b[0m\n\u001b[1;32m----> 1\u001b[0m a\u001b[38;5;241m=\u001b[39mb\n",
      "\u001b[1;31mNameError\u001b[0m: name 'b' is not defined"
     ]
    }
   ],
   "source": [
    "a=b"
   ]
  },
  {
   "cell_type": "code",
   "execution_count": 2,
   "id": "6b7af5b0",
   "metadata": {},
   "outputs": [
    {
     "name": "stdout",
     "output_type": "stream",
     "text": [
      "name 'b' is not defined\n"
     ]
    }
   ],
   "source": [
    "try:\n",
    "    a=b\n",
    "except Exception as ex:\n",
    "    print(ex)"
   ]
  },
  {
   "cell_type": "code",
   "execution_count": 3,
   "id": "d9283e9f",
   "metadata": {},
   "outputs": [
    {
     "name": "stdout",
     "output_type": "stream",
     "text": [
      "Something went wrong\n"
     ]
    }
   ],
   "source": [
    "try:\n",
    "    a=b\n",
    "except Exception:\n",
    "    print(\"Something went wrong\")"
   ]
  },
  {
   "cell_type": "code",
   "execution_count": 4,
   "id": "d6ba1591",
   "metadata": {},
   "outputs": [
    {
     "name": "stdout",
     "output_type": "stream",
     "text": [
      "The user have not defined the variable\n"
     ]
    }
   ],
   "source": [
    "try:\n",
    "    a=b\n",
    "except NameError as ex1:\n",
    "    print(\"The user have not defined the variable\")\n",
    "except Exception as ex:\n",
    "    print(ex)"
   ]
  },
  {
   "cell_type": "code",
   "execution_count": 200,
   "id": "13468b6b",
   "metadata": {},
   "outputs": [
    {
     "ename": "TypeError",
     "evalue": "unsupported operand type(s) for +: 'int' and 'str'",
     "output_type": "error",
     "traceback": [
      "\u001b[1;31m---------------------------------------------------------------------------\u001b[0m",
      "\u001b[1;31mTypeError\u001b[0m                                 Traceback (most recent call last)",
      "Cell \u001b[1;32mIn[200], line 3\u001b[0m\n\u001b[0;32m      1\u001b[0m a\u001b[38;5;241m=\u001b[39m\u001b[38;5;241m1\u001b[39m\n\u001b[0;32m      2\u001b[0m b\u001b[38;5;241m=\u001b[39m\u001b[38;5;124m\"\u001b[39m\u001b[38;5;124ms\u001b[39m\u001b[38;5;124m\"\u001b[39m\n\u001b[1;32m----> 3\u001b[0m c\u001b[38;5;241m=\u001b[39ma\u001b[38;5;241m+\u001b[39mb\n",
      "\u001b[1;31mTypeError\u001b[0m: unsupported operand type(s) for +: 'int' and 'str'"
     ]
    }
   ],
   "source": [
    "a=1\n",
    "b=\"s\"\n",
    "c=a+b"
   ]
  },
  {
   "cell_type": "code",
   "execution_count": 201,
   "id": "802415bc",
   "metadata": {},
   "outputs": [
    {
     "name": "stdout",
     "output_type": "stream",
     "text": [
      "unsupported operand type(s) for +: 'int' and 'str'\n"
     ]
    }
   ],
   "source": [
    "try:\n",
    "    a=1\n",
    "    b=\"s\"\n",
    "    c=a+b\n",
    "except NameError as ex1:\n",
    "    print(\"The user have not defined the variable\")\n",
    "except Exception as ex:\n",
    "    print(ex)"
   ]
  },
  {
   "cell_type": "code",
   "execution_count": 202,
   "id": "cdeedfd6",
   "metadata": {},
   "outputs": [
    {
     "name": "stdout",
     "output_type": "stream",
     "text": [
      "The data types are not matching\n"
     ]
    }
   ],
   "source": [
    "try:\n",
    "    a=1\n",
    "    b=\"s\"\n",
    "    c=a+b\n",
    "except NameError as ex1:\n",
    "    print(\"The user have not defined the variable\")\n",
    "except TypeError as ex2:\n",
    "    print(\"The data types are not matching\")\n",
    "except Exception as ex:\n",
    "    print(ex)"
   ]
  },
  {
   "cell_type": "code",
   "execution_count": 203,
   "id": "779b1723",
   "metadata": {},
   "outputs": [
    {
     "ename": "ZeroDivisionError",
     "evalue": "division by zero",
     "output_type": "error",
     "traceback": [
      "\u001b[1;31m---------------------------------------------------------------------------\u001b[0m",
      "\u001b[1;31mZeroDivisionError\u001b[0m                         Traceback (most recent call last)",
      "Cell \u001b[1;32mIn[203], line 3\u001b[0m\n\u001b[0;32m      1\u001b[0m a\u001b[38;5;241m=\u001b[39m\u001b[38;5;241m1\u001b[39m\n\u001b[0;32m      2\u001b[0m b\u001b[38;5;241m=\u001b[39m\u001b[38;5;241m0\u001b[39m\n\u001b[1;32m----> 3\u001b[0m a\u001b[38;5;241m/\u001b[39mb\n",
      "\u001b[1;31mZeroDivisionError\u001b[0m: division by zero"
     ]
    }
   ],
   "source": [
    "a=1\n",
    "b=0\n",
    "a/b"
   ]
  },
  {
   "cell_type": "code",
   "execution_count": 204,
   "id": "4e5011af",
   "metadata": {},
   "outputs": [
    {
     "name": "stdout",
     "output_type": "stream",
     "text": [
      "Enter first value: 12\n",
      "Enter second value: 0\n",
      "Second value must be non zero\n"
     ]
    }
   ],
   "source": [
    "try:\n",
    "    a=int(input(\"Enter first value: \"))\n",
    "    b=int(input(\"Enter second value: \"))\n",
    "    c=a+b\n",
    "    d=a/b\n",
    "    e=a*b\n",
    "    print(c)\n",
    "    print(d)\n",
    "    print(e)\n",
    "except NameError as ex1:\n",
    "    print(\"The user have not defined the variable\")\n",
    "except TypeError as ex2:\n",
    "    print(\"The data types are not matching\")\n",
    "except ZeroDivisionError as ex3:\n",
    "    print(\"Second value must be non zero\")\n",
    "except Exception as ex:\n",
    "    print(ex)"
   ]
  },
  {
   "cell_type": "markdown",
   "id": "85b9a66c",
   "metadata": {},
   "source": [
    "##### try-else"
   ]
  },
  {
   "cell_type": "markdown",
   "id": "0d8bd2eb",
   "metadata": {},
   "source": [
    "If exception is not triggered, it will go to the else block"
   ]
  },
  {
   "cell_type": "code",
   "execution_count": 205,
   "id": "b1d65685",
   "metadata": {},
   "outputs": [
    {
     "name": "stdout",
     "output_type": "stream",
     "text": [
      "Enter first value: 12\n",
      "Enter second value: 1\n",
      "13\n",
      "12.0\n",
      "12\n"
     ]
    }
   ],
   "source": [
    "try:\n",
    "    a=int(input(\"Enter first value: \"))\n",
    "    b=int(input(\"Enter second value: \"))\n",
    "    c=a+b\n",
    "    d=a/b\n",
    "    e=a*b\n",
    "except NameError as ex1:\n",
    "    print(\"The user have not defined the variable\")\n",
    "except TypeError as ex2:\n",
    "    print(\"The data types are not matching\")\n",
    "except ZeroDivisionError as ex3:\n",
    "    print(\"Second value must be non zero\")\n",
    "except Exception as ex:\n",
    "    print(ex)\n",
    "else:\n",
    "    print(c)\n",
    "    print(d)\n",
    "    print(e)"
   ]
  },
  {
   "cell_type": "markdown",
   "id": "a39fb3be",
   "metadata": {},
   "source": [
    "##### try-else-finally"
   ]
  },
  {
   "cell_type": "code",
   "execution_count": 206,
   "id": "09dac3df",
   "metadata": {},
   "outputs": [
    {
     "name": "stdout",
     "output_type": "stream",
     "text": [
      "Enter first value: 12\n",
      "Enter second value: 3\n",
      "Inside else block\n",
      "15\n",
      "4.0\n",
      "36\n",
      "The execution is completed\n"
     ]
    }
   ],
   "source": [
    "try:\n",
    "    a=int(input(\"Enter first value: \"))\n",
    "    b=int(input(\"Enter second value: \"))\n",
    "    c=a+b\n",
    "    d=a/b\n",
    "    e=a*b\n",
    "except NameError as ex1:\n",
    "    print(\"The user have not defined the variable\")\n",
    "except TypeError as ex2:\n",
    "    print(\"The data types are not matching\")\n",
    "except ZeroDivisionError as ex3:\n",
    "    print(\"Second value must be non zero\")\n",
    "except Exception as ex:\n",
    "    print(ex)\n",
    "else:\n",
    "    print(\"Inside else block\")\n",
    "    print(c)\n",
    "    print(d)\n",
    "    print(e)\n",
    "finally:\n",
    "    print(\"The execution is completed\")"
   ]
  },
  {
   "cell_type": "code",
   "execution_count": 207,
   "id": "5966f7fe",
   "metadata": {},
   "outputs": [
    {
     "name": "stdout",
     "output_type": "stream",
     "text": [
      "Enter first value: 12\n",
      "Enter second value: 0\n",
      "Second value must be non zero\n",
      "The execution is completed\n"
     ]
    }
   ],
   "source": [
    "try:\n",
    "    a=int(input(\"Enter first value: \"))\n",
    "    b=int(input(\"Enter second value: \"))\n",
    "    c=a+b\n",
    "    d=a/b\n",
    "    e=a*b\n",
    "except NameError as ex1:\n",
    "    print(\"The user have not defined the variable\")\n",
    "except TypeError as ex2:\n",
    "    print(\"The data types are not matching\")\n",
    "except ZeroDivisionError as ex3:\n",
    "    print(\"Second value must be non zero\")\n",
    "except Exception as ex:\n",
    "    print(ex)\n",
    "else:\n",
    "    print(\"Inside else block\")\n",
    "    print(c)\n",
    "    print(d)\n",
    "    print(e)\n",
    "finally:\n",
    "    print(\"The execution is completed\")"
   ]
  },
  {
   "cell_type": "markdown",
   "id": "a069fd5c",
   "metadata": {},
   "source": [
    "##### Custom Exception"
   ]
  },
  {
   "cell_type": "code",
   "execution_count": 208,
   "id": "e541953e",
   "metadata": {},
   "outputs": [],
   "source": [
    "class Error(Exception):\n",
    "    pass\n",
    "\n",
    "class dobException(Error):\n",
    "    pass"
   ]
  },
  {
   "cell_type": "code",
   "execution_count": 218,
   "id": "6d98f0b1",
   "metadata": {},
   "outputs": [
    {
     "name": "stdout",
     "output_type": "stream",
     "text": [
      "Enter your DOB year: 2000\n"
     ]
    }
   ],
   "source": [
    "year = int(input(\"Enter your DOB year: \"))\n",
    "age = 2024-year"
   ]
  },
  {
   "cell_type": "code",
   "execution_count": 219,
   "id": "be1c7330",
   "metadata": {},
   "outputs": [
    {
     "name": "stdout",
     "output_type": "stream",
     "text": [
      "Valid Age. You can be in depression\n"
     ]
    }
   ],
   "source": [
    "try:\n",
    "    if age>20 and age<=30:\n",
    "        print(\"Valid Age. You can be in depression\")\n",
    "    else:\n",
    "        raise dobException\n",
    "except dobException:\n",
    "    print(\"The age is not within the range. I feel Sorry for you.\")"
   ]
  },
  {
   "cell_type": "code",
   "execution_count": 222,
   "id": "a7a077c9",
   "metadata": {},
   "outputs": [
    {
     "name": "stdout",
     "output_type": "stream",
     "text": [
      "Enter your DOB year: 1989\n"
     ]
    }
   ],
   "source": [
    "year = int(input(\"Enter your DOB year: \"))\n",
    "age = 2024-year"
   ]
  },
  {
   "cell_type": "code",
   "execution_count": 223,
   "id": "093fe0b5",
   "metadata": {},
   "outputs": [
    {
     "name": "stdout",
     "output_type": "stream",
     "text": [
      "The age is not within the range. I feel Sorry for you.\n"
     ]
    }
   ],
   "source": [
    "try:\n",
    "    if age1>20 and age1<=30:\n",
    "        print(\"Valid Age. You can be in depression\")\n",
    "    else:\n",
    "        raise dobException\n",
    "except dobException:\n",
    "    print(\"The age is not within the range. I feel Sorry for you.\")"
   ]
  },
  {
   "cell_type": "code",
   "execution_count": null,
   "id": "25de93ba",
   "metadata": {},
   "outputs": [],
   "source": []
  }
 ],
 "metadata": {
  "kernelspec": {
   "display_name": "Python 3 (ipykernel)",
   "language": "python",
   "name": "python3"
  },
  "language_info": {
   "codemirror_mode": {
    "name": "ipython",
    "version": 3
   },
   "file_extension": ".py",
   "mimetype": "text/x-python",
   "name": "python",
   "nbconvert_exporter": "python",
   "pygments_lexer": "ipython3",
   "version": "3.11.5"
  }
 },
 "nbformat": 4,
 "nbformat_minor": 5
}
