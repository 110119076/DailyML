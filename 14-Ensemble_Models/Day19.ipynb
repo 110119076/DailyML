{
 "cells": [
  {
   "cell_type": "markdown",
   "id": "0f1fa147-d70d-46f2-aff9-bebfa6ca0886",
   "metadata": {},
   "source": [
    "### Ensemble Techniques"
   ]
  },
  {
   "cell_type": "markdown",
   "id": "4d6ffbf0-0959-4edd-bb4b-023bf0a58b96",
   "metadata": {},
   "source": [
    "Ensembling => Combining multiple models"
   ]
  },
  {
   "cell_type": "markdown",
   "id": "4c88a53b-3775-4478-afcf-cb8c86a7fc82",
   "metadata": {},
   "source": [
    "1) Bagging\n",
    "\n",
    "2) Boosting"
   ]
  },
  {
   "cell_type": "markdown",
   "id": "99e988f2-cab5-4dd9-93a5-1c8b20a10f7c",
   "metadata": {},
   "source": [
    "#### Bagging (Bootstrap Aggregation)"
   ]
  },
  {
   "cell_type": "markdown",
   "id": "0113b323-7d47-4b30-a19c-c975f937aae2",
   "metadata": {},
   "source": [
    "Eg: \n",
    "\n",
    "Random Forest"
   ]
  },
  {
   "cell_type": "markdown",
   "id": "3cc6766c-a17f-4355-85b0-a87000f9fd38",
   "metadata": {},
   "source": [
    "#### Boosting"
   ]
  },
  {
   "cell_type": "markdown",
   "id": "f2b8f5d0-2486-4b3a-b3fc-997e7cfdb08d",
   "metadata": {},
   "source": [
    "Eg: \n",
    "\n",
    "AdaBoost\n",
    "\n",
    "Gradient Boosting\n",
    "\n",
    "XGBoost"
   ]
  },
  {
   "cell_type": "markdown",
   "id": "3c95f6c9-3e06-4351-90fd-daf47eb8637c",
   "metadata": {},
   "source": [
    "##### How Bagging Works?"
   ]
  },
  {
   "cell_type": "markdown",
   "id": "588e4b7f-f101-44d9-a27b-2ca84577d953",
   "metadata": {},
   "source": [
    "Consider a dataset with many rows and columns\n",
    "\n",
    "Create many base models\n",
    "\n",
    "For each model select a sample of records (row sampling with replacement) and train each base model\n",
    "\n",
    "Row sampling with replacement means let's say sample 1 for base model 1 contains row 1 to 5, sample2 for base model 2 can contain from row 3 to 7 (i.e., row 3 to 5 are repeated)\n",
    "\n",
    "When a new test data is given to all the base models, each results an output\n",
    "\n",
    "Combine all the outputs based on the Majority Votes (for classifier)/ Mean of Outputs (for regressor) to get the final output"
   ]
  },
  {
   "cell_type": "markdown",
   "id": "b9526df6-ee4a-4183-b13e-52a2e2b4d98a",
   "metadata": {},
   "source": [
    "If base models are Decision Trees and Row & Feature (Column) Sampling with Replacement then Bagging is called as Random Forest"
   ]
  },
  {
   "cell_type": "markdown",
   "id": "fc8a438d-8744-49cc-ad08-5ccf874fa728",
   "metadata": {},
   "source": [
    "### Random Forest"
   ]
  },
  {
   "cell_type": "markdown",
   "id": "8e70f5eb-f7be-4f0c-9dd7-898b63c3770b",
   "metadata": {},
   "source": [
    "Consider a dataset with m rows and n columns\n",
    "\n",
    "All the base models in Random Forest are Decision Trees\n",
    "\n",
    "Consider k base models / k Decision Trees\n",
    "\n",
    "Now pick some sample of rows & features (with replacement) Row Sampling + Feature Sampling\n",
    "\n",
    "{m1, n1} to DT1, {m2,n2} to DT2,....\n",
    "\n",
    "Note mi < m & ni < n for i = 1 to k\n",
    "\n",
    "Each DT gives an output let's say y1, y2, y3, ... yk\n",
    "\n",
    "Now for Random Forest Classifier (choose the mode / majority of all the base models O/Ps)\n",
    "\n",
    "For Random Forest Regressor (choose the mean / median of all the base models O/Ps)"
   ]
  },
  {
   "cell_type": "markdown",
   "id": "e1f46570-ec81-461d-a71a-71b89c7a9ab1",
   "metadata": {},
   "source": [
    "##### Decision Trees Properties"
   ]
  },
  {
   "cell_type": "markdown",
   "id": "e2d71fa6-d7e8-4495-9b37-8005d16f97a9",
   "metadata": {},
   "source": [
    "Low Bias\n",
    "\n",
    "High Variance"
   ]
  },
  {
   "cell_type": "markdown",
   "id": "0026a459-5537-4703-ad7a-536894ff8070",
   "metadata": {},
   "source": [
    "##### Random Forest Properties"
   ]
  },
  {
   "cell_type": "markdown",
   "id": "ec6190f8-9f1d-4189-9840-4c10c37f17a3",
   "metadata": {},
   "source": [
    "Combining multiple DT's will make Low Variance"
   ]
  },
  {
   "cell_type": "markdown",
   "id": "aa41c5ad-ff83-4c3f-a1de-3b0abd69b946",
   "metadata": {},
   "source": [
    "Thus, \n",
    "\n",
    "Low Bias\n",
    "\n",
    "Low Variance"
   ]
  },
  {
   "cell_type": "markdown",
   "id": "246e1b57-1011-4c44-9cb6-8544195394f3",
   "metadata": {},
   "source": [
    "If data is changed in future, then also there won't be much impact in the data as we follow RS + FS with replacement"
   ]
  },
  {
   "cell_type": "markdown",
   "id": "d198f07f-d50b-440f-9f4d-6f64a65cf435",
   "metadata": {},
   "source": [
    "**NOTE**: No. of DT's to use in RF algorithm is a hyperparameter"
   ]
  },
  {
   "cell_type": "code",
   "execution_count": null,
   "id": "cbe34382-dced-48e8-a4e0-7252cd501c86",
   "metadata": {},
   "outputs": [],
   "source": []
  }
 ],
 "metadata": {
  "kernelspec": {
   "display_name": "Python 3 (ipykernel)",
   "language": "python",
   "name": "python3"
  },
  "language_info": {
   "codemirror_mode": {
    "name": "ipython",
    "version": 3
   },
   "file_extension": ".py",
   "mimetype": "text/x-python",
   "name": "python",
   "nbconvert_exporter": "python",
   "pygments_lexer": "ipython3",
   "version": "3.12.7"
  }
 },
 "nbformat": 4,
 "nbformat_minor": 5
}
