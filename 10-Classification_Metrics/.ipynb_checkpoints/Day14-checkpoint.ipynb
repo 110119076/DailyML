{
 "cells": [
  {
   "cell_type": "markdown",
   "id": "bd8ec7e8",
   "metadata": {},
   "source": [
    "### Classification Metrics"
   ]
  },
  {
   "cell_type": "markdown",
   "id": "4e8cbbdc",
   "metadata": {},
   "source": [
    "Classification Problem\n",
    "\n",
    "1) Class Labels\n",
    "\n",
    "2) Probability"
   ]
  },
  {
   "cell_type": "markdown",
   "id": "8bc96366",
   "metadata": {},
   "source": [
    "Binary classification\n",
    "\n",
    "Let's say 0 or 1\n",
    "\n",
    "By default, probability / threshold = 0.5"
   ]
  },
  {
   "cell_type": "markdown",
   "id": "dce0e4b6",
   "metadata": {},
   "source": [
    "Example: Logistic regression have a default probability of 0.5\n",
    "\n",
    "That means if model predicted probability >= 0.5, then class 1\n",
    "\n",
    "else if model predicted probabilty < 0.5, then class 0"
   ]
  },
  {
   "cell_type": "markdown",
   "id": "d5dfccd5",
   "metadata": {},
   "source": [
    "Balanced dataset in classification problem\n",
    "\n",
    "depends on the problem statement, but in general\n",
    "\n",
    "Upto Classes ratio: 60%:40% or 70%:30% => balanced dataset\n",
    "        \n",
    "If classes ratio: 80%:20% or 90%:10% or 99%:1% (frauds/anomalies) => imbalanced dataset"
   ]
  },
  {
   "cell_type": "markdown",
   "id": "44b404a3",
   "metadata": {},
   "source": [
    "##### Confusion Matrix"
   ]
  },
  {
   "cell_type": "markdown",
   "id": "851359a8",
   "metadata": {},
   "source": [
    "Type1 error (FP):\n",
    "    \n",
    "    FPR = FP / FP + TN\n",
    "    \n",
    "Type2 error (FN):\n",
    "    \n",
    "    FNR = FN / FN + TP"
   ]
  },
  {
   "cell_type": "markdown",
   "id": "950f65ee",
   "metadata": {},
   "source": [
    "Use accuracy only on balanced datasets"
   ]
  },
  {
   "cell_type": "markdown",
   "id": "655983cb",
   "metadata": {},
   "source": [
    "Accuracy = (TP+TN) / (TP+TN+FP+FN)"
   ]
  },
  {
   "cell_type": "markdown",
   "id": "44b67e37",
   "metadata": {},
   "source": [
    "Use Precision, Recall or F-beta score for imbalanced datasets"
   ]
  },
  {
   "cell_type": "markdown",
   "id": "1aca1e12",
   "metadata": {},
   "source": [
    "Precision = TP / (TP+FP)"
   ]
  },
  {
   "cell_type": "markdown",
   "id": "e157bc2a",
   "metadata": {},
   "source": [
    "Recall = TP / (TP+FN)"
   ]
  },
  {
   "cell_type": "markdown",
   "id": "5f6cec20",
   "metadata": {},
   "source": [
    "Precision is also known as positive predicted value"
   ]
  },
  {
   "cell_type": "markdown",
   "id": "99562a4f",
   "metadata": {},
   "source": [
    "Recall is also known as Sensitivity or True Positive Rate"
   ]
  },
  {
   "cell_type": "markdown",
   "id": "64814a71",
   "metadata": {},
   "source": [
    "##### When is Precision important?"
   ]
  },
  {
   "cell_type": "markdown",
   "id": "cef97d5d",
   "metadata": {},
   "source": [
    "Spam detection (0/1)\n",
    "\n",
    "Mail is not spam (actual 0) but model predicted as spam (predicted 1)\n",
    "\n",
    "User might miss an important mail\n",
    "\n",
    "Reduce FP here => Precision is important"
   ]
  },
  {
   "cell_type": "markdown",
   "id": "d8e463c2",
   "metadata": {},
   "source": [
    "##### When is Recall important?"
   ]
  },
  {
   "cell_type": "markdown",
   "id": "af0c332c",
   "metadata": {},
   "source": [
    "Cancer detection (0/1)\n",
    "\n",
    "Patient is having the cancer (actual 1) but model predicted as no cancer (predicted 0)\n",
    "\n",
    "Patient might not detect the cancer in the early stages\n",
    "\n",
    "Reduce FN here => Recall is important"
   ]
  },
  {
   "cell_type": "markdown",
   "id": "a75dc52b",
   "metadata": {},
   "source": [
    "Sometimes, both Precision & Recall might be important"
   ]
  },
  {
   "cell_type": "markdown",
   "id": "5c3a0717",
   "metadata": {},
   "source": [
    "##### Go for F-beta score"
   ]
  },
  {
   "cell_type": "markdown",
   "id": "5384f2a3",
   "metadata": {},
   "source": [
    "F-beta score = (1 + beta** 2) x Precision x Recall / ((beta** 2 x Precision) + Recall)"
   ]
  },
  {
   "cell_type": "markdown",
   "id": "5cbfecf7",
   "metadata": {},
   "source": [
    "F1 score = 2 x Precision x Recall / (Precision + Recall)"
   ]
  },
  {
   "cell_type": "markdown",
   "id": "5ad2b32f",
   "metadata": {},
   "source": [
    "Harmonic mean of Precision & Recall is F1 Score"
   ]
  },
  {
   "cell_type": "markdown",
   "id": "38768863",
   "metadata": {},
   "source": [
    "If Precision important, that means FP must be reduced:\n",
    "    \n",
    "    Reduce the beta, that means use F0.5 score or F0.25 score...\n",
    "    \n",
    "If Recall is important, that means FN must be reduced:\n",
    "    \n",
    "    Increase the beta, that means use F1.5 score or F2 score"
   ]
  },
  {
   "cell_type": "markdown",
   "id": "84e592e3",
   "metadata": {},
   "source": [
    "##### ROC & AUC"
   ]
  },
  {
   "cell_type": "markdown",
   "id": "49acc1e5",
   "metadata": {},
   "source": [
    "Mostly used for binary classification problem"
   ]
  },
  {
   "cell_type": "markdown",
   "id": "1bb3eab8",
   "metadata": {},
   "source": [
    "Helps to choose the threshold probability to classify the example into one of the classes\n",
    "\n",
    "Eg:\n",
    "    \n",
    "    If predicted_probability >= threshold_probability:\n",
    "        \n",
    "        class A\n",
    "    \n",
    "    else:\n",
    "        \n",
    "        class B"
   ]
  },
  {
   "cell_type": "markdown",
   "id": "d185fd9e",
   "metadata": {},
   "source": [
    "![](ROC_AUC.png)"
   ]
  },
  {
   "cell_type": "markdown",
   "id": "7b81e1e7",
   "metadata": {},
   "source": [
    "All the black dots in the above graph are thresholds"
   ]
  },
  {
   "cell_type": "markdown",
   "id": "38d197fa",
   "metadata": {},
   "source": [
    "Choose a list of thresholds and plot a graph b/w TPR & FPR"
   ]
  },
  {
   "cell_type": "markdown",
   "id": "f12ebb67",
   "metadata": {},
   "source": [
    "![](ROC_AUC_Labeled.png)"
   ]
  },
  {
   "cell_type": "markdown",
   "id": "b4ce1666",
   "metadata": {},
   "source": [
    "Note:\n",
    "    \n",
    "    TPR = TP / TP + FP\n",
    "    \n",
    "    FPR = FP / FP + TN"
   ]
  },
  {
   "cell_type": "markdown",
   "id": "1b302141",
   "metadata": {},
   "source": [
    "calculate TPR & FPR for each threshold in that list and plot them on the graph"
   ]
  },
  {
   "cell_type": "markdown",
   "id": "59061d64",
   "metadata": {},
   "source": [
    "Now the black dashed line in the above graph is of AUC = 0.5 which is nothing but a random guess model"
   ]
  },
  {
   "cell_type": "markdown",
   "id": "b819b571",
   "metadata": {},
   "source": [
    "So always remember that the models AUC must be greater than 0.5 (random guess)\n",
    "\n",
    "Otherwise, it's a dumb model with just some random guesses"
   ]
  },
  {
   "cell_type": "markdown",
   "id": "6235367f",
   "metadata": {},
   "source": [
    "Now based on the problem statement, one can choose the threshold\n",
    "\n",
    "Eg:\n",
    "    \n",
    "    Let's say if FPR = 0 & high TPR is required, then choose the threshold on the y-axis with high TPR value"
   ]
  },
  {
   "cell_type": "markdown",
   "id": "940958c2",
   "metadata": {},
   "source": [
    "### Multi Class Classification Problem Performance Metrics"
   ]
  },
  {
   "cell_type": "code",
   "execution_count": 9,
   "id": "d0ea5fb8",
   "metadata": {},
   "outputs": [],
   "source": [
    "import seaborn as sns\n",
    "from sklearn import metrics"
   ]
  },
  {
   "cell_type": "markdown",
   "id": "04cfdcc6",
   "metadata": {},
   "source": [
    "Let the multi classes be\n",
    "\n",
    "A, B & C"
   ]
  },
  {
   "cell_type": "markdown",
   "id": "1dc4c0d3",
   "metadata": {},
   "source": [
    "Precision of A means no. of correctly predicted A out of all predicted A\n",
    "\n",
    "Recall of A means no. of correctly predicted A out of all actual A"
   ]
  },
  {
   "cell_type": "code",
   "execution_count": 2,
   "id": "161beded",
   "metadata": {},
   "outputs": [],
   "source": [
    "A, B, C = \"A\", \"B\", \"C\""
   ]
  },
  {
   "cell_type": "code",
   "execution_count": 3,
   "id": "8ad9ba1a",
   "metadata": {},
   "outputs": [],
   "source": [
    "# actual values\n",
    "\n",
    "y_actual = [A,A,A,A,A, B,B,B,B,B,B,B,B,B,B, C,C,C,C,C,C,C]\n",
    "\n",
    "# predicted values\n",
    "\n",
    "y_pred = [A,A,B,A,C, A,A,A,A,A,B,B,C,C,B, B,B,B,C,C,C,C]"
   ]
  },
  {
   "cell_type": "code",
   "execution_count": 4,
   "id": "e61a3d7c",
   "metadata": {},
   "outputs": [
    {
     "data": {
      "text/plain": [
       "22"
      ]
     },
     "execution_count": 4,
     "metadata": {},
     "output_type": "execute_result"
    }
   ],
   "source": [
    "len(y_actual)"
   ]
  },
  {
   "cell_type": "code",
   "execution_count": 5,
   "id": "57b4fdfb",
   "metadata": {},
   "outputs": [
    {
     "data": {
      "text/plain": [
       "22"
      ]
     },
     "execution_count": 5,
     "metadata": {},
     "output_type": "execute_result"
    }
   ],
   "source": [
    "len(y_pred)"
   ]
  },
  {
   "cell_type": "code",
   "execution_count": 6,
   "id": "7e408262",
   "metadata": {},
   "outputs": [
    {
     "data": {
      "text/plain": [
       "array([[3, 1, 1],\n",
       "       [5, 3, 2],\n",
       "       [0, 3, 4]], dtype=int64)"
      ]
     },
     "execution_count": 6,
     "metadata": {},
     "output_type": "execute_result"
    }
   ],
   "source": [
    "metrics.confusion_matrix(y_actual, y_pred)"
   ]
  },
  {
   "cell_type": "code",
   "execution_count": 14,
   "id": "52476db2",
   "metadata": {
    "scrolled": false
   },
   "outputs": [
    {
     "data": {
      "text/plain": [
       "<Axes: >"
      ]
     },
     "execution_count": 14,
     "metadata": {},
     "output_type": "execute_result"
    },
    {
     "data": {
      "image/png": "[encoded data removed]",
      "text/plain": [
       "<Figure size 640x480 with 2 Axes>"
      ]
     },
     "metadata": {},
     "output_type": "display_data"
    }
   ],
   "source": [
    "sns.heatmap(metrics.confusion_matrix(y_actual, y_pred),annot=True,xticklabels=[\"A_pred\",\"B_pred\",\"C_pred\"],yticklabels=[\"A_actual\",\"B_actual\",\"C_actual\"])"
   ]
  },
  {
   "cell_type": "code",
   "execution_count": 8,
   "id": "1fb8ae63",
   "metadata": {},
   "outputs": [
    {
     "name": "stdout",
     "output_type": "stream",
     "text": [
      "              precision    recall  f1-score   support\n",
      "\n",
      "           A       0.38      0.60      0.46         5\n",
      "           B       0.43      0.30      0.35        10\n",
      "           C       0.57      0.57      0.57         7\n",
      "\n",
      "    accuracy                           0.45        22\n",
      "   macro avg       0.46      0.49      0.46        22\n",
      "weighted avg       0.46      0.45      0.45        22\n",
      "\n"
     ]
    }
   ],
   "source": [
    "print(metrics.classification_report(y_actual, y_pred))"
   ]
  },
  {
   "cell_type": "markdown",
   "id": "2c4c26ca",
   "metadata": {},
   "source": [
    "### Cohen's Kappa"
   ]
  },
  {
   "cell_type": "markdown",
   "id": "7beb2073",
   "metadata": {},
   "source": [
    "For imbalanced dataset"
   ]
  },
  {
   "cell_type": "markdown",
   "id": "5681aa19",
   "metadata": {},
   "source": [
    "![](kappa.png)"
   ]
  },
  {
   "cell_type": "markdown",
   "id": "9f3a3302",
   "metadata": {},
   "source": [
    "po = Observed Agreement (percentage of times the raters agree)\n",
    "\n",
    "𝑝𝑒 = Expected Agreement (agreement by random chance)"
   ]
  },
  {
   "cell_type": "markdown",
   "id": "9f861fe9",
   "metadata": {},
   "source": [
    "Consider the following confusion matrix"
   ]
  },
  {
   "cell_type": "code",
   "execution_count": 15,
   "id": "d290deec",
   "metadata": {},
   "outputs": [],
   "source": [
    "cm = [[50, 10],\n",
    "      [5, 35]]"
   ]
  },
  {
   "cell_type": "code",
   "execution_count": 17,
   "id": "3e9b388f",
   "metadata": {},
   "outputs": [
    {
     "data": {
      "text/plain": [
       "<Axes: >"
      ]
     },
     "execution_count": 17,
     "metadata": {},
     "output_type": "execute_result"
    },
    {
     "data": {
      "image/png": "[encoded data removed]",
      "text/plain": [
       "<Figure size 640x480 with 2 Axes>"
      ]
     },
     "metadata": {},
     "output_type": "display_data"
    }
   ],
   "source": [
    "sns.heatmap(cm,annot=True,xticklabels=[\"A_pred\",\"B_pred\"],yticklabels=[\"A_actual\",\"B_actual\"])"
   ]
  },
  {
   "cell_type": "markdown",
   "id": "ce5cd7bd",
   "metadata": {},
   "source": [
    "Po = Agreed Cases/Total Cases"
   ]
  },
  {
   "cell_type": "code",
   "execution_count": 18,
   "id": "2543d4ad",
   "metadata": {},
   "outputs": [
    {
     "data": {
      "text/plain": [
       "0.85"
      ]
     },
     "execution_count": 18,
     "metadata": {},
     "output_type": "execute_result"
    }
   ],
   "source": [
    "Po = (50+35)/(50+10+5+35)\n",
    "Po"
   ]
  },
  {
   "cell_type": "markdown",
   "id": "2f93b534",
   "metadata": {},
   "source": [
    "Pe = (Apos x Ppos) + (Aneg x Pneg)\n",
    "\n",
    "Apos = Actual positive rate\n",
    "\n",
    "Ppos = Predicted positive rate\n",
    "\n",
    "Aneg = Actual negative rate\n",
    "\n",
    "Pneg = Predicted negative rate"
   ]
  },
  {
   "cell_type": "code",
   "execution_count": 19,
   "id": "afb49042",
   "metadata": {},
   "outputs": [],
   "source": [
    "Apos = (50 + 10) / 100\n",
    "Ppos = (50 + 5) / 100\n",
    "Aneg = (5 + 35) / 100\n",
    "Pneg = (10 + 35) / 100"
   ]
  },
  {
   "cell_type": "code",
   "execution_count": 20,
   "id": "dac68d0d",
   "metadata": {},
   "outputs": [
    {
     "data": {
      "text/plain": [
       "0.51"
      ]
     },
     "execution_count": 20,
     "metadata": {},
     "output_type": "execute_result"
    }
   ],
   "source": [
    "Pe = (Apos*Ppos + Aneg*Pneg)\n",
    "Pe"
   ]
  },
  {
   "cell_type": "code",
   "execution_count": 21,
   "id": "d3d9ecca",
   "metadata": {},
   "outputs": [
    {
     "data": {
      "text/plain": [
       "0.6938775510204082"
      ]
     },
     "execution_count": 21,
     "metadata": {},
     "output_type": "execute_result"
    }
   ],
   "source": [
    "kappa = (Po-Pe)/(1-Pe)\n",
    "kappa"
   ]
  },
  {
   "cell_type": "markdown",
   "id": "496ee533",
   "metadata": {},
   "source": [
    "Since 𝜅=0.69, this indicates **substantial agreement** between the actual and predicted classifications."
   ]
  },
  {
   "cell_type": "markdown",
   "id": "87775452",
   "metadata": {},
   "source": [
    "Note:\n",
    "    \n",
    "𝜅 closer to 0 => No agreement\n",
    "\n",
    "𝜅 closer to 1 => Almost perfect agreement\n"
   ]
  },
  {
   "cell_type": "code",
   "execution_count": null,
   "id": "d9cc66ef",
   "metadata": {},
   "outputs": [],
   "source": []
  }
 ],
 "metadata": {
  "kernelspec": {
   "display_name": "Python 3 (ipykernel)",
   "language": "python",
   "name": "python3"
  },
  "language_info": {
   "codemirror_mode": {
    "name": "ipython",
    "version": 3
   },
   "file_extension": ".py",
   "mimetype": "text/x-python",
   "name": "python",
   "nbconvert_exporter": "python",
   "pygments_lexer": "ipython3",
   "version": "3.11.5"
  }
 },
 "nbformat": 4,
 "nbformat_minor": 5
}
