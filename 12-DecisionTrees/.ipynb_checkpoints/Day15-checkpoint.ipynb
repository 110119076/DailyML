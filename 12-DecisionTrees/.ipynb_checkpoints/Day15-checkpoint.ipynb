{
 "cells": [
  {
   "cell_type": "markdown",
   "id": "0b58f653-8483-4923-a2d4-8de60465f512",
   "metadata": {},
   "source": [
    "### Decision Tree Metrics"
   ]
  },
  {
   "cell_type": "markdown",
   "id": "bb1f3a53-6780-4cb8-a1df-5eeccebb43a7",
   "metadata": {},
   "source": [
    "#### Entropy"
   ]
  },
  {
   "cell_type": "markdown",
   "id": "388fe16a-254b-412b-b74a-1e82282a8a7f",
   "metadata": {},
   "source": [
    "H(s) = - P(+)*log(P(+)) - P(-)*log(P(-))"
   ]
  },
  {
   "cell_type": "markdown",
   "id": "153edd52-07db-4881-a956-6d50120517be",
   "metadata": {},
   "source": [
    "where:\n",
    "\n",
    "    P(+) = % of positive class\n",
    "\n",
    "    P(-) = % of negative class\n",
    "\n",
    "    s = subset of training examples"
   ]
  },
  {
   "cell_type": "markdown",
   "id": "7789261d-bf5f-4016-a846-9daf3d9b28bd",
   "metadata": {},
   "source": [
    "![](Entropy.png)"
   ]
  },
  {
   "cell_type": "markdown",
   "id": "e4a03203-f68e-46b1-b132-fad884b83ad4",
   "metadata": {},
   "source": [
    "#### ID3 Algorithm (Iterative Dichotomiser 3)"
   ]
  },
  {
   "cell_type": "markdown",
   "id": "3c036c9a-eb10-4b24-9110-0a4fca986317",
   "metadata": {},
   "source": [
    "It tells which attribute/feature to select to split the decision tree nodes using Entropy"
   ]
  },
  {
   "cell_type": "markdown",
   "id": "a5403036-13e9-45dd-8238-3256945c2cde",
   "metadata": {},
   "source": [
    "How to select the right attribute?\n",
    "\n",
    "Get the leaf node quickly with less depth"
   ]
  },
  {
   "cell_type": "markdown",
   "id": "875e2dee-6ce3-4fe4-8257-c4e4f4fcf04c",
   "metadata": {},
   "source": [
    "Entropy measures the purity of the split"
   ]
  },
  {
   "cell_type": "markdown",
   "id": "06712c9b-eac8-4304-b249-157f2c324e4e",
   "metadata": {},
   "source": [
    "Note:\n",
    "\n",
    "    0 <= Entropy <= 1"
   ]
  },
  {
   "cell_type": "markdown",
   "id": "da91cda1-4e61-4b14-83e1-c2eab5c1acf6",
   "metadata": {},
   "source": [
    "Feature/Attribute of **Lesser entropy** is always chosen for splitting"
   ]
  },
  {
   "cell_type": "markdown",
   "id": "fe050e8c-a298-4245-91c9-1970a519c949",
   "metadata": {},
   "source": [
    "Entropy of 0 means completely pure split (P(+) or P(-) is 0)\n",
    "\n",
    "Entropy of 1 means completely impure split (P(+) == P(-))"
   ]
  },
  {
   "cell_type": "markdown",
   "id": "c9e04976-3983-4ccc-b605-c4ef29858dfa",
   "metadata": {},
   "source": [
    "#### Information Gain"
   ]
  },
  {
   "cell_type": "markdown",
   "id": "a32b3019-34f4-4429-87c7-afe16747dfad",
   "metadata": {},
   "source": [
    "Calculated from the root node of the tree to the leaf node (top to bottom)"
   ]
  },
  {
   "cell_type": "markdown",
   "id": "a44967cf-8e5a-4be5-b6ca-219699e7f886",
   "metadata": {},
   "source": [
    "Combines all the entropy together"
   ]
  },
  {
   "cell_type": "markdown",
   "id": "35b4050e-386d-4149-9389-a39bfc8ac783",
   "metadata": {},
   "source": [
    "Entropy is calculated for each node"
   ]
  },
  {
   "cell_type": "markdown",
   "id": "37e7eb81-f78a-4c5a-8c6a-041c93741532",
   "metadata": {},
   "source": [
    "IG(S, A) = H(S) - sum((|Sv|/|S|)*H(Sv))"
   ]
  },
  {
   "cell_type": "markdown",
   "id": "e2bd1fed-c5aa-4825-a37b-d8097fe5d705",
   "metadata": {},
   "source": [
    "![](InformationGain.png)"
   ]
  },
  {
   "cell_type": "markdown",
   "id": "c30f4da5-34f4-4547-8b6c-8d68afcf136d",
   "metadata": {},
   "source": [
    "The feature/attribute with **highest Information Gain** are considered for splitting"
   ]
  },
  {
   "cell_type": "markdown",
   "id": "bb343f11-efa5-4f87-ae07-93728a6ad175",
   "metadata": {},
   "source": [
    "#### Gini Impurity"
   ]
  },
  {
   "cell_type": "markdown",
   "id": "e5ad7d8b-3d79-46f3-abf5-d432a2e423b1",
   "metadata": {},
   "source": [
    "GI = 1 - sum(P)**2"
   ]
  },
  {
   "cell_type": "markdown",
   "id": "4a5c2949-f82b-4b06-8223-006474d6b2b4",
   "metadata": {},
   "source": [
    "GI = 1 - (P(+)** 2 + P(-)** 2)"
   ]
  },
  {
   "cell_type": "markdown",
   "id": "f1ef5df8-74a0-465e-861f-8e0c229e0830",
   "metadata": {},
   "source": [
    "![](GiniImpurity.png)"
   ]
  },
  {
   "cell_type": "markdown",
   "id": "a14bde76-0c92-45aa-a395-1f1336a2f366",
   "metadata": {},
   "source": [
    "Gini impurity is computationally efficient than Entropy"
   ]
  },
  {
   "cell_type": "markdown",
   "id": "b54fb675-fcca-4476-b112-92ec30e7957d",
   "metadata": {},
   "source": [
    "Entropy contains logs in its formula => hard to compute, takes much time\n",
    "\n",
    "Gini impurity is easy => easy to compute, takes less time"
   ]
  },
  {
   "cell_type": "markdown",
   "id": "a2ca6976-b8fd-4133-a40e-b5c676cf6552",
   "metadata": {},
   "source": [
    "0 <= Gini impurity <= 1"
   ]
  },
  {
   "cell_type": "markdown",
   "id": "b99b5a93-67df-44e4-af14-2c9af043bc4d",
   "metadata": {},
   "source": [
    "#### Decision Tree Split for Numerical variables"
   ]
  },
  {
   "cell_type": "markdown",
   "id": "1e92a06a-8fe9-457b-8390-304a4191d041",
   "metadata": {},
   "source": [
    "First sort all the values in ascending order\n",
    "\n",
    "Consider some threshold values to create multiple decision trees\n",
    "\n",
    "Check each training sample for that numerical feature and check with the threshold and build a tree\n",
    "\n",
    "Left side <= threshold\n",
    "\n",
    "Right side > threshold\n",
    "\n",
    "Choose another threshold and repeat the above process\n",
    "\n",
    "Calculate Entropy & Information Gain for each such trees and choose the split with best Information Gain"
   ]
  },
  {
   "cell_type": "markdown",
   "id": "1479a2ac-45a2-4679-8dc9-9fc0fd45224b",
   "metadata": {},
   "source": [
    "##### Disadvantages of this approach"
   ]
  },
  {
   "cell_type": "markdown",
   "id": "1c089dc9-74dc-454e-b7c6-f1ea920e29ca",
   "metadata": {},
   "source": [
    "Time complexity is very high\n",
    "\n",
    "Training time is very high"
   ]
  },
  {
   "cell_type": "code",
   "execution_count": null,
   "id": "55a51a0e-3224-42a7-ac3e-678fec21e6f3",
   "metadata": {},
   "outputs": [],
   "source": []
  }
 ],
 "metadata": {
  "kernelspec": {
   "display_name": "Python 3 (ipykernel)",
   "language": "python",
   "name": "python3"
  },
  "language_info": {
   "codemirror_mode": {
    "name": "ipython",
    "version": 3
   },
   "file_extension": ".py",
   "mimetype": "text/x-python",
   "name": "python",
   "nbconvert_exporter": "python",
   "pygments_lexer": "ipython3",
   "version": "3.12.7"
  }
 },
 "nbformat": 4,
 "nbformat_minor": 5
}
