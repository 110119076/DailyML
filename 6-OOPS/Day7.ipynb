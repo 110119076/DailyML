{
 "cells": [
  {
   "cell_type": "markdown",
   "id": "21d957c3",
   "metadata": {},
   "source": [
    "##### What is class?"
   ]
  },
  {
   "cell_type": "markdown",
   "id": "c5f26cf1",
   "metadata": {},
   "source": [
    "class = attributes + methods"
   ]
  },
  {
   "cell_type": "markdown",
   "id": "6d1e07af",
   "metadata": {},
   "source": [
    "##### Empty class"
   ]
  },
  {
   "cell_type": "code",
   "execution_count": 1,
   "id": "29466793",
   "metadata": {},
   "outputs": [],
   "source": [
    "class Car:\n",
    "    pass"
   ]
  },
  {
   "cell_type": "code",
   "execution_count": 2,
   "id": "3b5c58d0",
   "metadata": {},
   "outputs": [],
   "source": [
    "car1 = Car()"
   ]
  },
  {
   "cell_type": "code",
   "execution_count": 3,
   "id": "ca0769e0",
   "metadata": {},
   "outputs": [
    {
     "data": {
      "text/plain": [
       "<__main__.Car at 0x1cc5ad8f5d0>"
      ]
     },
     "execution_count": 3,
     "metadata": {},
     "output_type": "execute_result"
    }
   ],
   "source": [
    "car1"
   ]
  },
  {
   "cell_type": "code",
   "execution_count": 4,
   "id": "ff4f6c42",
   "metadata": {},
   "outputs": [],
   "source": [
    "car1.wheels=4\n",
    "car1.doors=4"
   ]
  },
  {
   "cell_type": "code",
   "execution_count": 5,
   "id": "a14bf956",
   "metadata": {},
   "outputs": [
    {
     "name": "stdout",
     "output_type": "stream",
     "text": [
      "4\n"
     ]
    }
   ],
   "source": [
    "print(car1.doors)"
   ]
  },
  {
   "cell_type": "code",
   "execution_count": 6,
   "id": "612a3cd5",
   "metadata": {},
   "outputs": [],
   "source": [
    "car2 = Car()\n",
    "car2.wheels=4\n",
    "car2.doors=2"
   ]
  },
  {
   "cell_type": "code",
   "execution_count": 7,
   "id": "abb134f4",
   "metadata": {},
   "outputs": [
    {
     "name": "stdout",
     "output_type": "stream",
     "text": [
      "2\n"
     ]
    }
   ],
   "source": [
    "print(car2.doors)"
   ]
  },
  {
   "cell_type": "code",
   "execution_count": 8,
   "id": "4f41fb51",
   "metadata": {},
   "outputs": [],
   "source": [
    "car2.engineType = \"Petrol\""
   ]
  },
  {
   "cell_type": "code",
   "execution_count": 9,
   "id": "b111f835",
   "metadata": {},
   "outputs": [
    {
     "name": "stdout",
     "output_type": "stream",
     "text": [
      "Petrol\n"
     ]
    }
   ],
   "source": [
    "print(car2.engineType)"
   ]
  },
  {
   "cell_type": "markdown",
   "id": "20ddd558",
   "metadata": {},
   "source": [
    "##### Inbuilt functions"
   ]
  },
  {
   "cell_type": "code",
   "execution_count": 10,
   "id": "c145c0cf",
   "metadata": {},
   "outputs": [
    {
     "data": {
      "text/plain": [
       "['__class__',\n",
       " '__delattr__',\n",
       " '__dict__',\n",
       " '__dir__',\n",
       " '__doc__',\n",
       " '__eq__',\n",
       " '__format__',\n",
       " '__ge__',\n",
       " '__getattribute__',\n",
       " '__getstate__',\n",
       " '__gt__',\n",
       " '__hash__',\n",
       " '__init__',\n",
       " '__init_subclass__',\n",
       " '__le__',\n",
       " '__lt__',\n",
       " '__module__',\n",
       " '__ne__',\n",
       " '__new__',\n",
       " '__reduce__',\n",
       " '__reduce_ex__',\n",
       " '__repr__',\n",
       " '__setattr__',\n",
       " '__sizeof__',\n",
       " '__str__',\n",
       " '__subclasshook__',\n",
       " '__weakref__',\n",
       " 'doors',\n",
       " 'wheels']"
      ]
     },
     "execution_count": 10,
     "metadata": {},
     "output_type": "execute_result"
    }
   ],
   "source": [
    "dir(car1)"
   ]
  },
  {
   "cell_type": "markdown",
   "id": "0a6b2a87",
   "metadata": {},
   "source": [
    "___init___ => Constructor"
   ]
  },
  {
   "cell_type": "code",
   "execution_count": 11,
   "id": "c6c6f953",
   "metadata": {},
   "outputs": [],
   "source": [
    "class Car:\n",
    "    def __init__(self,windowCount,doorCount,engineType):\n",
    "        self.windowCount = windowCount\n",
    "        self.doorCount = doorCount\n",
    "        self.engineType = engineType"
   ]
  },
  {
   "cell_type": "code",
   "execution_count": 13,
   "id": "485802f9",
   "metadata": {},
   "outputs": [
    {
     "ename": "TypeError",
     "evalue": "Car.__init__() missing 3 required positional arguments: 'windowCount', 'doorCount', and 'engineType'",
     "output_type": "error",
     "traceback": [
      "\u001b[1;31m---------------------------------------------------------------------------\u001b[0m",
      "\u001b[1;31mTypeError\u001b[0m                                 Traceback (most recent call last)",
      "Cell \u001b[1;32mIn[13], line 1\u001b[0m\n\u001b[1;32m----> 1\u001b[0m car1\u001b[38;5;241m=\u001b[39mCar()\n",
      "\u001b[1;31mTypeError\u001b[0m: Car.__init__() missing 3 required positional arguments: 'windowCount', 'doorCount', and 'engineType'"
     ]
    }
   ],
   "source": [
    "car1=Car()"
   ]
  },
  {
   "cell_type": "code",
   "execution_count": 12,
   "id": "c5803712",
   "metadata": {},
   "outputs": [],
   "source": [
    "car1 = Car(4,4,\"Petrol\")"
   ]
  },
  {
   "cell_type": "code",
   "execution_count": 14,
   "id": "fa2d94e0",
   "metadata": {},
   "outputs": [],
   "source": [
    "car2 = Car(2,2,\"Diesel\")"
   ]
  },
  {
   "cell_type": "code",
   "execution_count": 15,
   "id": "1f2ff918",
   "metadata": {},
   "outputs": [
    {
     "name": "stdout",
     "output_type": "stream",
     "text": [
      "4\n"
     ]
    }
   ],
   "source": [
    "print(car1.windowCount)"
   ]
  },
  {
   "cell_type": "code",
   "execution_count": 16,
   "id": "c551aabd",
   "metadata": {},
   "outputs": [
    {
     "name": "stdout",
     "output_type": "stream",
     "text": [
      "2\n"
     ]
    }
   ],
   "source": [
    "print(car2.windowCount)"
   ]
  },
  {
   "cell_type": "code",
   "execution_count": 17,
   "id": "dd3d9e57",
   "metadata": {},
   "outputs": [
    {
     "name": "stdout",
     "output_type": "stream",
     "text": [
      "Diesel\n"
     ]
    }
   ],
   "source": [
    "print(car2.engineType)"
   ]
  },
  {
   "cell_type": "code",
   "execution_count": 18,
   "id": "56a4eed1",
   "metadata": {},
   "outputs": [
    {
     "name": "stdout",
     "output_type": "stream",
     "text": [
      "<__main__.Car object at 0x000001CC5B34A1D0>\n"
     ]
    }
   ],
   "source": [
    "print(car1)"
   ]
  },
  {
   "cell_type": "code",
   "execution_count": 19,
   "id": "f93fd92d",
   "metadata": {},
   "outputs": [
    {
     "data": {
      "text/plain": [
       "__main__.Car"
      ]
     },
     "execution_count": 19,
     "metadata": {},
     "output_type": "execute_result"
    }
   ],
   "source": [
    "type(car1)"
   ]
  },
  {
   "cell_type": "markdown",
   "id": "5063fd4e",
   "metadata": {},
   "source": [
    "Thus attributes are windowCount, doorCount and engineType here"
   ]
  },
  {
   "cell_type": "markdown",
   "id": "0eb33368",
   "metadata": {},
   "source": [
    "Now let's dive into some methods"
   ]
  },
  {
   "cell_type": "code",
   "execution_count": 20,
   "id": "39469ec8",
   "metadata": {},
   "outputs": [],
   "source": [
    "class Car:\n",
    "    # Constructor methods\n",
    "    def __init__(self,windowCount,doorCount,engineType):\n",
    "        self.windowCount = windowCount\n",
    "        self.doorCount = doorCount\n",
    "        self.engineType = engineType\n",
    "    # Methods\n",
    "    def self_driving(self):\n",
    "        return f\"This is a self-driving {self.engineType} car\""
   ]
  },
  {
   "cell_type": "code",
   "execution_count": 21,
   "id": "e00a8682",
   "metadata": {},
   "outputs": [],
   "source": [
    "car1 = Car(4,4,\"CNG\")"
   ]
  },
  {
   "cell_type": "code",
   "execution_count": 22,
   "id": "c8c604a0",
   "metadata": {},
   "outputs": [
    {
     "data": {
      "text/plain": [
       "'This is a self-driving CNG car'"
      ]
     },
     "execution_count": 22,
     "metadata": {},
     "output_type": "execute_result"
    }
   ],
   "source": [
    "car1.self_driving()"
   ]
  },
  {
   "cell_type": "markdown",
   "id": "d1daa658",
   "metadata": {},
   "source": [
    "### Encapsulation: Public, Protected & Private Variables"
   ]
  },
  {
   "cell_type": "markdown",
   "id": "323ccb12",
   "metadata": {},
   "source": [
    "##### Public variables"
   ]
  },
  {
   "cell_type": "code",
   "execution_count": 28,
   "id": "d37a6b9e",
   "metadata": {},
   "outputs": [],
   "source": [
    "class Car():\n",
    "    def __init__(self,windowCount,doorCount,engineType):\n",
    "        # public Variables (default)\n",
    "        self.windowCount=windowCount\n",
    "        self.doorCount=doorCount\n",
    "        self.engineType=engineType\n",
    "    "
   ]
  },
  {
   "cell_type": "code",
   "execution_count": 24,
   "id": "f1b65377",
   "metadata": {},
   "outputs": [],
   "source": [
    "audi = Car(4,4,\"Diesel\")"
   ]
  },
  {
   "cell_type": "code",
   "execution_count": 25,
   "id": "092ee5c9",
   "metadata": {},
   "outputs": [
    {
     "data": {
      "text/plain": [
       "<__main__.Car at 0x1cc5b3d5550>"
      ]
     },
     "execution_count": 25,
     "metadata": {},
     "output_type": "execute_result"
    }
   ],
   "source": [
    "audi"
   ]
  },
  {
   "cell_type": "code",
   "execution_count": 26,
   "id": "bd9aa226",
   "metadata": {},
   "outputs": [
    {
     "data": {
      "text/plain": [
       "'Diesel'"
      ]
     },
     "execution_count": 26,
     "metadata": {},
     "output_type": "execute_result"
    }
   ],
   "source": [
    "audi.engineType"
   ]
  },
  {
   "cell_type": "code",
   "execution_count": 27,
   "id": "b15c9bfc",
   "metadata": {},
   "outputs": [
    {
     "data": {
      "text/plain": [
       "4"
      ]
     },
     "execution_count": 27,
     "metadata": {},
     "output_type": "execute_result"
    }
   ],
   "source": [
    "audi.doorCount"
   ]
  },
  {
   "cell_type": "markdown",
   "id": "39369fb2",
   "metadata": {},
   "source": [
    "can easily access public variables"
   ]
  },
  {
   "cell_type": "code",
   "execution_count": 29,
   "id": "9ef4cc91",
   "metadata": {},
   "outputs": [
    {
     "data": {
      "text/plain": [
       "['__class__',\n",
       " '__delattr__',\n",
       " '__dict__',\n",
       " '__dir__',\n",
       " '__doc__',\n",
       " '__eq__',\n",
       " '__format__',\n",
       " '__ge__',\n",
       " '__getattribute__',\n",
       " '__getstate__',\n",
       " '__gt__',\n",
       " '__hash__',\n",
       " '__init__',\n",
       " '__init_subclass__',\n",
       " '__le__',\n",
       " '__lt__',\n",
       " '__module__',\n",
       " '__ne__',\n",
       " '__new__',\n",
       " '__reduce__',\n",
       " '__reduce_ex__',\n",
       " '__repr__',\n",
       " '__setattr__',\n",
       " '__sizeof__',\n",
       " '__str__',\n",
       " '__subclasshook__',\n",
       " '__weakref__',\n",
       " 'doorCount',\n",
       " 'engineType',\n",
       " 'windowCount']"
      ]
     },
     "execution_count": 29,
     "metadata": {},
     "output_type": "execute_result"
    }
   ],
   "source": [
    "dir(audi)"
   ]
  },
  {
   "cell_type": "markdown",
   "id": "70905662",
   "metadata": {},
   "source": [
    "the one without any underscore are public variables (Eg. doorCount, windowCount and engineType)"
   ]
  },
  {
   "cell_type": "code",
   "execution_count": 34,
   "id": "57735133",
   "metadata": {},
   "outputs": [
    {
     "data": {
      "text/plain": [
       "2"
      ]
     },
     "execution_count": 34,
     "metadata": {},
     "output_type": "execute_result"
    }
   ],
   "source": [
    "audi.windowCount=2\n",
    "audi.windowCount"
   ]
  },
  {
   "cell_type": "markdown",
   "id": "75fb4ee5",
   "metadata": {},
   "source": [
    "Public variables can be overriden"
   ]
  },
  {
   "cell_type": "markdown",
   "id": "0287fb4f",
   "metadata": {},
   "source": [
    "##### Protected Variables"
   ]
  },
  {
   "cell_type": "code",
   "execution_count": 30,
   "id": "fc1ab2a1",
   "metadata": {},
   "outputs": [],
   "source": [
    "class Car():\n",
    "    def __init__(self,windowCount,doorCount,engineType):\n",
    "        # public Variables (default)\n",
    "        self._windowCount=windowCount\n",
    "        self._doorCount=doorCount\n",
    "        self._engineType=engineType\n",
    "    "
   ]
  },
  {
   "cell_type": "code",
   "execution_count": 31,
   "id": "f83442a6",
   "metadata": {},
   "outputs": [],
   "source": [
    "benz = Car(4,4,\"Petrol\")"
   ]
  },
  {
   "cell_type": "code",
   "execution_count": 32,
   "id": "b4863484",
   "metadata": {},
   "outputs": [
    {
     "ename": "AttributeError",
     "evalue": "'Car' object has no attribute 'windowCount'",
     "output_type": "error",
     "traceback": [
      "\u001b[1;31m---------------------------------------------------------------------------\u001b[0m",
      "\u001b[1;31mAttributeError\u001b[0m                            Traceback (most recent call last)",
      "Cell \u001b[1;32mIn[32], line 1\u001b[0m\n\u001b[1;32m----> 1\u001b[0m benz\u001b[38;5;241m.\u001b[39mwindowCount\n",
      "\u001b[1;31mAttributeError\u001b[0m: 'Car' object has no attribute 'windowCount'"
     ]
    }
   ],
   "source": [
    "benz.windowCount"
   ]
  },
  {
   "cell_type": "code",
   "execution_count": 42,
   "id": "1d6483b4",
   "metadata": {},
   "outputs": [
    {
     "data": {
      "text/plain": [
       "4"
      ]
     },
     "execution_count": 42,
     "metadata": {},
     "output_type": "execute_result"
    }
   ],
   "source": [
    "benz._windowCount"
   ]
  },
  {
   "cell_type": "code",
   "execution_count": 43,
   "id": "f72f485d",
   "metadata": {},
   "outputs": [],
   "source": [
    "benz._windowCount=2"
   ]
  },
  {
   "cell_type": "code",
   "execution_count": 44,
   "id": "f9269c44",
   "metadata": {},
   "outputs": [
    {
     "data": {
      "text/plain": [
       "2"
      ]
     },
     "execution_count": 44,
     "metadata": {},
     "output_type": "execute_result"
    }
   ],
   "source": [
    "benz._windowCount"
   ]
  },
  {
   "cell_type": "code",
   "execution_count": 33,
   "id": "0134f802",
   "metadata": {},
   "outputs": [
    {
     "data": {
      "text/plain": [
       "['__class__',\n",
       " '__delattr__',\n",
       " '__dict__',\n",
       " '__dir__',\n",
       " '__doc__',\n",
       " '__eq__',\n",
       " '__format__',\n",
       " '__ge__',\n",
       " '__getattribute__',\n",
       " '__getstate__',\n",
       " '__gt__',\n",
       " '__hash__',\n",
       " '__init__',\n",
       " '__init_subclass__',\n",
       " '__le__',\n",
       " '__lt__',\n",
       " '__module__',\n",
       " '__ne__',\n",
       " '__new__',\n",
       " '__reduce__',\n",
       " '__reduce_ex__',\n",
       " '__repr__',\n",
       " '__setattr__',\n",
       " '__sizeof__',\n",
       " '__str__',\n",
       " '__subclasshook__',\n",
       " '__weakref__',\n",
       " '_doorCount',\n",
       " '_engineType',\n",
       " '_windowCount']"
      ]
     },
     "execution_count": 33,
     "metadata": {},
     "output_type": "execute_result"
    }
   ],
   "source": [
    "dir(benz)"
   ]
  },
  {
   "cell_type": "code",
   "execution_count": 35,
   "id": "1064eebd",
   "metadata": {},
   "outputs": [],
   "source": [
    "class Truck(Car):\n",
    "    def __init__(self,windowCount,doorCount,engineType,horsePower):\n",
    "        super().__init__(windowCount,doorCount,engineType)\n",
    "        self.horsePower = horsePower\n",
    "    "
   ]
  },
  {
   "cell_type": "code",
   "execution_count": 36,
   "id": "577b9964",
   "metadata": {},
   "outputs": [],
   "source": [
    "truck = Truck(2,2,\"Diesel\",4000)"
   ]
  },
  {
   "cell_type": "code",
   "execution_count": 37,
   "id": "86ab78b4",
   "metadata": {},
   "outputs": [
    {
     "ename": "AttributeError",
     "evalue": "'Truck' object has no attribute 'windowCount'",
     "output_type": "error",
     "traceback": [
      "\u001b[1;31m---------------------------------------------------------------------------\u001b[0m",
      "\u001b[1;31mAttributeError\u001b[0m                            Traceback (most recent call last)",
      "Cell \u001b[1;32mIn[37], line 1\u001b[0m\n\u001b[1;32m----> 1\u001b[0m truck\u001b[38;5;241m.\u001b[39mwindowCount\n",
      "\u001b[1;31mAttributeError\u001b[0m: 'Truck' object has no attribute 'windowCount'"
     ]
    }
   ],
   "source": [
    "truck.windowCount"
   ]
  },
  {
   "cell_type": "code",
   "execution_count": 40,
   "id": "c1a51621",
   "metadata": {},
   "outputs": [
    {
     "data": {
      "text/plain": [
       "2"
      ]
     },
     "execution_count": 40,
     "metadata": {},
     "output_type": "execute_result"
    }
   ],
   "source": [
    "truck._windowCount"
   ]
  },
  {
   "cell_type": "code",
   "execution_count": 38,
   "id": "ea086c60",
   "metadata": {},
   "outputs": [
    {
     "data": {
      "text/plain": [
       "4000"
      ]
     },
     "execution_count": 38,
     "metadata": {},
     "output_type": "execute_result"
    }
   ],
   "source": [
    "truck.horsePower"
   ]
  },
  {
   "cell_type": "code",
   "execution_count": 39,
   "id": "3ca2ca55",
   "metadata": {},
   "outputs": [
    {
     "data": {
      "text/plain": [
       "['__annotations__',\n",
       " '__class__',\n",
       " '__delattr__',\n",
       " '__dict__',\n",
       " '__dir__',\n",
       " '__doc__',\n",
       " '__eq__',\n",
       " '__format__',\n",
       " '__ge__',\n",
       " '__getattribute__',\n",
       " '__getstate__',\n",
       " '__gt__',\n",
       " '__hash__',\n",
       " '__init__',\n",
       " '__init_subclass__',\n",
       " '__le__',\n",
       " '__lt__',\n",
       " '__module__',\n",
       " '__ne__',\n",
       " '__new__',\n",
       " '__reduce__',\n",
       " '__reduce_ex__',\n",
       " '__repr__',\n",
       " '__setattr__',\n",
       " '__sizeof__',\n",
       " '__str__',\n",
       " '__subclasshook__',\n",
       " '__weakref__',\n",
       " '_doorCount',\n",
       " '_engineType',\n",
       " '_windowCount',\n",
       " 'horsePower']"
      ]
     },
     "execution_count": 39,
     "metadata": {},
     "output_type": "execute_result"
    }
   ],
   "source": [
    "dir(truck)"
   ]
  },
  {
   "cell_type": "code",
   "execution_count": 41,
   "id": "adeb2aae",
   "metadata": {},
   "outputs": [
    {
     "data": {
      "text/plain": [
       "4"
      ]
     },
     "execution_count": 41,
     "metadata": {},
     "output_type": "execute_result"
    }
   ],
   "source": [
    "truck._windowCount=4\n",
    "truck._windowCount"
   ]
  },
  {
   "cell_type": "markdown",
   "id": "f39a9633",
   "metadata": {},
   "source": [
    "Good practice to override protected variables using Child Class's object"
   ]
  },
  {
   "cell_type": "markdown",
   "id": "3c32646b",
   "metadata": {},
   "source": [
    "##### Private Variables"
   ]
  },
  {
   "cell_type": "code",
   "execution_count": 45,
   "id": "110d71ec",
   "metadata": {},
   "outputs": [],
   "source": [
    "class Car():\n",
    "    def __init__(self,windowCount,doorCount,engineType):\n",
    "        # public Variables (default)\n",
    "        self.__windowCount=windowCount\n",
    "        self.__doorCount=doorCount\n",
    "        self.__engineType=engineType\n",
    "    "
   ]
  },
  {
   "cell_type": "markdown",
   "id": "8332d6f3",
   "metadata": {},
   "source": [
    "Private variables are defined with double underscore __"
   ]
  },
  {
   "cell_type": "code",
   "execution_count": 46,
   "id": "b55c56a6",
   "metadata": {},
   "outputs": [
    {
     "data": {
      "text/plain": [
       "['__class__',\n",
       " '__delattr__',\n",
       " '__dict__',\n",
       " '__dir__',\n",
       " '__doc__',\n",
       " '__eq__',\n",
       " '__format__',\n",
       " '__ge__',\n",
       " '__getattribute__',\n",
       " '__getstate__',\n",
       " '__gt__',\n",
       " '__hash__',\n",
       " '__init__',\n",
       " '__init_subclass__',\n",
       " '__le__',\n",
       " '__lt__',\n",
       " '__module__',\n",
       " '__ne__',\n",
       " '__new__',\n",
       " '__reduce__',\n",
       " '__reduce_ex__',\n",
       " '__repr__',\n",
       " '__setattr__',\n",
       " '__sizeof__',\n",
       " '__str__',\n",
       " '__subclasshook__',\n",
       " '__weakref__']"
      ]
     },
     "execution_count": 46,
     "metadata": {},
     "output_type": "execute_result"
    }
   ],
   "source": [
    "dir(Car)"
   ]
  },
  {
   "cell_type": "markdown",
   "id": "5b1392c3",
   "metadata": {},
   "source": [
    "As you can clearly see there are no variables here for private variables"
   ]
  },
  {
   "cell_type": "code",
   "execution_count": 47,
   "id": "5db768c3",
   "metadata": {},
   "outputs": [],
   "source": [
    "maruthi = Car(4,4,\"CNG\")"
   ]
  },
  {
   "cell_type": "code",
   "execution_count": 48,
   "id": "751fe551",
   "metadata": {},
   "outputs": [
    {
     "data": {
      "text/plain": [
       "['_Car__doorCount',\n",
       " '_Car__engineType',\n",
       " '_Car__windowCount',\n",
       " '__class__',\n",
       " '__delattr__',\n",
       " '__dict__',\n",
       " '__dir__',\n",
       " '__doc__',\n",
       " '__eq__',\n",
       " '__format__',\n",
       " '__ge__',\n",
       " '__getattribute__',\n",
       " '__getstate__',\n",
       " '__gt__',\n",
       " '__hash__',\n",
       " '__init__',\n",
       " '__init_subclass__',\n",
       " '__le__',\n",
       " '__lt__',\n",
       " '__module__',\n",
       " '__ne__',\n",
       " '__new__',\n",
       " '__reduce__',\n",
       " '__reduce_ex__',\n",
       " '__repr__',\n",
       " '__setattr__',\n",
       " '__sizeof__',\n",
       " '__str__',\n",
       " '__subclasshook__',\n",
       " '__weakref__']"
      ]
     },
     "execution_count": 48,
     "metadata": {},
     "output_type": "execute_result"
    }
   ],
   "source": [
    "dir(maruthi)"
   ]
  },
  {
   "cell_type": "code",
   "execution_count": 49,
   "id": "9b038578",
   "metadata": {},
   "outputs": [
    {
     "data": {
      "text/plain": [
       "'CNG'"
      ]
     },
     "execution_count": 49,
     "metadata": {},
     "output_type": "execute_result"
    }
   ],
   "source": [
    "maruthi._Car__engineType"
   ]
  },
  {
   "cell_type": "markdown",
   "id": "1761d743",
   "metadata": {},
   "source": [
    "### Inheritance"
   ]
  },
  {
   "cell_type": "code",
   "execution_count": 54,
   "id": "c1d0dbc8",
   "metadata": {},
   "outputs": [],
   "source": [
    "class Car():\n",
    "    def __init__(self,windowCount,doorCount,engineType):\n",
    "        self.windowCount=windowCount\n",
    "        self.doorCount=doorCount\n",
    "        self.engineType=engineType\n",
    "    def testDrive(self):\n",
    "        print(\"Test Drive is available\")"
   ]
  },
  {
   "cell_type": "code",
   "execution_count": 55,
   "id": "46178689",
   "metadata": {},
   "outputs": [],
   "source": [
    "car = Car(4,4,\"Diesel\")"
   ]
  },
  {
   "cell_type": "code",
   "execution_count": 56,
   "id": "dc9c4ca3",
   "metadata": {},
   "outputs": [
    {
     "data": {
      "text/plain": [
       "<bound method Car.testDrive of <__main__.Car object at 0x000001CC5B3BD710>>"
      ]
     },
     "execution_count": 56,
     "metadata": {},
     "output_type": "execute_result"
    }
   ],
   "source": [
    "car.testDrive"
   ]
  },
  {
   "cell_type": "code",
   "execution_count": 57,
   "id": "87b702b0",
   "metadata": {},
   "outputs": [
    {
     "name": "stdout",
     "output_type": "stream",
     "text": [
      "Test Drive is available\n"
     ]
    }
   ],
   "source": [
    "car.testDrive()"
   ]
  },
  {
   "cell_type": "code",
   "execution_count": 58,
   "id": "bc87754c",
   "metadata": {},
   "outputs": [
    {
     "data": {
      "text/plain": [
       "['__class__',\n",
       " '__delattr__',\n",
       " '__dict__',\n",
       " '__dir__',\n",
       " '__doc__',\n",
       " '__eq__',\n",
       " '__format__',\n",
       " '__ge__',\n",
       " '__getattribute__',\n",
       " '__getstate__',\n",
       " '__gt__',\n",
       " '__hash__',\n",
       " '__init__',\n",
       " '__init_subclass__',\n",
       " '__le__',\n",
       " '__lt__',\n",
       " '__module__',\n",
       " '__ne__',\n",
       " '__new__',\n",
       " '__reduce__',\n",
       " '__reduce_ex__',\n",
       " '__repr__',\n",
       " '__setattr__',\n",
       " '__sizeof__',\n",
       " '__str__',\n",
       " '__subclasshook__',\n",
       " '__weakref__',\n",
       " 'doorCount',\n",
       " 'engineType',\n",
       " 'testDrive',\n",
       " 'windowCount']"
      ]
     },
     "execution_count": 58,
     "metadata": {},
     "output_type": "execute_result"
    }
   ],
   "source": [
    "dir(car)"
   ]
  },
  {
   "cell_type": "code",
   "execution_count": 61,
   "id": "2a6a56a1",
   "metadata": {},
   "outputs": [],
   "source": [
    "class Audi(Car):\n",
    "    def __init__(self,windowCount,doorCount,engineType,enableAI):\n",
    "        super().__init__(windowCount,doorCount,engineType)\n",
    "        self.enableAI = enableAI\n",
    "    def selfDriving(self):\n",
    "        if(self.enableAI):\n",
    "            print(\"Audi supports Self driving\")\n",
    "        else:\n",
    "            print(\"Does not support Self driving\")"
   ]
  },
  {
   "cell_type": "code",
   "execution_count": 62,
   "id": "b0cef5cf",
   "metadata": {},
   "outputs": [
    {
     "name": "stdout",
     "output_type": "stream",
     "text": [
      "Audi supports Self driving\n"
     ]
    }
   ],
   "source": [
    "audiQ7 = Audi(4,4,\"Diesel\",True)\n",
    "audiQ7.selfDriving()"
   ]
  },
  {
   "cell_type": "code",
   "execution_count": 65,
   "id": "6877479e",
   "metadata": {},
   "outputs": [
    {
     "name": "stdout",
     "output_type": "stream",
     "text": [
      "Test Drive is available\n"
     ]
    }
   ],
   "source": [
    "audiQ7.testDrive()"
   ]
  },
  {
   "cell_type": "code",
   "execution_count": 64,
   "id": "28d5712c",
   "metadata": {},
   "outputs": [
    {
     "name": "stdout",
     "output_type": "stream",
     "text": [
      "Does not support Self driving\n"
     ]
    }
   ],
   "source": [
    "audi = Audi(4,4,\"Diesel\",False)\n",
    "audi.selfDriving()"
   ]
  },
  {
   "cell_type": "code",
   "execution_count": 66,
   "id": "3051963c",
   "metadata": {},
   "outputs": [
    {
     "name": "stdout",
     "output_type": "stream",
     "text": [
      "Test Drive is available\n"
     ]
    }
   ],
   "source": [
    "audi.testDrive()"
   ]
  },
  {
   "cell_type": "code",
   "execution_count": null,
   "id": "b3c24f14",
   "metadata": {},
   "outputs": [],
   "source": []
  }
 ],
 "metadata": {
  "kernelspec": {
   "display_name": "Python 3 (ipykernel)",
   "language": "python",
   "name": "python3"
  },
  "language_info": {
   "codemirror_mode": {
    "name": "ipython",
    "version": 3
   },
   "file_extension": ".py",
   "mimetype": "text/x-python",
   "name": "python",
   "nbconvert_exporter": "python",
   "pygments_lexer": "ipython3",
   "version": "3.11.5"
  }
 },
 "nbformat": 4,
 "nbformat_minor": 5
}
